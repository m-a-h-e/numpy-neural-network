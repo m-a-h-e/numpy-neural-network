{
  "nbformat": 4,
  "nbformat_minor": 0,
  "metadata": {
    "colab": {
      "name": "Copy of inception_mnist.ipynb",
      "provenance": [],
      "collapsed_sections": [],
      "toc_visible": true,
      "include_colab_link": true
    },
    "kernelspec": {
      "name": "python3",
      "display_name": "Python 3"
    }
  },
  "cells": [
    {
      "cell_type": "markdown",
      "metadata": {
        "id": "view-in-github",
        "colab_type": "text"
      },
      "source": [
        "<a href=\"https://colab.research.google.com/github/maideas/numpy-neural-network/blob/master/examples/inception_mnist/inception_mnist.ipynb\" target=\"_parent\"><img src=\"https://colab.research.google.com/assets/colab-badge.svg\" alt=\"Open In Colab\"/></a>"
      ]
    },
    {
      "cell_type": "code",
      "metadata": {
        "id": "_EFvrcXfT-ZO",
        "colab_type": "code",
        "outputId": "a801564c-398c-48b6-cf40-b161a84127dd",
        "colab": {
          "base_uri": "https://localhost:8080/",
          "height": 72
        }
      },
      "source": [
        "from google.colab import drive\n",
        "\n",
        "drive.mount('/content/drive')\n",
        "\n",
        "!ls /content/drive"
      ],
      "execution_count": 0,
      "outputs": [
        {
          "output_type": "stream",
          "text": [
            "Drive already mounted at /content/drive; to attempt to forcibly remount, call drive.mount(\"/content/drive\", force_remount=True).\n",
            "'My Drive'\n"
          ],
          "name": "stdout"
        }
      ]
    },
    {
      "cell_type": "code",
      "metadata": {
        "id": "FJWJzPpSv69m",
        "colab_type": "code",
        "outputId": "079f494b-784d-4498-b334-e83f0d99bcfa",
        "colab": {
          "base_uri": "https://localhost:8080/",
          "height": 34
        }
      },
      "source": [
        "cd /content"
      ],
      "execution_count": 0,
      "outputs": [
        {
          "output_type": "stream",
          "text": [
            "/content\n"
          ],
          "name": "stdout"
        }
      ]
    },
    {
      "cell_type": "code",
      "metadata": {
        "id": "OeEM03O5rI_n",
        "colab_type": "code",
        "outputId": "5c3d8bc5-e270-4d23-8b8b-7e7fe2ca0c91",
        "colab": {
          "base_uri": "https://localhost:8080/",
          "height": 139
        }
      },
      "source": [
        "!rm -rf numpy-neural-network\n",
        "!git clone https://github.com/maideas/numpy-neural-network.git"
      ],
      "execution_count": 0,
      "outputs": [
        {
          "output_type": "stream",
          "text": [
            "Cloning into 'numpy-neural-network'...\n",
            "remote: Enumerating objects: 365, done.\u001b[K\n",
            "remote: Counting objects: 100% (365/365), done.\u001b[K\n",
            "remote: Compressing objects: 100% (227/227), done.\u001b[K\n",
            "remote: Total 886 (delta 203), reused 266 (delta 135), pack-reused 521\u001b[K\n",
            "Receiving objects: 100% (886/886), 68.43 MiB | 42.85 MiB/s, done.\n",
            "Resolving deltas: 100% (494/494), done.\n"
          ],
          "name": "stdout"
        }
      ]
    },
    {
      "cell_type": "code",
      "metadata": {
        "id": "yBuNcC56sp0j",
        "colab_type": "code",
        "outputId": "9ee19d63-dc65-4d60-8c64-dbccb2eabf08",
        "colab": {
          "base_uri": "https://localhost:8080/",
          "height": 34
        }
      },
      "source": [
        "cd /content/numpy-neural-network/examples/inception_mnist/"
      ],
      "execution_count": 0,
      "outputs": [
        {
          "output_type": "stream",
          "text": [
            "/content/numpy-neural-network/examples/inception_mnist\n"
          ],
          "name": "stdout"
        }
      ]
    },
    {
      "cell_type": "code",
      "metadata": {
        "id": "k7_VQiDRvuer",
        "colab_type": "code",
        "colab": {}
      },
      "source": [
        "!mkdir -p png png_2"
      ],
      "execution_count": 0,
      "outputs": []
    },
    {
      "cell_type": "code",
      "metadata": {
        "id": "DglCMsmYs6SN",
        "colab_type": "code",
        "colab": {}
      },
      "source": [
        "import sys\n",
        "\n",
        "sys.path.append(\"../../\")"
      ],
      "execution_count": 0,
      "outputs": []
    },
    {
      "cell_type": "code",
      "metadata": {
        "id": "bn13ZFu2s_R_",
        "colab_type": "code",
        "outputId": "4dfbd7c8-1269-46f5-f34c-edbe7091861b",
        "colab": {
          "base_uri": "https://localhost:8080/",
          "height": 81
        }
      },
      "source": [
        "import numpy as np\n",
        "import matplotlib\n",
        "import matplotlib.pyplot as plt\n",
        "import numpy_neural_network as npnn\n",
        "import npnn_datasets"
      ],
      "execution_count": 0,
      "outputs": []
    },
    {
      "cell_type": "code",
      "metadata": {
        "id": "Inteu4yJtpam",
        "colab_type": "code",
        "colab": {}
      },
      "source": [
        "model = npnn.network.Model([\n",
        "    npnn.Inception((28, 28, 1),\n",
        "           2,\n",
        "        3, 6,\n",
        "        3, 6,\n",
        "           2\n",
        "    ),\n",
        "    npnn.MaxPool(shape_in=(28, 28, 16), shape_out=(14, 14, 16), kernel_size=2),\n",
        "    npnn.Inception((14, 14, 16),\n",
        "            4,\n",
        "        6,  8,\n",
        "        6,  8,\n",
        "            2\n",
        "    ),\n",
        "    npnn.MaxPool(shape_in=(14, 14, 22), shape_out=(7, 7, 22), kernel_size=2),\n",
        "    npnn.Inception((7, 7, 22),\n",
        "           4,\n",
        "        8, 8,\n",
        "        8, 8,\n",
        "           2\n",
        "    ),\n",
        "    npnn.Dense(7*7*22, 140),\n",
        "    npnn.LeakyReLU(140),\n",
        "    npnn.Dense(140, 10),\n",
        "    npnn.Softmax(10)\n",
        "])"
      ],
      "execution_count": 0,
      "outputs": []
    },
    {
      "cell_type": "code",
      "metadata": {
        "id": "z2xuuUIiueWg",
        "colab_type": "code",
        "colab": {}
      },
      "source": [
        "model.loss_layer = npnn.loss_layer.CrossEntropyLoss(10)\n",
        "optimizer = npnn.optimizer.Adam(model, alpha=1e-3)\n",
        "optimizer.dataset = npnn_datasets.MNIST()"
      ],
      "execution_count": 0,
      "outputs": []
    },
    {
      "cell_type": "code",
      "metadata": {
        "id": "KSLve5zIuoVg",
        "colab_type": "code",
        "outputId": "cb39b1a1-1a9a-42f3-fe21-970c2ffc40f7",
        "colab": {
          "base_uri": "https://localhost:8080/",
          "height": 1000
        }
      },
      "source": [
        "plt.ion()\n",
        "plt.show()\n",
        "fig1, ((ax1, ax2), (ax3, ax4)) = plt.subplots(2, 2, figsize=(10,8))\n",
        "fig2, axs = plt.subplots(4, 3, figsize=(10,8))\n",
        "\n",
        "episodes = []\n",
        "\n",
        "mini_train_loss = []\n",
        "mini_validation_loss = []\n",
        "mini_train_accuracy = []\n",
        "mini_validation_accuracy = []\n",
        "\n",
        "for episode in np.arange(400):\n",
        "\n",
        "    # step the optimizer ...\n",
        "    optimizer.step()\n",
        "    episodes.append(episode)\n",
        "\n",
        "    #===========================================================================\n",
        "    # mini batch loss and accuracy\n",
        "    #===========================================================================\n",
        "\n",
        "    tloss = np.mean(optimizer.loss)\n",
        "    taccuracy = optimizer.accuracy\n",
        "\n",
        "    mini_train_loss.append(tloss)\n",
        "    mini_train_accuracy.append(taccuracy)\n",
        "\n",
        "    ax1.cla()\n",
        "    ax1.set_xlabel('episode')\n",
        "    ax1.set_ylabel('train mini-batch loss')\n",
        "    ax1.set_yscale('log')\n",
        "    ax1.set_ylim((min(mini_train_loss)/2.0, max(mini_train_loss)*2.0))\n",
        "    ax1.plot(episodes, mini_train_loss)\n",
        "\n",
        "    ax2.cla()\n",
        "    ax2.set_xlabel('episode')\n",
        "    ax2.set_ylabel('train mini-batch accuracy [%]')\n",
        "    ax2.set_ylim(-5, 105)\n",
        "    ax2.plot(episodes, mini_train_accuracy)\n",
        "\n",
        "    #===========================================================================\n",
        "    # complete dataset loss and accuracy\n",
        "    #===========================================================================\n",
        "\n",
        "    x_validation_batch, t_validation_batch, _ = optimizer.dataset.get_validation_batch()\n",
        "    y_validation_batch = optimizer.predict(x_validation_batch, t_validation_batch)\n",
        "\n",
        "    vloss = np.mean(optimizer.loss)\n",
        "    vaccuracy = optimizer.accuracy\n",
        "\n",
        "    mini_validation_loss.append(vloss)\n",
        "    mini_validation_accuracy.append(vaccuracy)\n",
        "\n",
        "    # print the episode and loss values ...\n",
        "    print(\"episode = {0}, tloss = {1}, vloss = {2}, taccuracy = {3}, vaccuracy = {4}\".format(\n",
        "        episode, tloss, vloss, taccuracy, vaccuracy\n",
        "    ))\n",
        "\n",
        "    ax3.cla()\n",
        "    ax3.set_xlabel('episode')\n",
        "    ax3.set_ylabel('validation mini-batch loss')\n",
        "    ax3.set_yscale('log')\n",
        "    ax3.set_ylim((min(mini_validation_loss)/2.0, max(mini_validation_loss)*2.0))\n",
        "    ax3.plot(episodes, mini_validation_loss, c='tab:orange')\n",
        "\n",
        "    ax4.cla()\n",
        "    ax4.set_xlabel('episode')\n",
        "    ax4.set_ylabel('validation mini-batch accuracy [%]')\n",
        "    ax4.set_ylim(-5, 105)\n",
        "    ax4.plot(episodes, mini_validation_accuracy, c='tab:orange')\n",
        "\n",
        "    #===========================================================================\n",
        "    # network output plots (validation batch based)\n",
        "    #===========================================================================\n",
        "\n",
        "    k = np.arange(x_validation_batch.shape[0])\n",
        "\n",
        "    for n in np.arange(4):\n",
        "        for m in np.arange(3):\n",
        "            c = n * 3 + m\n",
        "            if c < 10:\n",
        "                axs[n, m].cla()\n",
        "                axs[n, m].set_ylim(-0.1, 1.1)\n",
        "                axs[n, m].scatter(k, t_validation_batch[:,c], s=10, c='tab:green')\n",
        "                axs[n, m].scatter(k, y_validation_batch[:,c], s=10, c='tab:orange')\n",
        "\n",
        "    #===========================================================================\n",
        "    # draw and save PNG to generate video files later on\n",
        "    #===========================================================================\n",
        "\n",
        "    plt.draw()\n",
        "    fig1.savefig('png/episode{0:04d}.png'.format(episode))\n",
        "    fig2.savefig('png_2/episode{0:04d}.png'.format(episode))\n",
        "    plt.pause(0.001)"
      ],
      "execution_count": 0,
      "outputs": [
        {
          "output_type": "stream",
          "text": [
            "episode = 0, tloss = 0.2450249920340088, vloss = 0.22640067112796372, taccuracy = 6.862745098039215, vaccuracy = 15.686274509803921\n"
          ],
          "name": "stdout"
        },
        {
          "output_type": "stream",
          "text": [
            "episode = 1, tloss = 0.22896003633472492, vloss = 0.212471655020879, taccuracy = 13.235294117647058, vaccuracy = 31.372549019607842\n"
          ],
          "name": "stdout"
        },
        {
          "output_type": "display_data",
          "data": {
            "text/plain": [
              "<Figure size 432x288 with 0 Axes>"
            ]
          },
          "metadata": {
            "tags": []
          }
        },
        {
          "output_type": "stream",
          "text": [
            "episode = 2, tloss = 0.21276280638210587, vloss = 0.21013494769153404, taccuracy = 24.50980392156863, vaccuracy = 44.6078431372549\n"
          ],
          "name": "stdout"
        },
        {
          "output_type": "display_data",
          "data": {
            "text/plain": [
              "<Figure size 432x288 with 0 Axes>"
            ]
          },
          "metadata": {
            "tags": []
          }
        },
        {
          "output_type": "stream",
          "text": [
            "episode = 3, tloss = 0.20801181383802514, vloss = 0.2037838583093264, taccuracy = 45.588235294117645, vaccuracy = 41.1764705882353\n"
          ],
          "name": "stdout"
        },
        {
          "output_type": "display_data",
          "data": {
            "text/plain": [
              "<Figure size 432x288 with 0 Axes>"
            ]
          },
          "metadata": {
            "tags": []
          }
        },
        {
          "output_type": "stream",
          "text": [
            "episode = 4, tloss = 0.20350903420367286, vloss = 0.2023329431283515, taccuracy = 41.1764705882353, vaccuracy = 48.03921568627451\n"
          ],
          "name": "stdout"
        },
        {
          "output_type": "display_data",
          "data": {
            "text/plain": [
              "<Figure size 432x288 with 0 Axes>"
            ]
          },
          "metadata": {
            "tags": []
          }
        },
        {
          "output_type": "stream",
          "text": [
            "episode = 5, tloss = 0.19923422254623385, vloss = 0.1854230536039973, taccuracy = 47.05882352941177, vaccuracy = 52.94117647058823\n"
          ],
          "name": "stdout"
        },
        {
          "output_type": "display_data",
          "data": {
            "text/plain": [
              "<Figure size 432x288 with 0 Axes>"
            ]
          },
          "metadata": {
            "tags": []
          }
        },
        {
          "output_type": "stream",
          "text": [
            "episode = 6, tloss = 0.18434954733143696, vloss = 0.18490169436292153, taccuracy = 48.03921568627451, vaccuracy = 47.549019607843135\n"
          ],
          "name": "stdout"
        },
        {
          "output_type": "display_data",
          "data": {
            "text/plain": [
              "<Figure size 432x288 with 0 Axes>"
            ]
          },
          "metadata": {
            "tags": []
          }
        },
        {
          "output_type": "stream",
          "text": [
            "episode = 7, tloss = 0.18317524638226587, vloss = 0.18972730511073183, taccuracy = 51.470588235294116, vaccuracy = 47.05882352941177\n"
          ],
          "name": "stdout"
        },
        {
          "output_type": "display_data",
          "data": {
            "text/plain": [
              "<Figure size 432x288 with 0 Axes>"
            ]
          },
          "metadata": {
            "tags": []
          }
        },
        {
          "output_type": "stream",
          "text": [
            "episode = 8, tloss = 0.17781278488536567, vloss = 0.18159292124046184, taccuracy = 50.0, vaccuracy = 46.07843137254902\n"
          ],
          "name": "stdout"
        },
        {
          "output_type": "display_data",
          "data": {
            "text/plain": [
              "<Figure size 432x288 with 0 Axes>"
            ]
          },
          "metadata": {
            "tags": []
          }
        },
        {
          "output_type": "stream",
          "text": [
            "episode = 9, tloss = 0.1851350891197711, vloss = 0.16886857950423637, taccuracy = 49.509803921568626, vaccuracy = 53.431372549019606\n"
          ],
          "name": "stdout"
        },
        {
          "output_type": "display_data",
          "data": {
            "text/plain": [
              "<Figure size 432x288 with 0 Axes>"
            ]
          },
          "metadata": {
            "tags": []
          }
        },
        {
          "output_type": "stream",
          "text": [
            "episode = 10, tloss = 0.16983519966617575, vloss = 0.16864918657644695, taccuracy = 49.509803921568626, vaccuracy = 51.96078431372549\n"
          ],
          "name": "stdout"
        },
        {
          "output_type": "display_data",
          "data": {
            "text/plain": [
              "<Figure size 432x288 with 0 Axes>"
            ]
          },
          "metadata": {
            "tags": []
          }
        },
        {
          "output_type": "stream",
          "text": [
            "episode = 11, tloss = 0.17689309866164277, vloss = 0.17720543657318147, taccuracy = 48.529411764705884, vaccuracy = 53.92156862745098\n"
          ],
          "name": "stdout"
        },
        {
          "output_type": "display_data",
          "data": {
            "text/plain": [
              "<Figure size 432x288 with 0 Axes>"
            ]
          },
          "metadata": {
            "tags": []
          }
        },
        {
          "output_type": "stream",
          "text": [
            "episode = 12, tloss = 0.17335661348804848, vloss = 0.16476135579147042, taccuracy = 48.529411764705884, vaccuracy = 51.470588235294116\n"
          ],
          "name": "stdout"
        },
        {
          "output_type": "display_data",
          "data": {
            "text/plain": [
              "<Figure size 432x288 with 0 Axes>"
            ]
          },
          "metadata": {
            "tags": []
          }
        },
        {
          "output_type": "stream",
          "text": [
            "episode = 13, tloss = 0.1644858712165292, vloss = 0.1522084289121968, taccuracy = 55.88235294117647, vaccuracy = 53.92156862745098\n"
          ],
          "name": "stdout"
        },
        {
          "output_type": "display_data",
          "data": {
            "text/plain": [
              "<Figure size 432x288 with 0 Axes>"
            ]
          },
          "metadata": {
            "tags": []
          }
        },
        {
          "output_type": "stream",
          "text": [
            "episode = 14, tloss = 0.15148658300010526, vloss = 0.16084525872052224, taccuracy = 56.372549019607845, vaccuracy = 53.431372549019606\n"
          ],
          "name": "stdout"
        },
        {
          "output_type": "display_data",
          "data": {
            "text/plain": [
              "<Figure size 432x288 with 0 Axes>"
            ]
          },
          "metadata": {
            "tags": []
          }
        },
        {
          "output_type": "stream",
          "text": [
            "episode = 15, tloss = 0.15490307537030562, vloss = 0.15404160478408827, taccuracy = 48.03921568627451, vaccuracy = 54.411764705882355\n"
          ],
          "name": "stdout"
        },
        {
          "output_type": "display_data",
          "data": {
            "text/plain": [
              "<Figure size 432x288 with 0 Axes>"
            ]
          },
          "metadata": {
            "tags": []
          }
        },
        {
          "output_type": "stream",
          "text": [
            "episode = 16, tloss = 0.14979780725234332, vloss = 0.1542594963540895, taccuracy = 54.411764705882355, vaccuracy = 57.35294117647059\n"
          ],
          "name": "stdout"
        },
        {
          "output_type": "display_data",
          "data": {
            "text/plain": [
              "<Figure size 432x288 with 0 Axes>"
            ]
          },
          "metadata": {
            "tags": []
          }
        },
        {
          "output_type": "stream",
          "text": [
            "episode = 17, tloss = 0.1442638057692749, vloss = 0.14650027003378402, taccuracy = 54.411764705882355, vaccuracy = 59.31372549019608\n"
          ],
          "name": "stdout"
        },
        {
          "output_type": "display_data",
          "data": {
            "text/plain": [
              "<Figure size 432x288 with 0 Axes>"
            ]
          },
          "metadata": {
            "tags": []
          }
        },
        {
          "output_type": "stream",
          "text": [
            "episode = 18, tloss = 0.14651163722466798, vloss = 0.13984613285869218, taccuracy = 53.431372549019606, vaccuracy = 62.254901960784316\n"
          ],
          "name": "stdout"
        },
        {
          "output_type": "display_data",
          "data": {
            "text/plain": [
              "<Figure size 432x288 with 0 Axes>"
            ]
          },
          "metadata": {
            "tags": []
          }
        },
        {
          "output_type": "stream",
          "text": [
            "episode = 19, tloss = 0.1440148534260175, vloss = 0.12554939306153307, taccuracy = 56.86274509803921, vaccuracy = 63.72549019607843\n"
          ],
          "name": "stdout"
        },
        {
          "output_type": "display_data",
          "data": {
            "text/plain": [
              "<Figure size 432x288 with 0 Axes>"
            ]
          },
          "metadata": {
            "tags": []
          }
        },
        {
          "output_type": "stream",
          "text": [
            "episode = 20, tloss = 0.14161034349112311, vloss = 0.14245366846232446, taccuracy = 63.23529411764706, vaccuracy = 62.254901960784316\n"
          ],
          "name": "stdout"
        },
        {
          "output_type": "display_data",
          "data": {
            "text/plain": [
              "<Figure size 432x288 with 0 Axes>"
            ]
          },
          "metadata": {
            "tags": []
          }
        },
        {
          "output_type": "stream",
          "text": [
            "episode = 21, tloss = 0.12674567864063738, vloss = 0.11449412618483949, taccuracy = 67.15686274509804, vaccuracy = 69.11764705882354\n"
          ],
          "name": "stdout"
        },
        {
          "output_type": "display_data",
          "data": {
            "text/plain": [
              "<Figure size 432x288 with 0 Axes>"
            ]
          },
          "metadata": {
            "tags": []
          }
        },
        {
          "output_type": "stream",
          "text": [
            "episode = 22, tloss = 0.12633442946566245, vloss = 0.12730278595534178, taccuracy = 64.70588235294117, vaccuracy = 65.68627450980392\n"
          ],
          "name": "stdout"
        },
        {
          "output_type": "display_data",
          "data": {
            "text/plain": [
              "<Figure size 432x288 with 0 Axes>"
            ]
          },
          "metadata": {
            "tags": []
          }
        },
        {
          "output_type": "stream",
          "text": [
            "episode = 23, tloss = 0.14710554324546743, vloss = 0.13136662826925352, taccuracy = 65.19607843137256, vaccuracy = 63.72549019607843\n"
          ],
          "name": "stdout"
        },
        {
          "output_type": "display_data",
          "data": {
            "text/plain": [
              "<Figure size 432x288 with 0 Axes>"
            ]
          },
          "metadata": {
            "tags": []
          }
        },
        {
          "output_type": "stream",
          "text": [
            "episode = 24, tloss = 0.13109627265234336, vloss = 0.12380327602004024, taccuracy = 56.86274509803921, vaccuracy = 62.254901960784316\n"
          ],
          "name": "stdout"
        },
        {
          "output_type": "display_data",
          "data": {
            "text/plain": [
              "<Figure size 432x288 with 0 Axes>"
            ]
          },
          "metadata": {
            "tags": []
          }
        },
        {
          "output_type": "stream",
          "text": [
            "episode = 25, tloss = 0.1182436331880015, vloss = 0.12275580751520591, taccuracy = 67.15686274509804, vaccuracy = 68.13725490196079\n"
          ],
          "name": "stdout"
        },
        {
          "output_type": "display_data",
          "data": {
            "text/plain": [
              "<Figure size 432x288 with 0 Axes>"
            ]
          },
          "metadata": {
            "tags": []
          }
        },
        {
          "output_type": "stream",
          "text": [
            "episode = 26, tloss = 0.11672371797486598, vloss = 0.13079932332602073, taccuracy = 66.66666666666667, vaccuracy = 59.80392156862745\n"
          ],
          "name": "stdout"
        },
        {
          "output_type": "display_data",
          "data": {
            "text/plain": [
              "<Figure size 432x288 with 0 Axes>"
            ]
          },
          "metadata": {
            "tags": []
          }
        },
        {
          "output_type": "stream",
          "text": [
            "episode = 27, tloss = 0.12874340725584452, vloss = 0.13720311150272177, taccuracy = 57.84313725490196, vaccuracy = 59.80392156862745\n"
          ],
          "name": "stdout"
        },
        {
          "output_type": "display_data",
          "data": {
            "text/plain": [
              "<Figure size 432x288 with 0 Axes>"
            ]
          },
          "metadata": {
            "tags": []
          }
        },
        {
          "output_type": "stream",
          "text": [
            "episode = 28, tloss = 0.11202604693861032, vloss = 0.12993175171383206, taccuracy = 67.6470588235294, vaccuracy = 61.27450980392157\n"
          ],
          "name": "stdout"
        },
        {
          "output_type": "display_data",
          "data": {
            "text/plain": [
              "<Figure size 432x288 with 0 Axes>"
            ]
          },
          "metadata": {
            "tags": []
          }
        },
        {
          "output_type": "stream",
          "text": [
            "episode = 29, tloss = 0.11337286948932077, vloss = 0.12975129499166455, taccuracy = 63.23529411764706, vaccuracy = 61.27450980392157\n"
          ],
          "name": "stdout"
        },
        {
          "output_type": "display_data",
          "data": {
            "text/plain": [
              "<Figure size 432x288 with 0 Axes>"
            ]
          },
          "metadata": {
            "tags": []
          }
        },
        {
          "output_type": "stream",
          "text": [
            "episode = 30, tloss = 0.15095879158591535, vloss = 0.1162704132924445, taccuracy = 62.254901960784316, vaccuracy = 64.2156862745098\n"
          ],
          "name": "stdout"
        },
        {
          "output_type": "display_data",
          "data": {
            "text/plain": [
              "<Figure size 432x288 with 0 Axes>"
            ]
          },
          "metadata": {
            "tags": []
          }
        },
        {
          "output_type": "stream",
          "text": [
            "episode = 31, tloss = 0.1281494117862397, vloss = 0.11491735725855515, taccuracy = 59.80392156862745, vaccuracy = 63.72549019607843\n"
          ],
          "name": "stdout"
        },
        {
          "output_type": "display_data",
          "data": {
            "text/plain": [
              "<Figure size 432x288 with 0 Axes>"
            ]
          },
          "metadata": {
            "tags": []
          }
        },
        {
          "output_type": "stream",
          "text": [
            "episode = 32, tloss = 0.13144708643197572, vloss = 0.11291414324635032, taccuracy = 62.254901960784316, vaccuracy = 66.66666666666667\n"
          ],
          "name": "stdout"
        },
        {
          "output_type": "display_data",
          "data": {
            "text/plain": [
              "<Figure size 432x288 with 0 Axes>"
            ]
          },
          "metadata": {
            "tags": []
          }
        },
        {
          "output_type": "stream",
          "text": [
            "episode = 33, tloss = 0.11761534775392339, vloss = 0.10878587264089024, taccuracy = 69.6078431372549, vaccuracy = 67.15686274509804\n"
          ],
          "name": "stdout"
        },
        {
          "output_type": "display_data",
          "data": {
            "text/plain": [
              "<Figure size 432x288 with 0 Axes>"
            ]
          },
          "metadata": {
            "tags": []
          }
        },
        {
          "output_type": "stream",
          "text": [
            "episode = 34, tloss = 0.11158526817944794, vloss = 0.11054632723939314, taccuracy = 66.66666666666667, vaccuracy = 65.68627450980392\n"
          ],
          "name": "stdout"
        },
        {
          "output_type": "display_data",
          "data": {
            "text/plain": [
              "<Figure size 432x288 with 0 Axes>"
            ]
          },
          "metadata": {
            "tags": []
          }
        },
        {
          "output_type": "stream",
          "text": [
            "episode = 35, tloss = 0.10626421705009155, vloss = 0.1096119734604789, taccuracy = 67.6470588235294, vaccuracy = 60.294117647058826\n"
          ],
          "name": "stdout"
        },
        {
          "output_type": "display_data",
          "data": {
            "text/plain": [
              "<Figure size 432x288 with 0 Axes>"
            ]
          },
          "metadata": {
            "tags": []
          }
        },
        {
          "output_type": "stream",
          "text": [
            "episode = 36, tloss = 0.11883332384101226, vloss = 0.12273288419278232, taccuracy = 66.66666666666667, vaccuracy = 60.294117647058826\n"
          ],
          "name": "stdout"
        },
        {
          "output_type": "display_data",
          "data": {
            "text/plain": [
              "<Figure size 432x288 with 0 Axes>"
            ]
          },
          "metadata": {
            "tags": []
          }
        },
        {
          "output_type": "stream",
          "text": [
            "episode = 37, tloss = 0.12311104583626117, vloss = 0.10533124089976313, taccuracy = 68.62745098039215, vaccuracy = 67.6470588235294\n"
          ],
          "name": "stdout"
        },
        {
          "output_type": "display_data",
          "data": {
            "text/plain": [
              "<Figure size 432x288 with 0 Axes>"
            ]
          },
          "metadata": {
            "tags": []
          }
        },
        {
          "output_type": "stream",
          "text": [
            "episode = 38, tloss = 0.09758549076143916, vloss = 0.1066635245028829, taccuracy = 71.56862745098039, vaccuracy = 65.19607843137256\n"
          ],
          "name": "stdout"
        },
        {
          "output_type": "display_data",
          "data": {
            "text/plain": [
              "<Figure size 432x288 with 0 Axes>"
            ]
          },
          "metadata": {
            "tags": []
          }
        },
        {
          "output_type": "stream",
          "text": [
            "episode = 39, tloss = 0.1022291888813532, vloss = 0.09808541799604098, taccuracy = 70.09803921568627, vaccuracy = 75.49019607843137\n"
          ],
          "name": "stdout"
        },
        {
          "output_type": "display_data",
          "data": {
            "text/plain": [
              "<Figure size 432x288 with 0 Axes>"
            ]
          },
          "metadata": {
            "tags": []
          }
        },
        {
          "output_type": "stream",
          "text": [
            "episode = 40, tloss = 0.1199214544214942, vloss = 0.0991921597827434, taccuracy = 65.68627450980392, vaccuracy = 72.54901960784314\n"
          ],
          "name": "stdout"
        },
        {
          "output_type": "display_data",
          "data": {
            "text/plain": [
              "<Figure size 432x288 with 0 Axes>"
            ]
          },
          "metadata": {
            "tags": []
          }
        },
        {
          "output_type": "stream",
          "text": [
            "episode = 41, tloss = 0.11302896055930825, vloss = 0.0962415739928381, taccuracy = 66.66666666666667, vaccuracy = 71.07843137254902\n"
          ],
          "name": "stdout"
        },
        {
          "output_type": "display_data",
          "data": {
            "text/plain": [
              "<Figure size 432x288 with 0 Axes>"
            ]
          },
          "metadata": {
            "tags": []
          }
        },
        {
          "output_type": "stream",
          "text": [
            "episode = 42, tloss = 0.10853322677439622, vloss = 0.09370349241272503, taccuracy = 71.56862745098039, vaccuracy = 71.07843137254902\n"
          ],
          "name": "stdout"
        },
        {
          "output_type": "display_data",
          "data": {
            "text/plain": [
              "<Figure size 432x288 with 0 Axes>"
            ]
          },
          "metadata": {
            "tags": []
          }
        },
        {
          "output_type": "stream",
          "text": [
            "episode = 43, tloss = 0.14086407104958457, vloss = 0.09887669208666859, taccuracy = 65.19607843137256, vaccuracy = 69.11764705882354\n"
          ],
          "name": "stdout"
        },
        {
          "output_type": "display_data",
          "data": {
            "text/plain": [
              "<Figure size 432x288 with 0 Axes>"
            ]
          },
          "metadata": {
            "tags": []
          }
        },
        {
          "output_type": "stream",
          "text": [
            "episode = 44, tloss = 0.09788385843330827, vloss = 0.09332581307417245, taccuracy = 67.6470588235294, vaccuracy = 71.56862745098039\n"
          ],
          "name": "stdout"
        },
        {
          "output_type": "display_data",
          "data": {
            "text/plain": [
              "<Figure size 432x288 with 0 Axes>"
            ]
          },
          "metadata": {
            "tags": []
          }
        },
        {
          "output_type": "stream",
          "text": [
            "episode = 45, tloss = 0.10151957345743694, vloss = 0.10533272062895475, taccuracy = 69.6078431372549, vaccuracy = 67.15686274509804\n"
          ],
          "name": "stdout"
        },
        {
          "output_type": "display_data",
          "data": {
            "text/plain": [
              "<Figure size 432x288 with 0 Axes>"
            ]
          },
          "metadata": {
            "tags": []
          }
        },
        {
          "output_type": "stream",
          "text": [
            "episode = 46, tloss = 0.10696092940656743, vloss = 0.10041095866984802, taccuracy = 66.17647058823529, vaccuracy = 68.62745098039215\n"
          ],
          "name": "stdout"
        },
        {
          "output_type": "display_data",
          "data": {
            "text/plain": [
              "<Figure size 432x288 with 0 Axes>"
            ]
          },
          "metadata": {
            "tags": []
          }
        },
        {
          "output_type": "stream",
          "text": [
            "episode = 47, tloss = 0.10384711568015466, vloss = 0.09330456844631642, taccuracy = 66.17647058823529, vaccuracy = 67.6470588235294\n"
          ],
          "name": "stdout"
        },
        {
          "output_type": "display_data",
          "data": {
            "text/plain": [
              "<Figure size 432x288 with 0 Axes>"
            ]
          },
          "metadata": {
            "tags": []
          }
        },
        {
          "output_type": "stream",
          "text": [
            "episode = 48, tloss = 0.1054839828643338, vloss = 0.10658271714758157, taccuracy = 65.19607843137256, vaccuracy = 66.17647058823529\n"
          ],
          "name": "stdout"
        },
        {
          "output_type": "display_data",
          "data": {
            "text/plain": [
              "<Figure size 432x288 with 0 Axes>"
            ]
          },
          "metadata": {
            "tags": []
          }
        },
        {
          "output_type": "stream",
          "text": [
            "episode = 49, tloss = 0.10295861714621576, vloss = 0.10412483481919152, taccuracy = 65.68627450980392, vaccuracy = 67.15686274509804\n"
          ],
          "name": "stdout"
        },
        {
          "output_type": "display_data",
          "data": {
            "text/plain": [
              "<Figure size 432x288 with 0 Axes>"
            ]
          },
          "metadata": {
            "tags": []
          }
        },
        {
          "output_type": "stream",
          "text": [
            "episode = 50, tloss = 0.09032158193916004, vloss = 0.10573972675504455, taccuracy = 68.62745098039215, vaccuracy = 66.17647058823529\n"
          ],
          "name": "stdout"
        },
        {
          "output_type": "display_data",
          "data": {
            "text/plain": [
              "<Figure size 432x288 with 0 Axes>"
            ]
          },
          "metadata": {
            "tags": []
          }
        },
        {
          "output_type": "stream",
          "text": [
            "episode = 51, tloss = 0.0924762838267757, vloss = 0.09676725477398615, taccuracy = 72.05882352941177, vaccuracy = 68.62745098039215\n"
          ],
          "name": "stdout"
        },
        {
          "output_type": "display_data",
          "data": {
            "text/plain": [
              "<Figure size 432x288 with 0 Axes>"
            ]
          },
          "metadata": {
            "tags": []
          }
        },
        {
          "output_type": "stream",
          "text": [
            "episode = 52, tloss = 0.0984917554840757, vloss = 0.10757055437209728, taccuracy = 67.6470588235294, vaccuracy = 71.56862745098039\n"
          ],
          "name": "stdout"
        },
        {
          "output_type": "display_data",
          "data": {
            "text/plain": [
              "<Figure size 432x288 with 0 Axes>"
            ]
          },
          "metadata": {
            "tags": []
          }
        },
        {
          "output_type": "stream",
          "text": [
            "episode = 53, tloss = 0.11432600060105155, vloss = 0.098891540532782, taccuracy = 62.745098039215684, vaccuracy = 70.58823529411765\n"
          ],
          "name": "stdout"
        },
        {
          "output_type": "display_data",
          "data": {
            "text/plain": [
              "<Figure size 432x288 with 0 Axes>"
            ]
          },
          "metadata": {
            "tags": []
          }
        },
        {
          "output_type": "stream",
          "text": [
            "episode = 54, tloss = 0.10354971914510067, vloss = 0.09406037591189188, taccuracy = 65.19607843137256, vaccuracy = 74.01960784313725\n"
          ],
          "name": "stdout"
        },
        {
          "output_type": "display_data",
          "data": {
            "text/plain": [
              "<Figure size 432x288 with 0 Axes>"
            ]
          },
          "metadata": {
            "tags": []
          }
        },
        {
          "output_type": "stream",
          "text": [
            "episode = 55, tloss = 0.09987539295759015, vloss = 0.1012380166588552, taccuracy = 66.66666666666667, vaccuracy = 68.62745098039215\n"
          ],
          "name": "stdout"
        },
        {
          "output_type": "display_data",
          "data": {
            "text/plain": [
              "<Figure size 432x288 with 0 Axes>"
            ]
          },
          "metadata": {
            "tags": []
          }
        },
        {
          "output_type": "stream",
          "text": [
            "episode = 56, tloss = 0.10621026202792519, vloss = 0.10103098442965877, taccuracy = 70.09803921568627, vaccuracy = 74.50980392156863\n"
          ],
          "name": "stdout"
        },
        {
          "output_type": "display_data",
          "data": {
            "text/plain": [
              "<Figure size 432x288 with 0 Axes>"
            ]
          },
          "metadata": {
            "tags": []
          }
        },
        {
          "output_type": "stream",
          "text": [
            "episode = 57, tloss = 0.0908226556294774, vloss = 0.09854846509664626, taccuracy = 68.13725490196079, vaccuracy = 70.09803921568627\n"
          ],
          "name": "stdout"
        },
        {
          "output_type": "display_data",
          "data": {
            "text/plain": [
              "<Figure size 432x288 with 0 Axes>"
            ]
          },
          "metadata": {
            "tags": []
          }
        },
        {
          "output_type": "stream",
          "text": [
            "episode = 58, tloss = 0.09884018904767244, vloss = 0.10596002616473144, taccuracy = 71.07843137254902, vaccuracy = 69.6078431372549\n"
          ],
          "name": "stdout"
        },
        {
          "output_type": "display_data",
          "data": {
            "text/plain": [
              "<Figure size 432x288 with 0 Axes>"
            ]
          },
          "metadata": {
            "tags": []
          }
        },
        {
          "output_type": "stream",
          "text": [
            "episode = 59, tloss = 0.10206952806624317, vloss = 0.09050440477836554, taccuracy = 72.05882352941177, vaccuracy = 73.03921568627452\n"
          ],
          "name": "stdout"
        },
        {
          "output_type": "display_data",
          "data": {
            "text/plain": [
              "<Figure size 432x288 with 0 Axes>"
            ]
          },
          "metadata": {
            "tags": []
          }
        },
        {
          "output_type": "stream",
          "text": [
            "episode = 60, tloss = 0.10907508636364269, vloss = 0.11283053919934787, taccuracy = 69.11764705882354, vaccuracy = 67.15686274509804\n"
          ],
          "name": "stdout"
        },
        {
          "output_type": "display_data",
          "data": {
            "text/plain": [
              "<Figure size 432x288 with 0 Axes>"
            ]
          },
          "metadata": {
            "tags": []
          }
        },
        {
          "output_type": "stream",
          "text": [
            "episode = 61, tloss = 0.0958233466466378, vloss = 0.10231792296182776, taccuracy = 72.05882352941177, vaccuracy = 67.6470588235294\n"
          ],
          "name": "stdout"
        },
        {
          "output_type": "display_data",
          "data": {
            "text/plain": [
              "<Figure size 432x288 with 0 Axes>"
            ]
          },
          "metadata": {
            "tags": []
          }
        },
        {
          "output_type": "stream",
          "text": [
            "episode = 62, tloss = 0.11108517905940947, vloss = 0.09174988315524965, taccuracy = 66.66666666666667, vaccuracy = 72.05882352941177\n"
          ],
          "name": "stdout"
        },
        {
          "output_type": "display_data",
          "data": {
            "text/plain": [
              "<Figure size 432x288 with 0 Axes>"
            ]
          },
          "metadata": {
            "tags": []
          }
        },
        {
          "output_type": "stream",
          "text": [
            "episode = 63, tloss = 0.09215491357219095, vloss = 0.10015647359506052, taccuracy = 69.6078431372549, vaccuracy = 68.62745098039215\n"
          ],
          "name": "stdout"
        },
        {
          "output_type": "display_data",
          "data": {
            "text/plain": [
              "<Figure size 432x288 with 0 Axes>"
            ]
          },
          "metadata": {
            "tags": []
          }
        },
        {
          "output_type": "stream",
          "text": [
            "episode = 64, tloss = 0.08550604229143906, vloss = 0.08879814525410067, taccuracy = 72.54901960784314, vaccuracy = 76.47058823529412\n"
          ],
          "name": "stdout"
        },
        {
          "output_type": "display_data",
          "data": {
            "text/plain": [
              "<Figure size 432x288 with 0 Axes>"
            ]
          },
          "metadata": {
            "tags": []
          }
        },
        {
          "output_type": "stream",
          "text": [
            "episode = 65, tloss = 0.09008188504908635, vloss = 0.09605450508630936, taccuracy = 71.56862745098039, vaccuracy = 72.05882352941177\n"
          ],
          "name": "stdout"
        },
        {
          "output_type": "display_data",
          "data": {
            "text/plain": [
              "<Figure size 432x288 with 0 Axes>"
            ]
          },
          "metadata": {
            "tags": []
          }
        },
        {
          "output_type": "stream",
          "text": [
            "episode = 66, tloss = 0.10182679657319446, vloss = 0.08848295914621725, taccuracy = 70.58823529411765, vaccuracy = 72.05882352941177\n"
          ],
          "name": "stdout"
        },
        {
          "output_type": "display_data",
          "data": {
            "text/plain": [
              "<Figure size 432x288 with 0 Axes>"
            ]
          },
          "metadata": {
            "tags": []
          }
        },
        {
          "output_type": "stream",
          "text": [
            "episode = 67, tloss = 0.07906273370943971, vloss = 0.08203814369732179, taccuracy = 75.0, vaccuracy = 74.50980392156863\n"
          ],
          "name": "stdout"
        },
        {
          "output_type": "display_data",
          "data": {
            "text/plain": [
              "<Figure size 432x288 with 0 Axes>"
            ]
          },
          "metadata": {
            "tags": []
          }
        },
        {
          "output_type": "stream",
          "text": [
            "episode = 68, tloss = 0.08413700398826751, vloss = 0.08985837757426603, taccuracy = 75.0, vaccuracy = 74.50980392156863\n"
          ],
          "name": "stdout"
        },
        {
          "output_type": "display_data",
          "data": {
            "text/plain": [
              "<Figure size 432x288 with 0 Axes>"
            ]
          },
          "metadata": {
            "tags": []
          }
        },
        {
          "output_type": "stream",
          "text": [
            "episode = 69, tloss = 0.07953062535150318, vloss = 0.08730452924495943, taccuracy = 77.94117647058823, vaccuracy = 74.01960784313725\n"
          ],
          "name": "stdout"
        },
        {
          "output_type": "display_data",
          "data": {
            "text/plain": [
              "<Figure size 432x288 with 0 Axes>"
            ]
          },
          "metadata": {
            "tags": []
          }
        },
        {
          "output_type": "stream",
          "text": [
            "episode = 70, tloss = 0.09112170108089752, vloss = 0.09735195383362051, taccuracy = 73.52941176470588, vaccuracy = 72.54901960784314\n"
          ],
          "name": "stdout"
        },
        {
          "output_type": "display_data",
          "data": {
            "text/plain": [
              "<Figure size 432x288 with 0 Axes>"
            ]
          },
          "metadata": {
            "tags": []
          }
        },
        {
          "output_type": "stream",
          "text": [
            "episode = 71, tloss = 0.09262956731915857, vloss = 0.07718687154475287, taccuracy = 71.07843137254902, vaccuracy = 75.98039215686275\n"
          ],
          "name": "stdout"
        },
        {
          "output_type": "display_data",
          "data": {
            "text/plain": [
              "<Figure size 432x288 with 0 Axes>"
            ]
          },
          "metadata": {
            "tags": []
          }
        },
        {
          "output_type": "stream",
          "text": [
            "episode = 72, tloss = 0.08475322495455564, vloss = 0.08794756296875, taccuracy = 75.98039215686275, vaccuracy = 70.58823529411765\n"
          ],
          "name": "stdout"
        },
        {
          "output_type": "display_data",
          "data": {
            "text/plain": [
              "<Figure size 432x288 with 0 Axes>"
            ]
          },
          "metadata": {
            "tags": []
          }
        },
        {
          "output_type": "stream",
          "text": [
            "episode = 73, tloss = 0.07965118387201389, vloss = 0.08503392389590352, taccuracy = 79.41176470588235, vaccuracy = 74.01960784313725\n"
          ],
          "name": "stdout"
        },
        {
          "output_type": "display_data",
          "data": {
            "text/plain": [
              "<Figure size 432x288 with 0 Axes>"
            ]
          },
          "metadata": {
            "tags": []
          }
        },
        {
          "output_type": "stream",
          "text": [
            "episode = 74, tloss = 0.10168729130692784, vloss = 0.08467860900348081, taccuracy = 72.05882352941177, vaccuracy = 70.09803921568627\n"
          ],
          "name": "stdout"
        },
        {
          "output_type": "display_data",
          "data": {
            "text/plain": [
              "<Figure size 432x288 with 0 Axes>"
            ]
          },
          "metadata": {
            "tags": []
          }
        },
        {
          "output_type": "stream",
          "text": [
            "episode = 75, tloss = 0.08079991499853387, vloss = 0.08121930612789674, taccuracy = 74.50980392156863, vaccuracy = 72.05882352941177\n"
          ],
          "name": "stdout"
        },
        {
          "output_type": "display_data",
          "data": {
            "text/plain": [
              "<Figure size 432x288 with 0 Axes>"
            ]
          },
          "metadata": {
            "tags": []
          }
        },
        {
          "output_type": "stream",
          "text": [
            "episode = 76, tloss = 0.10989761827359892, vloss = 0.09065156894751647, taccuracy = 73.52941176470588, vaccuracy = 75.49019607843137\n"
          ],
          "name": "stdout"
        },
        {
          "output_type": "display_data",
          "data": {
            "text/plain": [
              "<Figure size 432x288 with 0 Axes>"
            ]
          },
          "metadata": {
            "tags": []
          }
        },
        {
          "output_type": "stream",
          "text": [
            "episode = 77, tloss = 0.09764024332645187, vloss = 0.08479621667753455, taccuracy = 69.11764705882354, vaccuracy = 75.98039215686275\n"
          ],
          "name": "stdout"
        },
        {
          "output_type": "display_data",
          "data": {
            "text/plain": [
              "<Figure size 432x288 with 0 Axes>"
            ]
          },
          "metadata": {
            "tags": []
          }
        },
        {
          "output_type": "stream",
          "text": [
            "episode = 78, tloss = 0.0717418917610836, vloss = 0.08089395372065088, taccuracy = 77.45098039215686, vaccuracy = 77.45098039215686\n"
          ],
          "name": "stdout"
        },
        {
          "output_type": "display_data",
          "data": {
            "text/plain": [
              "<Figure size 432x288 with 0 Axes>"
            ]
          },
          "metadata": {
            "tags": []
          }
        },
        {
          "output_type": "stream",
          "text": [
            "episode = 79, tloss = 0.06537047114681441, vloss = 0.08902316605366717, taccuracy = 83.33333333333333, vaccuracy = 69.11764705882354\n"
          ],
          "name": "stdout"
        },
        {
          "output_type": "display_data",
          "data": {
            "text/plain": [
              "<Figure size 432x288 with 0 Axes>"
            ]
          },
          "metadata": {
            "tags": []
          }
        },
        {
          "output_type": "stream",
          "text": [
            "episode = 80, tloss = 0.08041137983814309, vloss = 0.06690179939620505, taccuracy = 74.50980392156863, vaccuracy = 81.37254901960785\n"
          ],
          "name": "stdout"
        },
        {
          "output_type": "display_data",
          "data": {
            "text/plain": [
              "<Figure size 432x288 with 0 Axes>"
            ]
          },
          "metadata": {
            "tags": []
          }
        },
        {
          "output_type": "stream",
          "text": [
            "episode = 81, tloss = 0.0795927280285629, vloss = 0.07786816575576072, taccuracy = 78.92156862745098, vaccuracy = 72.05882352941177\n"
          ],
          "name": "stdout"
        },
        {
          "output_type": "display_data",
          "data": {
            "text/plain": [
              "<Figure size 432x288 with 0 Axes>"
            ]
          },
          "metadata": {
            "tags": []
          }
        },
        {
          "output_type": "stream",
          "text": [
            "episode = 82, tloss = 0.0805044913922891, vloss = 0.07716224879837283, taccuracy = 75.0, vaccuracy = 77.94117647058823\n"
          ],
          "name": "stdout"
        },
        {
          "output_type": "display_data",
          "data": {
            "text/plain": [
              "<Figure size 432x288 with 0 Axes>"
            ]
          },
          "metadata": {
            "tags": []
          }
        },
        {
          "output_type": "stream",
          "text": [
            "episode = 83, tloss = 0.11383379416041287, vloss = 0.07454734803196703, taccuracy = 72.54901960784314, vaccuracy = 76.47058823529412\n"
          ],
          "name": "stdout"
        },
        {
          "output_type": "display_data",
          "data": {
            "text/plain": [
              "<Figure size 432x288 with 0 Axes>"
            ]
          },
          "metadata": {
            "tags": []
          }
        },
        {
          "output_type": "stream",
          "text": [
            "episode = 84, tloss = 0.08342275609465342, vloss = 0.07349761449088472, taccuracy = 72.54901960784314, vaccuracy = 75.0\n"
          ],
          "name": "stdout"
        },
        {
          "output_type": "display_data",
          "data": {
            "text/plain": [
              "<Figure size 432x288 with 0 Axes>"
            ]
          },
          "metadata": {
            "tags": []
          }
        },
        {
          "output_type": "stream",
          "text": [
            "episode = 85, tloss = 0.0632065654446096, vloss = 0.07580658239780158, taccuracy = 80.88235294117646, vaccuracy = 76.96078431372548\n"
          ],
          "name": "stdout"
        },
        {
          "output_type": "display_data",
          "data": {
            "text/plain": [
              "<Figure size 432x288 with 0 Axes>"
            ]
          },
          "metadata": {
            "tags": []
          }
        },
        {
          "output_type": "stream",
          "text": [
            "episode = 86, tloss = 0.07856398643095522, vloss = 0.07745791868589659, taccuracy = 75.0, vaccuracy = 73.52941176470588\n"
          ],
          "name": "stdout"
        },
        {
          "output_type": "display_data",
          "data": {
            "text/plain": [
              "<Figure size 432x288 with 0 Axes>"
            ]
          },
          "metadata": {
            "tags": []
          }
        },
        {
          "output_type": "stream",
          "text": [
            "episode = 87, tloss = 0.07187522180236398, vloss = 0.07508108622541672, taccuracy = 77.94117647058823, vaccuracy = 75.49019607843137\n"
          ],
          "name": "stdout"
        },
        {
          "output_type": "display_data",
          "data": {
            "text/plain": [
              "<Figure size 432x288 with 0 Axes>"
            ]
          },
          "metadata": {
            "tags": []
          }
        },
        {
          "output_type": "stream",
          "text": [
            "episode = 88, tloss = 0.07966179499325313, vloss = 0.07493783329500339, taccuracy = 75.49019607843137, vaccuracy = 77.45098039215686\n"
          ],
          "name": "stdout"
        },
        {
          "output_type": "display_data",
          "data": {
            "text/plain": [
              "<Figure size 432x288 with 0 Axes>"
            ]
          },
          "metadata": {
            "tags": []
          }
        },
        {
          "output_type": "stream",
          "text": [
            "episode = 89, tloss = 0.08187044393306578, vloss = 0.07632655416994612, taccuracy = 72.05882352941177, vaccuracy = 76.47058823529412\n"
          ],
          "name": "stdout"
        },
        {
          "output_type": "display_data",
          "data": {
            "text/plain": [
              "<Figure size 432x288 with 0 Axes>"
            ]
          },
          "metadata": {
            "tags": []
          }
        },
        {
          "output_type": "stream",
          "text": [
            "episode = 90, tloss = 0.06806901774320642, vloss = 0.07813714931974976, taccuracy = 80.88235294117646, vaccuracy = 77.94117647058823\n"
          ],
          "name": "stdout"
        },
        {
          "output_type": "display_data",
          "data": {
            "text/plain": [
              "<Figure size 432x288 with 0 Axes>"
            ]
          },
          "metadata": {
            "tags": []
          }
        },
        {
          "output_type": "stream",
          "text": [
            "episode = 91, tloss = 0.07485484839923084, vloss = 0.07643560719420071, taccuracy = 77.45098039215686, vaccuracy = 75.49019607843137\n"
          ],
          "name": "stdout"
        },
        {
          "output_type": "display_data",
          "data": {
            "text/plain": [
              "<Figure size 432x288 with 0 Axes>"
            ]
          },
          "metadata": {
            "tags": []
          }
        },
        {
          "output_type": "stream",
          "text": [
            "episode = 92, tloss = 0.07366231684270261, vloss = 0.07060357822804064, taccuracy = 77.45098039215686, vaccuracy = 83.33333333333333\n"
          ],
          "name": "stdout"
        },
        {
          "output_type": "display_data",
          "data": {
            "text/plain": [
              "<Figure size 432x288 with 0 Axes>"
            ]
          },
          "metadata": {
            "tags": []
          }
        },
        {
          "output_type": "stream",
          "text": [
            "episode = 93, tloss = 0.08175419596690012, vloss = 0.0703353185233757, taccuracy = 73.52941176470588, vaccuracy = 79.90196078431373\n"
          ],
          "name": "stdout"
        },
        {
          "output_type": "display_data",
          "data": {
            "text/plain": [
              "<Figure size 432x288 with 0 Axes>"
            ]
          },
          "metadata": {
            "tags": []
          }
        },
        {
          "output_type": "stream",
          "text": [
            "episode = 94, tloss = 0.07739819521894645, vloss = 0.0776708913414994, taccuracy = 75.98039215686275, vaccuracy = 75.98039215686275\n"
          ],
          "name": "stdout"
        },
        {
          "output_type": "display_data",
          "data": {
            "text/plain": [
              "<Figure size 432x288 with 0 Axes>"
            ]
          },
          "metadata": {
            "tags": []
          }
        },
        {
          "output_type": "stream",
          "text": [
            "episode = 95, tloss = 0.07589652929540062, vloss = 0.07937251614888854, taccuracy = 79.90196078431373, vaccuracy = 74.50980392156863\n"
          ],
          "name": "stdout"
        },
        {
          "output_type": "display_data",
          "data": {
            "text/plain": [
              "<Figure size 432x288 with 0 Axes>"
            ]
          },
          "metadata": {
            "tags": []
          }
        },
        {
          "output_type": "stream",
          "text": [
            "episode = 96, tloss = 0.07018841080047804, vloss = 0.07854470615994688, taccuracy = 75.0, vaccuracy = 74.50980392156863\n"
          ],
          "name": "stdout"
        },
        {
          "output_type": "display_data",
          "data": {
            "text/plain": [
              "<Figure size 432x288 with 0 Axes>"
            ]
          },
          "metadata": {
            "tags": []
          }
        },
        {
          "output_type": "stream",
          "text": [
            "episode = 97, tloss = 0.06763926618770856, vloss = 0.09443102728731677, taccuracy = 75.0, vaccuracy = 72.05882352941177\n"
          ],
          "name": "stdout"
        },
        {
          "output_type": "display_data",
          "data": {
            "text/plain": [
              "<Figure size 432x288 with 0 Axes>"
            ]
          },
          "metadata": {
            "tags": []
          }
        },
        {
          "output_type": "stream",
          "text": [
            "episode = 98, tloss = 0.08298675864763101, vloss = 0.07170086306657378, taccuracy = 73.52941176470588, vaccuracy = 77.94117647058823\n"
          ],
          "name": "stdout"
        },
        {
          "output_type": "display_data",
          "data": {
            "text/plain": [
              "<Figure size 432x288 with 0 Axes>"
            ]
          },
          "metadata": {
            "tags": []
          }
        },
        {
          "output_type": "stream",
          "text": [
            "episode = 99, tloss = 0.07857010764429022, vloss = 0.06535552961882798, taccuracy = 74.50980392156863, vaccuracy = 78.92156862745098\n"
          ],
          "name": "stdout"
        },
        {
          "output_type": "display_data",
          "data": {
            "text/plain": [
              "<Figure size 432x288 with 0 Axes>"
            ]
          },
          "metadata": {
            "tags": []
          }
        },
        {
          "output_type": "stream",
          "text": [
            "episode = 100, tloss = 0.0712155226668884, vloss = 0.0703601035643294, taccuracy = 75.49019607843137, vaccuracy = 76.96078431372548\n"
          ],
          "name": "stdout"
        },
        {
          "output_type": "display_data",
          "data": {
            "text/plain": [
              "<Figure size 432x288 with 0 Axes>"
            ]
          },
          "metadata": {
            "tags": []
          }
        },
        {
          "output_type": "stream",
          "text": [
            "episode = 101, tloss = 0.07506221068613253, vloss = 0.0711492172052274, taccuracy = 74.50980392156863, vaccuracy = 76.47058823529412\n"
          ],
          "name": "stdout"
        },
        {
          "output_type": "display_data",
          "data": {
            "text/plain": [
              "<Figure size 432x288 with 0 Axes>"
            ]
          },
          "metadata": {
            "tags": []
          }
        },
        {
          "output_type": "stream",
          "text": [
            "episode = 102, tloss = 0.07048260832943706, vloss = 0.0630919969412452, taccuracy = 75.98039215686275, vaccuracy = 80.88235294117646\n"
          ],
          "name": "stdout"
        },
        {
          "output_type": "display_data",
          "data": {
            "text/plain": [
              "<Figure size 432x288 with 0 Axes>"
            ]
          },
          "metadata": {
            "tags": []
          }
        },
        {
          "output_type": "stream",
          "text": [
            "episode = 103, tloss = 0.07306307154506572, vloss = 0.08441766405988521, taccuracy = 76.96078431372548, vaccuracy = 75.49019607843137\n"
          ],
          "name": "stdout"
        },
        {
          "output_type": "display_data",
          "data": {
            "text/plain": [
              "<Figure size 432x288 with 0 Axes>"
            ]
          },
          "metadata": {
            "tags": []
          }
        },
        {
          "output_type": "stream",
          "text": [
            "episode = 104, tloss = 0.06322200779027956, vloss = 0.07798971583444876, taccuracy = 80.3921568627451, vaccuracy = 74.01960784313725\n"
          ],
          "name": "stdout"
        },
        {
          "output_type": "display_data",
          "data": {
            "text/plain": [
              "<Figure size 432x288 with 0 Axes>"
            ]
          },
          "metadata": {
            "tags": []
          }
        },
        {
          "output_type": "stream",
          "text": [
            "episode = 105, tloss = 0.06530009589501144, vloss = 0.0690654017537066, taccuracy = 79.41176470588235, vaccuracy = 80.3921568627451\n"
          ],
          "name": "stdout"
        },
        {
          "output_type": "display_data",
          "data": {
            "text/plain": [
              "<Figure size 432x288 with 0 Axes>"
            ]
          },
          "metadata": {
            "tags": []
          }
        },
        {
          "output_type": "stream",
          "text": [
            "episode = 106, tloss = 0.05873795700112836, vloss = 0.07744413457484682, taccuracy = 83.33333333333333, vaccuracy = 74.50980392156863\n"
          ],
          "name": "stdout"
        },
        {
          "output_type": "display_data",
          "data": {
            "text/plain": [
              "<Figure size 432x288 with 0 Axes>"
            ]
          },
          "metadata": {
            "tags": []
          }
        },
        {
          "output_type": "stream",
          "text": [
            "episode = 107, tloss = 0.06517200570439893, vloss = 0.08659984361196414, taccuracy = 75.98039215686275, vaccuracy = 77.45098039215686\n"
          ],
          "name": "stdout"
        },
        {
          "output_type": "display_data",
          "data": {
            "text/plain": [
              "<Figure size 432x288 with 0 Axes>"
            ]
          },
          "metadata": {
            "tags": []
          }
        },
        {
          "output_type": "stream",
          "text": [
            "episode = 108, tloss = 0.07431285966143142, vloss = 0.07646214771108407, taccuracy = 73.52941176470588, vaccuracy = 77.94117647058823\n"
          ],
          "name": "stdout"
        },
        {
          "output_type": "display_data",
          "data": {
            "text/plain": [
              "<Figure size 432x288 with 0 Axes>"
            ]
          },
          "metadata": {
            "tags": []
          }
        },
        {
          "output_type": "stream",
          "text": [
            "episode = 109, tloss = 0.06040183175317062, vloss = 0.09149480930560006, taccuracy = 79.90196078431373, vaccuracy = 75.0\n"
          ],
          "name": "stdout"
        },
        {
          "output_type": "display_data",
          "data": {
            "text/plain": [
              "<Figure size 432x288 with 0 Axes>"
            ]
          },
          "metadata": {
            "tags": []
          }
        },
        {
          "output_type": "stream",
          "text": [
            "episode = 110, tloss = 0.0833883489438354, vloss = 0.060574484499173374, taccuracy = 76.47058823529412, vaccuracy = 81.37254901960785\n"
          ],
          "name": "stdout"
        },
        {
          "output_type": "display_data",
          "data": {
            "text/plain": [
              "<Figure size 432x288 with 0 Axes>"
            ]
          },
          "metadata": {
            "tags": []
          }
        },
        {
          "output_type": "stream",
          "text": [
            "episode = 111, tloss = 0.06562312206696533, vloss = 0.058662288105318185, taccuracy = 80.88235294117646, vaccuracy = 81.37254901960785\n"
          ],
          "name": "stdout"
        },
        {
          "output_type": "display_data",
          "data": {
            "text/plain": [
              "<Figure size 432x288 with 0 Axes>"
            ]
          },
          "metadata": {
            "tags": []
          }
        },
        {
          "output_type": "stream",
          "text": [
            "episode = 112, tloss = 0.0666829014871434, vloss = 0.06968875337043387, taccuracy = 75.98039215686275, vaccuracy = 82.3529411764706\n"
          ],
          "name": "stdout"
        },
        {
          "output_type": "display_data",
          "data": {
            "text/plain": [
              "<Figure size 432x288 with 0 Axes>"
            ]
          },
          "metadata": {
            "tags": []
          }
        },
        {
          "output_type": "stream",
          "text": [
            "episode = 113, tloss = 0.06479769190897208, vloss = 0.06434048038597742, taccuracy = 79.90196078431373, vaccuracy = 78.43137254901961\n"
          ],
          "name": "stdout"
        },
        {
          "output_type": "display_data",
          "data": {
            "text/plain": [
              "<Figure size 432x288 with 0 Axes>"
            ]
          },
          "metadata": {
            "tags": []
          }
        },
        {
          "output_type": "stream",
          "text": [
            "episode = 114, tloss = 0.059939747812026975, vloss = 0.08079624144230002, taccuracy = 77.94117647058823, vaccuracy = 75.0\n"
          ],
          "name": "stdout"
        },
        {
          "output_type": "display_data",
          "data": {
            "text/plain": [
              "<Figure size 432x288 with 0 Axes>"
            ]
          },
          "metadata": {
            "tags": []
          }
        },
        {
          "output_type": "stream",
          "text": [
            "episode = 115, tloss = 0.07124134539237496, vloss = 0.06037510221541605, taccuracy = 75.0, vaccuracy = 80.3921568627451\n"
          ],
          "name": "stdout"
        },
        {
          "output_type": "display_data",
          "data": {
            "text/plain": [
              "<Figure size 432x288 with 0 Axes>"
            ]
          },
          "metadata": {
            "tags": []
          }
        },
        {
          "output_type": "stream",
          "text": [
            "episode = 116, tloss = 0.069200097075382, vloss = 0.07119934302599809, taccuracy = 77.94117647058823, vaccuracy = 77.94117647058823\n"
          ],
          "name": "stdout"
        },
        {
          "output_type": "display_data",
          "data": {
            "text/plain": [
              "<Figure size 432x288 with 0 Axes>"
            ]
          },
          "metadata": {
            "tags": []
          }
        },
        {
          "output_type": "stream",
          "text": [
            "episode = 117, tloss = 0.06745083858666243, vloss = 0.06562389418044792, taccuracy = 81.86274509803921, vaccuracy = 78.92156862745098\n"
          ],
          "name": "stdout"
        },
        {
          "output_type": "display_data",
          "data": {
            "text/plain": [
              "<Figure size 432x288 with 0 Axes>"
            ]
          },
          "metadata": {
            "tags": []
          }
        },
        {
          "output_type": "stream",
          "text": [
            "episode = 118, tloss = 0.05902131740965109, vloss = 0.07209825804105241, taccuracy = 79.90196078431373, vaccuracy = 75.0\n"
          ],
          "name": "stdout"
        },
        {
          "output_type": "display_data",
          "data": {
            "text/plain": [
              "<Figure size 432x288 with 0 Axes>"
            ]
          },
          "metadata": {
            "tags": []
          }
        },
        {
          "output_type": "stream",
          "text": [
            "episode = 119, tloss = 0.07330183379992675, vloss = 0.06791608270746186, taccuracy = 80.3921568627451, vaccuracy = 77.45098039215686\n"
          ],
          "name": "stdout"
        },
        {
          "output_type": "display_data",
          "data": {
            "text/plain": [
              "<Figure size 432x288 with 0 Axes>"
            ]
          },
          "metadata": {
            "tags": []
          }
        },
        {
          "output_type": "stream",
          "text": [
            "episode = 120, tloss = 0.06708880236539158, vloss = 0.05221527210814492, taccuracy = 77.94117647058823, vaccuracy = 82.84313725490196\n"
          ],
          "name": "stdout"
        },
        {
          "output_type": "display_data",
          "data": {
            "text/plain": [
              "<Figure size 432x288 with 0 Axes>"
            ]
          },
          "metadata": {
            "tags": []
          }
        },
        {
          "output_type": "stream",
          "text": [
            "episode = 121, tloss = 0.06752918386282031, vloss = 0.06090233208399555, taccuracy = 78.92156862745098, vaccuracy = 80.3921568627451\n"
          ],
          "name": "stdout"
        },
        {
          "output_type": "display_data",
          "data": {
            "text/plain": [
              "<Figure size 432x288 with 0 Axes>"
            ]
          },
          "metadata": {
            "tags": []
          }
        },
        {
          "output_type": "stream",
          "text": [
            "episode = 122, tloss = 0.05953087778032242, vloss = 0.08162248333806174, taccuracy = 82.84313725490196, vaccuracy = 79.41176470588235\n"
          ],
          "name": "stdout"
        },
        {
          "output_type": "display_data",
          "data": {
            "text/plain": [
              "<Figure size 432x288 with 0 Axes>"
            ]
          },
          "metadata": {
            "tags": []
          }
        },
        {
          "output_type": "stream",
          "text": [
            "episode = 123, tloss = 0.0593886692768806, vloss = 0.0662089931033556, taccuracy = 80.3921568627451, vaccuracy = 80.88235294117646\n"
          ],
          "name": "stdout"
        },
        {
          "output_type": "display_data",
          "data": {
            "text/plain": [
              "<Figure size 432x288 with 0 Axes>"
            ]
          },
          "metadata": {
            "tags": []
          }
        },
        {
          "output_type": "stream",
          "text": [
            "episode = 124, tloss = 0.07293375633330852, vloss = 0.06721879828547322, taccuracy = 74.50980392156863, vaccuracy = 76.47058823529412\n"
          ],
          "name": "stdout"
        },
        {
          "output_type": "display_data",
          "data": {
            "text/plain": [
              "<Figure size 432x288 with 0 Axes>"
            ]
          },
          "metadata": {
            "tags": []
          }
        },
        {
          "output_type": "stream",
          "text": [
            "episode = 125, tloss = 0.053507093589412205, vloss = 0.07384519098341329, taccuracy = 83.33333333333333, vaccuracy = 76.96078431372548\n"
          ],
          "name": "stdout"
        },
        {
          "output_type": "display_data",
          "data": {
            "text/plain": [
              "<Figure size 432x288 with 0 Axes>"
            ]
          },
          "metadata": {
            "tags": []
          }
        },
        {
          "output_type": "stream",
          "text": [
            "episode = 126, tloss = 0.06448591734907844, vloss = 0.05629722585209116, taccuracy = 77.45098039215686, vaccuracy = 81.37254901960785\n"
          ],
          "name": "stdout"
        },
        {
          "output_type": "display_data",
          "data": {
            "text/plain": [
              "<Figure size 432x288 with 0 Axes>"
            ]
          },
          "metadata": {
            "tags": []
          }
        },
        {
          "output_type": "stream",
          "text": [
            "episode = 127, tloss = 0.060927152394949405, vloss = 0.0661689170752927, taccuracy = 79.41176470588235, vaccuracy = 79.90196078431373\n"
          ],
          "name": "stdout"
        },
        {
          "output_type": "display_data",
          "data": {
            "text/plain": [
              "<Figure size 432x288 with 0 Axes>"
            ]
          },
          "metadata": {
            "tags": []
          }
        },
        {
          "output_type": "stream",
          "text": [
            "episode = 128, tloss = 0.055047133762850455, vloss = 0.05922568725587344, taccuracy = 79.90196078431373, vaccuracy = 79.90196078431373\n"
          ],
          "name": "stdout"
        },
        {
          "output_type": "display_data",
          "data": {
            "text/plain": [
              "<Figure size 432x288 with 0 Axes>"
            ]
          },
          "metadata": {
            "tags": []
          }
        },
        {
          "output_type": "stream",
          "text": [
            "episode = 129, tloss = 0.05372522821277994, vloss = 0.073244824564181, taccuracy = 84.80392156862744, vaccuracy = 77.94117647058823\n"
          ],
          "name": "stdout"
        },
        {
          "output_type": "display_data",
          "data": {
            "text/plain": [
              "<Figure size 432x288 with 0 Axes>"
            ]
          },
          "metadata": {
            "tags": []
          }
        },
        {
          "output_type": "stream",
          "text": [
            "episode = 130, tloss = 0.05927239562027879, vloss = 0.05684547706700942, taccuracy = 81.86274509803921, vaccuracy = 83.33333333333333\n"
          ],
          "name": "stdout"
        },
        {
          "output_type": "display_data",
          "data": {
            "text/plain": [
              "<Figure size 432x288 with 0 Axes>"
            ]
          },
          "metadata": {
            "tags": []
          }
        },
        {
          "output_type": "stream",
          "text": [
            "episode = 131, tloss = 0.06900780426518291, vloss = 0.059612156540470404, taccuracy = 79.90196078431373, vaccuracy = 81.37254901960785\n"
          ],
          "name": "stdout"
        },
        {
          "output_type": "display_data",
          "data": {
            "text/plain": [
              "<Figure size 432x288 with 0 Axes>"
            ]
          },
          "metadata": {
            "tags": []
          }
        },
        {
          "output_type": "stream",
          "text": [
            "episode = 132, tloss = 0.051607157280580726, vloss = 0.06369611530796042, taccuracy = 82.84313725490196, vaccuracy = 78.43137254901961\n"
          ],
          "name": "stdout"
        },
        {
          "output_type": "display_data",
          "data": {
            "text/plain": [
              "<Figure size 432x288 with 0 Axes>"
            ]
          },
          "metadata": {
            "tags": []
          }
        },
        {
          "output_type": "stream",
          "text": [
            "episode = 133, tloss = 0.06002901760260846, vloss = 0.07321711303567992, taccuracy = 79.41176470588235, vaccuracy = 75.49019607843137\n"
          ],
          "name": "stdout"
        },
        {
          "output_type": "display_data",
          "data": {
            "text/plain": [
              "<Figure size 432x288 with 0 Axes>"
            ]
          },
          "metadata": {
            "tags": []
          }
        },
        {
          "output_type": "stream",
          "text": [
            "episode = 134, tloss = 0.05973466543128768, vloss = 0.06583079056720523, taccuracy = 83.33333333333333, vaccuracy = 82.84313725490196\n"
          ],
          "name": "stdout"
        },
        {
          "output_type": "display_data",
          "data": {
            "text/plain": [
              "<Figure size 432x288 with 0 Axes>"
            ]
          },
          "metadata": {
            "tags": []
          }
        },
        {
          "output_type": "stream",
          "text": [
            "episode = 135, tloss = 0.06169413384679211, vloss = 0.060422373046981136, taccuracy = 79.41176470588235, vaccuracy = 80.3921568627451\n"
          ],
          "name": "stdout"
        },
        {
          "output_type": "display_data",
          "data": {
            "text/plain": [
              "<Figure size 432x288 with 0 Axes>"
            ]
          },
          "metadata": {
            "tags": []
          }
        },
        {
          "output_type": "stream",
          "text": [
            "episode = 136, tloss = 0.05426520814787972, vloss = 0.07487289183854202, taccuracy = 81.86274509803921, vaccuracy = 77.94117647058823\n"
          ],
          "name": "stdout"
        },
        {
          "output_type": "display_data",
          "data": {
            "text/plain": [
              "<Figure size 432x288 with 0 Axes>"
            ]
          },
          "metadata": {
            "tags": []
          }
        },
        {
          "output_type": "stream",
          "text": [
            "episode = 137, tloss = 0.06533016525577506, vloss = 0.0647781806027517, taccuracy = 82.84313725490196, vaccuracy = 77.94117647058823\n"
          ],
          "name": "stdout"
        },
        {
          "output_type": "display_data",
          "data": {
            "text/plain": [
              "<Figure size 432x288 with 0 Axes>"
            ]
          },
          "metadata": {
            "tags": []
          }
        },
        {
          "output_type": "stream",
          "text": [
            "episode = 138, tloss = 0.0670839924548768, vloss = 0.06282656348950258, taccuracy = 80.3921568627451, vaccuracy = 81.37254901960785\n"
          ],
          "name": "stdout"
        },
        {
          "output_type": "display_data",
          "data": {
            "text/plain": [
              "<Figure size 432x288 with 0 Axes>"
            ]
          },
          "metadata": {
            "tags": []
          }
        },
        {
          "output_type": "stream",
          "text": [
            "episode = 139, tloss = 0.05679295956721422, vloss = 0.06452280637051352, taccuracy = 83.33333333333333, vaccuracy = 79.90196078431373\n"
          ],
          "name": "stdout"
        },
        {
          "output_type": "display_data",
          "data": {
            "text/plain": [
              "<Figure size 432x288 with 0 Axes>"
            ]
          },
          "metadata": {
            "tags": []
          }
        },
        {
          "output_type": "stream",
          "text": [
            "episode = 140, tloss = 0.0545367023097153, vloss = 0.06252812129761495, taccuracy = 81.86274509803921, vaccuracy = 81.86274509803921\n"
          ],
          "name": "stdout"
        },
        {
          "output_type": "display_data",
          "data": {
            "text/plain": [
              "<Figure size 432x288 with 0 Axes>"
            ]
          },
          "metadata": {
            "tags": []
          }
        },
        {
          "output_type": "stream",
          "text": [
            "episode = 141, tloss = 0.06808067423224054, vloss = 0.06417961928007353, taccuracy = 78.43137254901961, vaccuracy = 80.88235294117646\n"
          ],
          "name": "stdout"
        },
        {
          "output_type": "display_data",
          "data": {
            "text/plain": [
              "<Figure size 432x288 with 0 Axes>"
            ]
          },
          "metadata": {
            "tags": []
          }
        },
        {
          "output_type": "stream",
          "text": [
            "episode = 142, tloss = 0.05504408135195763, vloss = 0.06310511765991797, taccuracy = 82.84313725490196, vaccuracy = 80.3921568627451\n"
          ],
          "name": "stdout"
        },
        {
          "output_type": "display_data",
          "data": {
            "text/plain": [
              "<Figure size 432x288 with 0 Axes>"
            ]
          },
          "metadata": {
            "tags": []
          }
        },
        {
          "output_type": "stream",
          "text": [
            "episode = 143, tloss = 0.054672750637441016, vloss = 0.07497919264168404, taccuracy = 83.33333333333333, vaccuracy = 82.3529411764706\n"
          ],
          "name": "stdout"
        },
        {
          "output_type": "display_data",
          "data": {
            "text/plain": [
              "<Figure size 432x288 with 0 Axes>"
            ]
          },
          "metadata": {
            "tags": []
          }
        },
        {
          "output_type": "stream",
          "text": [
            "episode = 144, tloss = 0.06878822870686536, vloss = 0.06303708425601867, taccuracy = 76.96078431372548, vaccuracy = 78.43137254901961\n"
          ],
          "name": "stdout"
        },
        {
          "output_type": "display_data",
          "data": {
            "text/plain": [
              "<Figure size 432x288 with 0 Axes>"
            ]
          },
          "metadata": {
            "tags": []
          }
        },
        {
          "output_type": "stream",
          "text": [
            "episode = 145, tloss = 0.0712742846826311, vloss = 0.05927758164908542, taccuracy = 77.45098039215686, vaccuracy = 84.31372549019608\n"
          ],
          "name": "stdout"
        },
        {
          "output_type": "display_data",
          "data": {
            "text/plain": [
              "<Figure size 432x288 with 0 Axes>"
            ]
          },
          "metadata": {
            "tags": []
          }
        },
        {
          "output_type": "stream",
          "text": [
            "episode = 146, tloss = 0.05541722467424339, vloss = 0.06025244997929051, taccuracy = 82.3529411764706, vaccuracy = 84.31372549019608\n"
          ],
          "name": "stdout"
        },
        {
          "output_type": "display_data",
          "data": {
            "text/plain": [
              "<Figure size 432x288 with 0 Axes>"
            ]
          },
          "metadata": {
            "tags": []
          }
        },
        {
          "output_type": "stream",
          "text": [
            "episode = 147, tloss = 0.06619968610000718, vloss = 0.07052083950903205, taccuracy = 75.0, vaccuracy = 75.98039215686275\n"
          ],
          "name": "stdout"
        },
        {
          "output_type": "display_data",
          "data": {
            "text/plain": [
              "<Figure size 432x288 with 0 Axes>"
            ]
          },
          "metadata": {
            "tags": []
          }
        },
        {
          "output_type": "stream",
          "text": [
            "episode = 148, tloss = 0.061383445064688694, vloss = 0.05620478492179988, taccuracy = 79.41176470588235, vaccuracy = 82.3529411764706\n"
          ],
          "name": "stdout"
        },
        {
          "output_type": "display_data",
          "data": {
            "text/plain": [
              "<Figure size 432x288 with 0 Axes>"
            ]
          },
          "metadata": {
            "tags": []
          }
        },
        {
          "output_type": "stream",
          "text": [
            "episode = 149, tloss = 0.07744898103604905, vloss = 0.07102108320713363, taccuracy = 77.45098039215686, vaccuracy = 77.94117647058823\n"
          ],
          "name": "stdout"
        },
        {
          "output_type": "display_data",
          "data": {
            "text/plain": [
              "<Figure size 432x288 with 0 Axes>"
            ]
          },
          "metadata": {
            "tags": []
          }
        },
        {
          "output_type": "stream",
          "text": [
            "episode = 150, tloss = 0.06161116856396396, vloss = 0.059292514651684745, taccuracy = 78.92156862745098, vaccuracy = 80.3921568627451\n"
          ],
          "name": "stdout"
        },
        {
          "output_type": "display_data",
          "data": {
            "text/plain": [
              "<Figure size 432x288 with 0 Axes>"
            ]
          },
          "metadata": {
            "tags": []
          }
        },
        {
          "output_type": "stream",
          "text": [
            "episode = 151, tloss = 0.06550029205333213, vloss = 0.06664349617111438, taccuracy = 78.92156862745098, vaccuracy = 78.92156862745098\n"
          ],
          "name": "stdout"
        },
        {
          "output_type": "display_data",
          "data": {
            "text/plain": [
              "<Figure size 432x288 with 0 Axes>"
            ]
          },
          "metadata": {
            "tags": []
          }
        },
        {
          "output_type": "stream",
          "text": [
            "episode = 152, tloss = 0.06294976621814923, vloss = 0.063941636017184, taccuracy = 79.41176470588235, vaccuracy = 79.41176470588235\n"
          ],
          "name": "stdout"
        },
        {
          "output_type": "display_data",
          "data": {
            "text/plain": [
              "<Figure size 432x288 with 0 Axes>"
            ]
          },
          "metadata": {
            "tags": []
          }
        },
        {
          "output_type": "stream",
          "text": [
            "episode = 153, tloss = 0.051575052710864225, vloss = 0.05799043224096025, taccuracy = 83.82352941176471, vaccuracy = 82.84313725490196\n"
          ],
          "name": "stdout"
        },
        {
          "output_type": "display_data",
          "data": {
            "text/plain": [
              "<Figure size 432x288 with 0 Axes>"
            ]
          },
          "metadata": {
            "tags": []
          }
        },
        {
          "output_type": "stream",
          "text": [
            "episode = 154, tloss = 0.06093875134086174, vloss = 0.06680372639065218, taccuracy = 83.82352941176471, vaccuracy = 84.31372549019608\n"
          ],
          "name": "stdout"
        },
        {
          "output_type": "display_data",
          "data": {
            "text/plain": [
              "<Figure size 432x288 with 0 Axes>"
            ]
          },
          "metadata": {
            "tags": []
          }
        },
        {
          "output_type": "stream",
          "text": [
            "episode = 155, tloss = 0.059993026260521366, vloss = 0.06684482335399497, taccuracy = 82.84313725490196, vaccuracy = 80.88235294117646\n"
          ],
          "name": "stdout"
        },
        {
          "output_type": "display_data",
          "data": {
            "text/plain": [
              "<Figure size 432x288 with 0 Axes>"
            ]
          },
          "metadata": {
            "tags": []
          }
        },
        {
          "output_type": "stream",
          "text": [
            "episode = 156, tloss = 0.065589472778539, vloss = 0.06757658491131183, taccuracy = 77.45098039215686, vaccuracy = 84.31372549019608\n"
          ],
          "name": "stdout"
        },
        {
          "output_type": "display_data",
          "data": {
            "text/plain": [
              "<Figure size 432x288 with 0 Axes>"
            ]
          },
          "metadata": {
            "tags": []
          }
        },
        {
          "output_type": "stream",
          "text": [
            "episode = 157, tloss = 0.06673060170426463, vloss = 0.060237003096476435, taccuracy = 84.80392156862744, vaccuracy = 82.3529411764706\n"
          ],
          "name": "stdout"
        },
        {
          "output_type": "display_data",
          "data": {
            "text/plain": [
              "<Figure size 432x288 with 0 Axes>"
            ]
          },
          "metadata": {
            "tags": []
          }
        },
        {
          "output_type": "stream",
          "text": [
            "episode = 158, tloss = 0.05573318812619264, vloss = 0.05880638483306808, taccuracy = 83.82352941176471, vaccuracy = 83.82352941176471\n"
          ],
          "name": "stdout"
        },
        {
          "output_type": "display_data",
          "data": {
            "text/plain": [
              "<Figure size 432x288 with 0 Axes>"
            ]
          },
          "metadata": {
            "tags": []
          }
        },
        {
          "output_type": "stream",
          "text": [
            "episode = 159, tloss = 0.06551039617500927, vloss = 0.05140002422561764, taccuracy = 79.90196078431373, vaccuracy = 82.84313725490196\n"
          ],
          "name": "stdout"
        },
        {
          "output_type": "display_data",
          "data": {
            "text/plain": [
              "<Figure size 432x288 with 0 Axes>"
            ]
          },
          "metadata": {
            "tags": []
          }
        },
        {
          "output_type": "stream",
          "text": [
            "episode = 160, tloss = 0.0604995829594631, vloss = 0.04663005882273505, taccuracy = 85.7843137254902, vaccuracy = 87.74509803921569\n"
          ],
          "name": "stdout"
        },
        {
          "output_type": "display_data",
          "data": {
            "text/plain": [
              "<Figure size 432x288 with 0 Axes>"
            ]
          },
          "metadata": {
            "tags": []
          }
        },
        {
          "output_type": "stream",
          "text": [
            "episode = 161, tloss = 0.05832540830184683, vloss = 0.07357022729120381, taccuracy = 81.86274509803921, vaccuracy = 81.86274509803921\n"
          ],
          "name": "stdout"
        },
        {
          "output_type": "display_data",
          "data": {
            "text/plain": [
              "<Figure size 432x288 with 0 Axes>"
            ]
          },
          "metadata": {
            "tags": []
          }
        },
        {
          "output_type": "stream",
          "text": [
            "episode = 162, tloss = 0.05465544736782898, vloss = 0.05367956009190263, taccuracy = 86.27450980392157, vaccuracy = 80.3921568627451\n"
          ],
          "name": "stdout"
        },
        {
          "output_type": "display_data",
          "data": {
            "text/plain": [
              "<Figure size 432x288 with 0 Axes>"
            ]
          },
          "metadata": {
            "tags": []
          }
        },
        {
          "output_type": "stream",
          "text": [
            "episode = 163, tloss = 0.04872789310880664, vloss = 0.05348547349741609, taccuracy = 82.3529411764706, vaccuracy = 83.82352941176471\n"
          ],
          "name": "stdout"
        },
        {
          "output_type": "display_data",
          "data": {
            "text/plain": [
              "<Figure size 432x288 with 0 Axes>"
            ]
          },
          "metadata": {
            "tags": []
          }
        },
        {
          "output_type": "stream",
          "text": [
            "episode = 164, tloss = 0.05834692891302914, vloss = 0.05258184580378748, taccuracy = 82.3529411764706, vaccuracy = 85.7843137254902\n"
          ],
          "name": "stdout"
        },
        {
          "output_type": "display_data",
          "data": {
            "text/plain": [
              "<Figure size 432x288 with 0 Axes>"
            ]
          },
          "metadata": {
            "tags": []
          }
        },
        {
          "output_type": "stream",
          "text": [
            "episode = 165, tloss = 0.06598483031211075, vloss = 0.054937010449637225, taccuracy = 77.94117647058823, vaccuracy = 80.88235294117646\n"
          ],
          "name": "stdout"
        },
        {
          "output_type": "display_data",
          "data": {
            "text/plain": [
              "<Figure size 432x288 with 0 Axes>"
            ]
          },
          "metadata": {
            "tags": []
          }
        },
        {
          "output_type": "stream",
          "text": [
            "episode = 166, tloss = 0.059071466555663754, vloss = 0.046769160070916846, taccuracy = 79.90196078431373, vaccuracy = 85.29411764705883\n"
          ],
          "name": "stdout"
        },
        {
          "output_type": "display_data",
          "data": {
            "text/plain": [
              "<Figure size 432x288 with 0 Axes>"
            ]
          },
          "metadata": {
            "tags": []
          }
        },
        {
          "output_type": "stream",
          "text": [
            "episode = 167, tloss = 0.06653405607620548, vloss = 0.05451691515406606, taccuracy = 79.41176470588235, vaccuracy = 82.3529411764706\n"
          ],
          "name": "stdout"
        },
        {
          "output_type": "display_data",
          "data": {
            "text/plain": [
              "<Figure size 432x288 with 0 Axes>"
            ]
          },
          "metadata": {
            "tags": []
          }
        },
        {
          "output_type": "stream",
          "text": [
            "episode = 168, tloss = 0.05335714735539303, vloss = 0.06417115263411596, taccuracy = 83.33333333333333, vaccuracy = 77.94117647058823\n"
          ],
          "name": "stdout"
        },
        {
          "output_type": "display_data",
          "data": {
            "text/plain": [
              "<Figure size 432x288 with 0 Axes>"
            ]
          },
          "metadata": {
            "tags": []
          }
        },
        {
          "output_type": "stream",
          "text": [
            "episode = 169, tloss = 0.05415137281724732, vloss = 0.07922063099198723, taccuracy = 82.84313725490196, vaccuracy = 78.43137254901961\n"
          ],
          "name": "stdout"
        },
        {
          "output_type": "display_data",
          "data": {
            "text/plain": [
              "<Figure size 432x288 with 0 Axes>"
            ]
          },
          "metadata": {
            "tags": []
          }
        },
        {
          "output_type": "stream",
          "text": [
            "episode = 170, tloss = 0.06490469724150036, vloss = 0.06413611475140814, taccuracy = 82.3529411764706, vaccuracy = 79.90196078431373\n"
          ],
          "name": "stdout"
        },
        {
          "output_type": "display_data",
          "data": {
            "text/plain": [
              "<Figure size 432x288 with 0 Axes>"
            ]
          },
          "metadata": {
            "tags": []
          }
        },
        {
          "output_type": "stream",
          "text": [
            "episode = 171, tloss = 0.06651605033392712, vloss = 0.051564289437635226, taccuracy = 79.41176470588235, vaccuracy = 85.7843137254902\n"
          ],
          "name": "stdout"
        },
        {
          "output_type": "display_data",
          "data": {
            "text/plain": [
              "<Figure size 432x288 with 0 Axes>"
            ]
          },
          "metadata": {
            "tags": []
          }
        },
        {
          "output_type": "stream",
          "text": [
            "episode = 172, tloss = 0.05016502775796657, vloss = 0.07114718063804194, taccuracy = 81.37254901960785, vaccuracy = 77.94117647058823\n"
          ],
          "name": "stdout"
        },
        {
          "output_type": "display_data",
          "data": {
            "text/plain": [
              "<Figure size 432x288 with 0 Axes>"
            ]
          },
          "metadata": {
            "tags": []
          }
        },
        {
          "output_type": "stream",
          "text": [
            "episode = 173, tloss = 0.05503788587114714, vloss = 0.051956831218696695, taccuracy = 85.29411764705883, vaccuracy = 86.27450980392157\n"
          ],
          "name": "stdout"
        },
        {
          "output_type": "display_data",
          "data": {
            "text/plain": [
              "<Figure size 432x288 with 0 Axes>"
            ]
          },
          "metadata": {
            "tags": []
          }
        },
        {
          "output_type": "stream",
          "text": [
            "episode = 174, tloss = 0.05993297338453605, vloss = 0.05039807622417804, taccuracy = 82.84313725490196, vaccuracy = 85.29411764705883\n"
          ],
          "name": "stdout"
        },
        {
          "output_type": "display_data",
          "data": {
            "text/plain": [
              "<Figure size 432x288 with 0 Axes>"
            ]
          },
          "metadata": {
            "tags": []
          }
        },
        {
          "output_type": "stream",
          "text": [
            "episode = 175, tloss = 0.053401127936666404, vloss = 0.05476788808566496, taccuracy = 82.84313725490196, vaccuracy = 83.33333333333333\n"
          ],
          "name": "stdout"
        },
        {
          "output_type": "display_data",
          "data": {
            "text/plain": [
              "<Figure size 432x288 with 0 Axes>"
            ]
          },
          "metadata": {
            "tags": []
          }
        },
        {
          "output_type": "stream",
          "text": [
            "episode = 176, tloss = 0.058137220658912005, vloss = 0.0634783634050698, taccuracy = 82.84313725490196, vaccuracy = 80.3921568627451\n"
          ],
          "name": "stdout"
        },
        {
          "output_type": "display_data",
          "data": {
            "text/plain": [
              "<Figure size 432x288 with 0 Axes>"
            ]
          },
          "metadata": {
            "tags": []
          }
        },
        {
          "output_type": "stream",
          "text": [
            "episode = 177, tloss = 0.05707795136798079, vloss = 0.04938991338403379, taccuracy = 81.37254901960785, vaccuracy = 87.25490196078431\n"
          ],
          "name": "stdout"
        },
        {
          "output_type": "display_data",
          "data": {
            "text/plain": [
              "<Figure size 432x288 with 0 Axes>"
            ]
          },
          "metadata": {
            "tags": []
          }
        },
        {
          "output_type": "stream",
          "text": [
            "episode = 178, tloss = 0.04085886487986391, vloss = 0.0481436434792271, taccuracy = 87.74509803921569, vaccuracy = 86.27450980392157\n"
          ],
          "name": "stdout"
        },
        {
          "output_type": "display_data",
          "data": {
            "text/plain": [
              "<Figure size 432x288 with 0 Axes>"
            ]
          },
          "metadata": {
            "tags": []
          }
        },
        {
          "output_type": "stream",
          "text": [
            "episode = 179, tloss = 0.06970829646924112, vloss = 0.07006744454930201, taccuracy = 80.88235294117646, vaccuracy = 79.90196078431373\n"
          ],
          "name": "stdout"
        },
        {
          "output_type": "display_data",
          "data": {
            "text/plain": [
              "<Figure size 432x288 with 0 Axes>"
            ]
          },
          "metadata": {
            "tags": []
          }
        },
        {
          "output_type": "stream",
          "text": [
            "episode = 180, tloss = 0.04869215134261672, vloss = 0.045946983743930137, taccuracy = 85.29411764705883, vaccuracy = 85.29411764705883\n"
          ],
          "name": "stdout"
        },
        {
          "output_type": "display_data",
          "data": {
            "text/plain": [
              "<Figure size 432x288 with 0 Axes>"
            ]
          },
          "metadata": {
            "tags": []
          }
        },
        {
          "output_type": "stream",
          "text": [
            "episode = 181, tloss = 0.04683334548705104, vloss = 0.04979130116117016, taccuracy = 88.72549019607843, vaccuracy = 83.33333333333333\n"
          ],
          "name": "stdout"
        },
        {
          "output_type": "display_data",
          "data": {
            "text/plain": [
              "<Figure size 432x288 with 0 Axes>"
            ]
          },
          "metadata": {
            "tags": []
          }
        },
        {
          "output_type": "stream",
          "text": [
            "episode = 182, tloss = 0.041609716819022306, vloss = 0.059332119098264094, taccuracy = 87.74509803921569, vaccuracy = 81.37254901960785\n"
          ],
          "name": "stdout"
        },
        {
          "output_type": "display_data",
          "data": {
            "text/plain": [
              "<Figure size 432x288 with 0 Axes>"
            ]
          },
          "metadata": {
            "tags": []
          }
        },
        {
          "output_type": "stream",
          "text": [
            "episode = 183, tloss = 0.06970123752522409, vloss = 0.059164672508627336, taccuracy = 78.43137254901961, vaccuracy = 86.27450980392157\n"
          ],
          "name": "stdout"
        },
        {
          "output_type": "display_data",
          "data": {
            "text/plain": [
              "<Figure size 432x288 with 0 Axes>"
            ]
          },
          "metadata": {
            "tags": []
          }
        },
        {
          "output_type": "stream",
          "text": [
            "episode = 184, tloss = 0.052775312512080674, vloss = 0.047805902796547665, taccuracy = 83.82352941176471, vaccuracy = 87.25490196078431\n"
          ],
          "name": "stdout"
        },
        {
          "output_type": "display_data",
          "data": {
            "text/plain": [
              "<Figure size 432x288 with 0 Axes>"
            ]
          },
          "metadata": {
            "tags": []
          }
        },
        {
          "output_type": "stream",
          "text": [
            "episode = 185, tloss = 0.06656578220439831, vloss = 0.0556163207965061, taccuracy = 77.94117647058823, vaccuracy = 80.88235294117646\n"
          ],
          "name": "stdout"
        },
        {
          "output_type": "display_data",
          "data": {
            "text/plain": [
              "<Figure size 432x288 with 0 Axes>"
            ]
          },
          "metadata": {
            "tags": []
          }
        },
        {
          "output_type": "stream",
          "text": [
            "episode = 186, tloss = 0.060088292050570424, vloss = 0.05547103127074353, taccuracy = 81.86274509803921, vaccuracy = 82.3529411764706\n"
          ],
          "name": "stdout"
        },
        {
          "output_type": "display_data",
          "data": {
            "text/plain": [
              "<Figure size 432x288 with 0 Axes>"
            ]
          },
          "metadata": {
            "tags": []
          }
        },
        {
          "output_type": "stream",
          "text": [
            "episode = 187, tloss = 0.057901326043339495, vloss = 0.04718803503859695, taccuracy = 81.86274509803921, vaccuracy = 85.7843137254902\n"
          ],
          "name": "stdout"
        },
        {
          "output_type": "display_data",
          "data": {
            "text/plain": [
              "<Figure size 432x288 with 0 Axes>"
            ]
          },
          "metadata": {
            "tags": []
          }
        },
        {
          "output_type": "stream",
          "text": [
            "episode = 188, tloss = 0.05418787693897775, vloss = 0.045190117132164954, taccuracy = 82.84313725490196, vaccuracy = 86.27450980392157\n"
          ],
          "name": "stdout"
        },
        {
          "output_type": "display_data",
          "data": {
            "text/plain": [
              "<Figure size 432x288 with 0 Axes>"
            ]
          },
          "metadata": {
            "tags": []
          }
        },
        {
          "output_type": "stream",
          "text": [
            "episode = 189, tloss = 0.05664221278556212, vloss = 0.05636530610833941, taccuracy = 82.3529411764706, vaccuracy = 88.72549019607843\n"
          ],
          "name": "stdout"
        },
        {
          "output_type": "display_data",
          "data": {
            "text/plain": [
              "<Figure size 432x288 with 0 Axes>"
            ]
          },
          "metadata": {
            "tags": []
          }
        },
        {
          "output_type": "stream",
          "text": [
            "episode = 190, tloss = 0.055042220841257164, vloss = 0.05023700701717125, taccuracy = 83.33333333333333, vaccuracy = 87.25490196078431\n"
          ],
          "name": "stdout"
        },
        {
          "output_type": "display_data",
          "data": {
            "text/plain": [
              "<Figure size 432x288 with 0 Axes>"
            ]
          },
          "metadata": {
            "tags": []
          }
        },
        {
          "output_type": "stream",
          "text": [
            "episode = 191, tloss = 0.046228068219989774, vloss = 0.046364066216523295, taccuracy = 85.7843137254902, vaccuracy = 86.27450980392157\n"
          ],
          "name": "stdout"
        },
        {
          "output_type": "display_data",
          "data": {
            "text/plain": [
              "<Figure size 432x288 with 0 Axes>"
            ]
          },
          "metadata": {
            "tags": []
          }
        },
        {
          "output_type": "stream",
          "text": [
            "episode = 192, tloss = 0.046541569717600165, vloss = 0.05883554783032545, taccuracy = 85.7843137254902, vaccuracy = 78.92156862745098\n"
          ],
          "name": "stdout"
        },
        {
          "output_type": "display_data",
          "data": {
            "text/plain": [
              "<Figure size 432x288 with 0 Axes>"
            ]
          },
          "metadata": {
            "tags": []
          }
        },
        {
          "output_type": "stream",
          "text": [
            "episode = 193, tloss = 0.04191987676937997, vloss = 0.05383803230649823, taccuracy = 86.76470588235294, vaccuracy = 83.33333333333333\n"
          ],
          "name": "stdout"
        },
        {
          "output_type": "display_data",
          "data": {
            "text/plain": [
              "<Figure size 432x288 with 0 Axes>"
            ]
          },
          "metadata": {
            "tags": []
          }
        },
        {
          "output_type": "stream",
          "text": [
            "episode = 194, tloss = 0.05769197894232765, vloss = 0.054930360032483236, taccuracy = 80.88235294117646, vaccuracy = 85.29411764705883\n"
          ],
          "name": "stdout"
        },
        {
          "output_type": "display_data",
          "data": {
            "text/plain": [
              "<Figure size 432x288 with 0 Axes>"
            ]
          },
          "metadata": {
            "tags": []
          }
        },
        {
          "output_type": "stream",
          "text": [
            "episode = 195, tloss = 0.06143242036467045, vloss = 0.05218884184219765, taccuracy = 80.88235294117646, vaccuracy = 82.84313725490196\n"
          ],
          "name": "stdout"
        },
        {
          "output_type": "display_data",
          "data": {
            "text/plain": [
              "<Figure size 432x288 with 0 Axes>"
            ]
          },
          "metadata": {
            "tags": []
          }
        },
        {
          "output_type": "stream",
          "text": [
            "episode = 196, tloss = 0.057642971326996396, vloss = 0.060165349591422876, taccuracy = 82.3529411764706, vaccuracy = 78.43137254901961\n"
          ],
          "name": "stdout"
        },
        {
          "output_type": "display_data",
          "data": {
            "text/plain": [
              "<Figure size 432x288 with 0 Axes>"
            ]
          },
          "metadata": {
            "tags": []
          }
        },
        {
          "output_type": "stream",
          "text": [
            "episode = 197, tloss = 0.050674943732879264, vloss = 0.050617353998305706, taccuracy = 85.7843137254902, vaccuracy = 84.31372549019608\n"
          ],
          "name": "stdout"
        },
        {
          "output_type": "display_data",
          "data": {
            "text/plain": [
              "<Figure size 432x288 with 0 Axes>"
            ]
          },
          "metadata": {
            "tags": []
          }
        },
        {
          "output_type": "stream",
          "text": [
            "episode = 198, tloss = 0.045961412817079265, vloss = 0.042800195034900415, taccuracy = 85.7843137254902, vaccuracy = 88.72549019607843\n"
          ],
          "name": "stdout"
        },
        {
          "output_type": "display_data",
          "data": {
            "text/plain": [
              "<Figure size 432x288 with 0 Axes>"
            ]
          },
          "metadata": {
            "tags": []
          }
        },
        {
          "output_type": "stream",
          "text": [
            "episode = 199, tloss = 0.040656994269875416, vloss = 0.055810705544120966, taccuracy = 88.23529411764706, vaccuracy = 81.37254901960785\n"
          ],
          "name": "stdout"
        },
        {
          "output_type": "display_data",
          "data": {
            "text/plain": [
              "<Figure size 432x288 with 0 Axes>"
            ]
          },
          "metadata": {
            "tags": []
          }
        },
        {
          "output_type": "stream",
          "text": [
            "episode = 200, tloss = 0.051734096746069644, vloss = 0.04737126615261224, taccuracy = 84.31372549019608, vaccuracy = 84.80392156862744\n"
          ],
          "name": "stdout"
        },
        {
          "output_type": "display_data",
          "data": {
            "text/plain": [
              "<Figure size 432x288 with 0 Axes>"
            ]
          },
          "metadata": {
            "tags": []
          }
        },
        {
          "output_type": "stream",
          "text": [
            "episode = 201, tloss = 0.042931061780015246, vloss = 0.04240013235901037, taccuracy = 87.25490196078431, vaccuracy = 88.72549019607843\n"
          ],
          "name": "stdout"
        },
        {
          "output_type": "display_data",
          "data": {
            "text/plain": [
              "<Figure size 432x288 with 0 Axes>"
            ]
          },
          "metadata": {
            "tags": []
          }
        },
        {
          "output_type": "stream",
          "text": [
            "episode = 202, tloss = 0.0507392638360884, vloss = 0.059024487391620487, taccuracy = 81.86274509803921, vaccuracy = 82.3529411764706\n"
          ],
          "name": "stdout"
        },
        {
          "output_type": "display_data",
          "data": {
            "text/plain": [
              "<Figure size 432x288 with 0 Axes>"
            ]
          },
          "metadata": {
            "tags": []
          }
        },
        {
          "output_type": "stream",
          "text": [
            "episode = 203, tloss = 0.040878311854464826, vloss = 0.05212779638072982, taccuracy = 86.76470588235294, vaccuracy = 83.82352941176471\n"
          ],
          "name": "stdout"
        },
        {
          "output_type": "display_data",
          "data": {
            "text/plain": [
              "<Figure size 432x288 with 0 Axes>"
            ]
          },
          "metadata": {
            "tags": []
          }
        },
        {
          "output_type": "stream",
          "text": [
            "episode = 204, tloss = 0.04935486770896036, vloss = 0.04457703634983489, taccuracy = 85.7843137254902, vaccuracy = 85.7843137254902\n"
          ],
          "name": "stdout"
        },
        {
          "output_type": "display_data",
          "data": {
            "text/plain": [
              "<Figure size 432x288 with 0 Axes>"
            ]
          },
          "metadata": {
            "tags": []
          }
        },
        {
          "output_type": "stream",
          "text": [
            "episode = 205, tloss = 0.052680254706659976, vloss = 0.061295794170424266, taccuracy = 81.37254901960785, vaccuracy = 79.90196078431373\n"
          ],
          "name": "stdout"
        },
        {
          "output_type": "display_data",
          "data": {
            "text/plain": [
              "<Figure size 432x288 with 0 Axes>"
            ]
          },
          "metadata": {
            "tags": []
          }
        },
        {
          "output_type": "stream",
          "text": [
            "episode = 206, tloss = 0.05024757539293793, vloss = 0.052182496065625764, taccuracy = 85.7843137254902, vaccuracy = 84.80392156862744\n"
          ],
          "name": "stdout"
        },
        {
          "output_type": "display_data",
          "data": {
            "text/plain": [
              "<Figure size 432x288 with 0 Axes>"
            ]
          },
          "metadata": {
            "tags": []
          }
        },
        {
          "output_type": "stream",
          "text": [
            "episode = 207, tloss = 0.043408976789502625, vloss = 0.0697373195003995, taccuracy = 86.76470588235294, vaccuracy = 79.41176470588235\n"
          ],
          "name": "stdout"
        },
        {
          "output_type": "display_data",
          "data": {
            "text/plain": [
              "<Figure size 432x288 with 0 Axes>"
            ]
          },
          "metadata": {
            "tags": []
          }
        },
        {
          "output_type": "stream",
          "text": [
            "episode = 208, tloss = 0.052114387453426114, vloss = 0.05510261244602582, taccuracy = 84.31372549019608, vaccuracy = 83.33333333333333\n"
          ],
          "name": "stdout"
        },
        {
          "output_type": "display_data",
          "data": {
            "text/plain": [
              "<Figure size 432x288 with 0 Axes>"
            ]
          },
          "metadata": {
            "tags": []
          }
        },
        {
          "output_type": "stream",
          "text": [
            "episode = 209, tloss = 0.05227504684523208, vloss = 0.04160787604845153, taccuracy = 83.33333333333333, vaccuracy = 87.25490196078431\n"
          ],
          "name": "stdout"
        },
        {
          "output_type": "display_data",
          "data": {
            "text/plain": [
              "<Figure size 432x288 with 0 Axes>"
            ]
          },
          "metadata": {
            "tags": []
          }
        },
        {
          "output_type": "stream",
          "text": [
            "episode = 210, tloss = 0.06004457487518918, vloss = 0.04651903146698412, taccuracy = 81.37254901960785, vaccuracy = 88.23529411764706\n"
          ],
          "name": "stdout"
        },
        {
          "output_type": "display_data",
          "data": {
            "text/plain": [
              "<Figure size 432x288 with 0 Axes>"
            ]
          },
          "metadata": {
            "tags": []
          }
        },
        {
          "output_type": "stream",
          "text": [
            "episode = 211, tloss = 0.05738816358860378, vloss = 0.059558813625044296, taccuracy = 82.3529411764706, vaccuracy = 87.25490196078431\n"
          ],
          "name": "stdout"
        },
        {
          "output_type": "display_data",
          "data": {
            "text/plain": [
              "<Figure size 432x288 with 0 Axes>"
            ]
          },
          "metadata": {
            "tags": []
          }
        },
        {
          "output_type": "stream",
          "text": [
            "episode = 212, tloss = 0.05353777906373368, vloss = 0.06141664939803602, taccuracy = 81.86274509803921, vaccuracy = 85.7843137254902\n"
          ],
          "name": "stdout"
        },
        {
          "output_type": "display_data",
          "data": {
            "text/plain": [
              "<Figure size 432x288 with 0 Axes>"
            ]
          },
          "metadata": {
            "tags": []
          }
        },
        {
          "output_type": "stream",
          "text": [
            "episode = 213, tloss = 0.049679099523345836, vloss = 0.0559997262840574, taccuracy = 87.25490196078431, vaccuracy = 83.33333333333333\n"
          ],
          "name": "stdout"
        },
        {
          "output_type": "display_data",
          "data": {
            "text/plain": [
              "<Figure size 432x288 with 0 Axes>"
            ]
          },
          "metadata": {
            "tags": []
          }
        },
        {
          "output_type": "stream",
          "text": [
            "episode = 214, tloss = 0.05738626832713125, vloss = 0.05177397909018098, taccuracy = 81.86274509803921, vaccuracy = 81.37254901960785\n"
          ],
          "name": "stdout"
        },
        {
          "output_type": "display_data",
          "data": {
            "text/plain": [
              "<Figure size 432x288 with 0 Axes>"
            ]
          },
          "metadata": {
            "tags": []
          }
        },
        {
          "output_type": "stream",
          "text": [
            "episode = 215, tloss = 0.04374079030361397, vloss = 0.04396384324615234, taccuracy = 87.74509803921569, vaccuracy = 86.76470588235294\n"
          ],
          "name": "stdout"
        },
        {
          "output_type": "display_data",
          "data": {
            "text/plain": [
              "<Figure size 432x288 with 0 Axes>"
            ]
          },
          "metadata": {
            "tags": []
          }
        },
        {
          "output_type": "stream",
          "text": [
            "episode = 216, tloss = 0.05327650142317125, vloss = 0.05760738090086469, taccuracy = 87.74509803921569, vaccuracy = 83.82352941176471\n"
          ],
          "name": "stdout"
        },
        {
          "output_type": "display_data",
          "data": {
            "text/plain": [
              "<Figure size 432x288 with 0 Axes>"
            ]
          },
          "metadata": {
            "tags": []
          }
        },
        {
          "output_type": "stream",
          "text": [
            "episode = 217, tloss = 0.049908482471472386, vloss = 0.05936201554928479, taccuracy = 86.27450980392157, vaccuracy = 80.3921568627451\n"
          ],
          "name": "stdout"
        },
        {
          "output_type": "display_data",
          "data": {
            "text/plain": [
              "<Figure size 432x288 with 0 Axes>"
            ]
          },
          "metadata": {
            "tags": []
          }
        },
        {
          "output_type": "stream",
          "text": [
            "episode = 218, tloss = 0.0534578495265151, vloss = 0.0445565231871868, taccuracy = 84.80392156862744, vaccuracy = 86.76470588235294\n"
          ],
          "name": "stdout"
        },
        {
          "output_type": "display_data",
          "data": {
            "text/plain": [
              "<Figure size 432x288 with 0 Axes>"
            ]
          },
          "metadata": {
            "tags": []
          }
        },
        {
          "output_type": "stream",
          "text": [
            "episode = 219, tloss = 0.06258367924383315, vloss = 0.059231328698614846, taccuracy = 78.92156862745098, vaccuracy = 82.3529411764706\n"
          ],
          "name": "stdout"
        },
        {
          "output_type": "display_data",
          "data": {
            "text/plain": [
              "<Figure size 432x288 with 0 Axes>"
            ]
          },
          "metadata": {
            "tags": []
          }
        },
        {
          "output_type": "stream",
          "text": [
            "episode = 220, tloss = 0.04973992684556492, vloss = 0.04424642890842155, taccuracy = 83.33333333333333, vaccuracy = 83.33333333333333\n"
          ],
          "name": "stdout"
        },
        {
          "output_type": "display_data",
          "data": {
            "text/plain": [
              "<Figure size 432x288 with 0 Axes>"
            ]
          },
          "metadata": {
            "tags": []
          }
        },
        {
          "output_type": "stream",
          "text": [
            "episode = 221, tloss = 0.05351416496971845, vloss = 0.05035763927064437, taccuracy = 84.80392156862744, vaccuracy = 87.25490196078431\n"
          ],
          "name": "stdout"
        },
        {
          "output_type": "display_data",
          "data": {
            "text/plain": [
              "<Figure size 432x288 with 0 Axes>"
            ]
          },
          "metadata": {
            "tags": []
          }
        },
        {
          "output_type": "stream",
          "text": [
            "episode = 222, tloss = 0.05627101980478878, vloss = 0.06143804580565441, taccuracy = 81.37254901960785, vaccuracy = 84.31372549019608\n"
          ],
          "name": "stdout"
        },
        {
          "output_type": "display_data",
          "data": {
            "text/plain": [
              "<Figure size 432x288 with 0 Axes>"
            ]
          },
          "metadata": {
            "tags": []
          }
        },
        {
          "output_type": "stream",
          "text": [
            "episode = 223, tloss = 0.04729767484269176, vloss = 0.04305904905736631, taccuracy = 83.33333333333333, vaccuracy = 86.27450980392157\n"
          ],
          "name": "stdout"
        },
        {
          "output_type": "display_data",
          "data": {
            "text/plain": [
              "<Figure size 432x288 with 0 Axes>"
            ]
          },
          "metadata": {
            "tags": []
          }
        },
        {
          "output_type": "stream",
          "text": [
            "episode = 224, tloss = 0.048376192964429895, vloss = 0.05220447745493227, taccuracy = 84.31372549019608, vaccuracy = 83.33333333333333\n"
          ],
          "name": "stdout"
        },
        {
          "output_type": "display_data",
          "data": {
            "text/plain": [
              "<Figure size 432x288 with 0 Axes>"
            ]
          },
          "metadata": {
            "tags": []
          }
        },
        {
          "output_type": "stream",
          "text": [
            "episode = 225, tloss = 0.055107270623053595, vloss = 0.05597949677368589, taccuracy = 82.3529411764706, vaccuracy = 84.31372549019608\n"
          ],
          "name": "stdout"
        },
        {
          "output_type": "display_data",
          "data": {
            "text/plain": [
              "<Figure size 432x288 with 0 Axes>"
            ]
          },
          "metadata": {
            "tags": []
          }
        },
        {
          "output_type": "stream",
          "text": [
            "episode = 226, tloss = 0.0440508717015076, vloss = 0.0522209816096168, taccuracy = 88.72549019607843, vaccuracy = 83.33333333333333\n"
          ],
          "name": "stdout"
        },
        {
          "output_type": "display_data",
          "data": {
            "text/plain": [
              "<Figure size 432x288 with 0 Axes>"
            ]
          },
          "metadata": {
            "tags": []
          }
        },
        {
          "output_type": "stream",
          "text": [
            "episode = 227, tloss = 0.04748904762513311, vloss = 0.05975283305371887, taccuracy = 84.80392156862744, vaccuracy = 82.84313725490196\n"
          ],
          "name": "stdout"
        },
        {
          "output_type": "display_data",
          "data": {
            "text/plain": [
              "<Figure size 432x288 with 0 Axes>"
            ]
          },
          "metadata": {
            "tags": []
          }
        },
        {
          "output_type": "stream",
          "text": [
            "episode = 228, tloss = 0.054079559671805166, vloss = 0.08097489908928973, taccuracy = 80.88235294117646, vaccuracy = 82.3529411764706\n"
          ],
          "name": "stdout"
        },
        {
          "output_type": "display_data",
          "data": {
            "text/plain": [
              "<Figure size 432x288 with 0 Axes>"
            ]
          },
          "metadata": {
            "tags": []
          }
        },
        {
          "output_type": "stream",
          "text": [
            "episode = 229, tloss = 0.04344630091813843, vloss = 0.054166069881171605, taccuracy = 87.74509803921569, vaccuracy = 79.90196078431373\n"
          ],
          "name": "stdout"
        },
        {
          "output_type": "display_data",
          "data": {
            "text/plain": [
              "<Figure size 432x288 with 0 Axes>"
            ]
          },
          "metadata": {
            "tags": []
          }
        },
        {
          "output_type": "stream",
          "text": [
            "episode = 230, tloss = 0.04716831913575799, vloss = 0.04469808863802386, taccuracy = 84.31372549019608, vaccuracy = 87.25490196078431\n"
          ],
          "name": "stdout"
        },
        {
          "output_type": "display_data",
          "data": {
            "text/plain": [
              "<Figure size 432x288 with 0 Axes>"
            ]
          },
          "metadata": {
            "tags": []
          }
        },
        {
          "output_type": "stream",
          "text": [
            "episode = 231, tloss = 0.05967535892085194, vloss = 0.051402138007651435, taccuracy = 78.92156862745098, vaccuracy = 86.27450980392157\n"
          ],
          "name": "stdout"
        },
        {
          "output_type": "display_data",
          "data": {
            "text/plain": [
              "<Figure size 432x288 with 0 Axes>"
            ]
          },
          "metadata": {
            "tags": []
          }
        },
        {
          "output_type": "stream",
          "text": [
            "episode = 232, tloss = 0.05325816921794911, vloss = 0.05950984194354732, taccuracy = 82.3529411764706, vaccuracy = 79.90196078431373\n"
          ],
          "name": "stdout"
        },
        {
          "output_type": "display_data",
          "data": {
            "text/plain": [
              "<Figure size 432x288 with 0 Axes>"
            ]
          },
          "metadata": {
            "tags": []
          }
        },
        {
          "output_type": "stream",
          "text": [
            "episode = 233, tloss = 0.058261632461476906, vloss = 0.05089692320761543, taccuracy = 83.82352941176471, vaccuracy = 82.3529411764706\n"
          ],
          "name": "stdout"
        },
        {
          "output_type": "display_data",
          "data": {
            "text/plain": [
              "<Figure size 432x288 with 0 Axes>"
            ]
          },
          "metadata": {
            "tags": []
          }
        },
        {
          "output_type": "stream",
          "text": [
            "episode = 234, tloss = 0.04778420808263663, vloss = 0.04544537241259379, taccuracy = 85.29411764705883, vaccuracy = 84.80392156862744\n"
          ],
          "name": "stdout"
        },
        {
          "output_type": "display_data",
          "data": {
            "text/plain": [
              "<Figure size 432x288 with 0 Axes>"
            ]
          },
          "metadata": {
            "tags": []
          }
        },
        {
          "output_type": "stream",
          "text": [
            "episode = 235, tloss = 0.04985922093022157, vloss = 0.0415599606039007, taccuracy = 85.29411764705883, vaccuracy = 88.72549019607843\n"
          ],
          "name": "stdout"
        },
        {
          "output_type": "display_data",
          "data": {
            "text/plain": [
              "<Figure size 432x288 with 0 Axes>"
            ]
          },
          "metadata": {
            "tags": []
          }
        },
        {
          "output_type": "stream",
          "text": [
            "episode = 236, tloss = 0.0498098428712324, vloss = 0.05147944568796774, taccuracy = 83.33333333333333, vaccuracy = 81.86274509803921\n"
          ],
          "name": "stdout"
        },
        {
          "output_type": "display_data",
          "data": {
            "text/plain": [
              "<Figure size 432x288 with 0 Axes>"
            ]
          },
          "metadata": {
            "tags": []
          }
        },
        {
          "output_type": "stream",
          "text": [
            "episode = 237, tloss = 0.0564351408003678, vloss = 0.05241595570287392, taccuracy = 82.84313725490196, vaccuracy = 86.27450980392157\n"
          ],
          "name": "stdout"
        },
        {
          "output_type": "display_data",
          "data": {
            "text/plain": [
              "<Figure size 432x288 with 0 Axes>"
            ]
          },
          "metadata": {
            "tags": []
          }
        },
        {
          "output_type": "stream",
          "text": [
            "episode = 238, tloss = 0.05417964739922744, vloss = 0.06085034842104663, taccuracy = 81.86274509803921, vaccuracy = 84.80392156862744\n"
          ],
          "name": "stdout"
        },
        {
          "output_type": "display_data",
          "data": {
            "text/plain": [
              "<Figure size 432x288 with 0 Axes>"
            ]
          },
          "metadata": {
            "tags": []
          }
        },
        {
          "output_type": "stream",
          "text": [
            "episode = 239, tloss = 0.04809566223444524, vloss = 0.04285987475006191, taccuracy = 86.27450980392157, vaccuracy = 85.7843137254902\n"
          ],
          "name": "stdout"
        },
        {
          "output_type": "display_data",
          "data": {
            "text/plain": [
              "<Figure size 432x288 with 0 Axes>"
            ]
          },
          "metadata": {
            "tags": []
          }
        },
        {
          "output_type": "stream",
          "text": [
            "episode = 240, tloss = 0.04584651679374664, vloss = 0.0469458525749212, taccuracy = 84.80392156862744, vaccuracy = 84.80392156862744\n"
          ],
          "name": "stdout"
        },
        {
          "output_type": "display_data",
          "data": {
            "text/plain": [
              "<Figure size 432x288 with 0 Axes>"
            ]
          },
          "metadata": {
            "tags": []
          }
        },
        {
          "output_type": "stream",
          "text": [
            "episode = 241, tloss = 0.04904153684517947, vloss = 0.04310239482707766, taccuracy = 84.80392156862744, vaccuracy = 87.74509803921569\n"
          ],
          "name": "stdout"
        },
        {
          "output_type": "display_data",
          "data": {
            "text/plain": [
              "<Figure size 432x288 with 0 Axes>"
            ]
          },
          "metadata": {
            "tags": []
          }
        },
        {
          "output_type": "stream",
          "text": [
            "episode = 242, tloss = 0.0433518846828737, vloss = 0.0516838890654213, taccuracy = 86.27450980392157, vaccuracy = 82.84313725490196\n"
          ],
          "name": "stdout"
        },
        {
          "output_type": "display_data",
          "data": {
            "text/plain": [
              "<Figure size 432x288 with 0 Axes>"
            ]
          },
          "metadata": {
            "tags": []
          }
        },
        {
          "output_type": "stream",
          "text": [
            "episode = 243, tloss = 0.051340459265348824, vloss = 0.05153621541714043, taccuracy = 83.33333333333333, vaccuracy = 84.31372549019608\n"
          ],
          "name": "stdout"
        },
        {
          "output_type": "display_data",
          "data": {
            "text/plain": [
              "<Figure size 432x288 with 0 Axes>"
            ]
          },
          "metadata": {
            "tags": []
          }
        },
        {
          "output_type": "stream",
          "text": [
            "episode = 244, tloss = 0.05493971715302424, vloss = 0.0487675428144141, taccuracy = 82.3529411764706, vaccuracy = 88.72549019607843\n"
          ],
          "name": "stdout"
        },
        {
          "output_type": "display_data",
          "data": {
            "text/plain": [
              "<Figure size 432x288 with 0 Axes>"
            ]
          },
          "metadata": {
            "tags": []
          }
        },
        {
          "output_type": "stream",
          "text": [
            "episode = 245, tloss = 0.044742780427900364, vloss = 0.05872718515383758, taccuracy = 83.82352941176471, vaccuracy = 83.82352941176471\n"
          ],
          "name": "stdout"
        },
        {
          "output_type": "display_data",
          "data": {
            "text/plain": [
              "<Figure size 432x288 with 0 Axes>"
            ]
          },
          "metadata": {
            "tags": []
          }
        },
        {
          "output_type": "stream",
          "text": [
            "episode = 246, tloss = 0.046372087058781666, vloss = 0.050170806130411194, taccuracy = 84.31372549019608, vaccuracy = 83.82352941176471\n"
          ],
          "name": "stdout"
        },
        {
          "output_type": "display_data",
          "data": {
            "text/plain": [
              "<Figure size 432x288 with 0 Axes>"
            ]
          },
          "metadata": {
            "tags": []
          }
        },
        {
          "output_type": "stream",
          "text": [
            "episode = 247, tloss = 0.04520299288618139, vloss = 0.04991741301236704, taccuracy = 83.33333333333333, vaccuracy = 84.31372549019608\n"
          ],
          "name": "stdout"
        },
        {
          "output_type": "display_data",
          "data": {
            "text/plain": [
              "<Figure size 432x288 with 0 Axes>"
            ]
          },
          "metadata": {
            "tags": []
          }
        },
        {
          "output_type": "stream",
          "text": [
            "episode = 248, tloss = 0.05053525819374257, vloss = 0.05078405796293513, taccuracy = 85.29411764705883, vaccuracy = 81.86274509803921\n"
          ],
          "name": "stdout"
        },
        {
          "output_type": "display_data",
          "data": {
            "text/plain": [
              "<Figure size 432x288 with 0 Axes>"
            ]
          },
          "metadata": {
            "tags": []
          }
        },
        {
          "output_type": "stream",
          "text": [
            "episode = 249, tloss = 0.05506066160180149, vloss = 0.0550558461328303, taccuracy = 83.33333333333333, vaccuracy = 83.82352941176471\n"
          ],
          "name": "stdout"
        },
        {
          "output_type": "display_data",
          "data": {
            "text/plain": [
              "<Figure size 432x288 with 0 Axes>"
            ]
          },
          "metadata": {
            "tags": []
          }
        },
        {
          "output_type": "stream",
          "text": [
            "episode = 250, tloss = 0.046576996460420086, vloss = 0.045671166558476826, taccuracy = 88.23529411764706, vaccuracy = 86.76470588235294\n"
          ],
          "name": "stdout"
        },
        {
          "output_type": "display_data",
          "data": {
            "text/plain": [
              "<Figure size 432x288 with 0 Axes>"
            ]
          },
          "metadata": {
            "tags": []
          }
        },
        {
          "output_type": "stream",
          "text": [
            "episode = 251, tloss = 0.039918550630206426, vloss = 0.04789990948555942, taccuracy = 89.2156862745098, vaccuracy = 83.82352941176471\n"
          ],
          "name": "stdout"
        },
        {
          "output_type": "display_data",
          "data": {
            "text/plain": [
              "<Figure size 432x288 with 0 Axes>"
            ]
          },
          "metadata": {
            "tags": []
          }
        },
        {
          "output_type": "stream",
          "text": [
            "episode = 252, tloss = 0.03778408633820897, vloss = 0.04440800313948752, taccuracy = 88.72549019607843, vaccuracy = 85.29411764705883\n"
          ],
          "name": "stdout"
        },
        {
          "output_type": "display_data",
          "data": {
            "text/plain": [
              "<Figure size 432x288 with 0 Axes>"
            ]
          },
          "metadata": {
            "tags": []
          }
        },
        {
          "output_type": "stream",
          "text": [
            "episode = 253, tloss = 0.04373348310172007, vloss = 0.06463286651369698, taccuracy = 82.84313725490196, vaccuracy = 80.3921568627451\n"
          ],
          "name": "stdout"
        },
        {
          "output_type": "display_data",
          "data": {
            "text/plain": [
              "<Figure size 432x288 with 0 Axes>"
            ]
          },
          "metadata": {
            "tags": []
          }
        },
        {
          "output_type": "stream",
          "text": [
            "episode = 254, tloss = 0.04559743570014095, vloss = 0.056933646449594165, taccuracy = 85.7843137254902, vaccuracy = 82.84313725490196\n"
          ],
          "name": "stdout"
        },
        {
          "output_type": "display_data",
          "data": {
            "text/plain": [
              "<Figure size 432x288 with 0 Axes>"
            ]
          },
          "metadata": {
            "tags": []
          }
        },
        {
          "output_type": "stream",
          "text": [
            "episode = 255, tloss = 0.044294976313729834, vloss = 0.04889940829749084, taccuracy = 82.84313725490196, vaccuracy = 85.7843137254902\n"
          ],
          "name": "stdout"
        },
        {
          "output_type": "display_data",
          "data": {
            "text/plain": [
              "<Figure size 432x288 with 0 Axes>"
            ]
          },
          "metadata": {
            "tags": []
          }
        },
        {
          "output_type": "stream",
          "text": [
            "episode = 256, tloss = 0.04844655998126615, vloss = 0.06037053028050299, taccuracy = 87.25490196078431, vaccuracy = 80.3921568627451\n"
          ],
          "name": "stdout"
        },
        {
          "output_type": "display_data",
          "data": {
            "text/plain": [
              "<Figure size 432x288 with 0 Axes>"
            ]
          },
          "metadata": {
            "tags": []
          }
        },
        {
          "output_type": "stream",
          "text": [
            "episode = 257, tloss = 0.04521641603267253, vloss = 0.04959275229715974, taccuracy = 86.27450980392157, vaccuracy = 84.31372549019608\n"
          ],
          "name": "stdout"
        },
        {
          "output_type": "display_data",
          "data": {
            "text/plain": [
              "<Figure size 432x288 with 0 Axes>"
            ]
          },
          "metadata": {
            "tags": []
          }
        },
        {
          "output_type": "stream",
          "text": [
            "episode = 258, tloss = 0.04593714994635726, vloss = 0.04673320336242658, taccuracy = 84.80392156862744, vaccuracy = 86.27450980392157\n"
          ],
          "name": "stdout"
        },
        {
          "output_type": "display_data",
          "data": {
            "text/plain": [
              "<Figure size 432x288 with 0 Axes>"
            ]
          },
          "metadata": {
            "tags": []
          }
        },
        {
          "output_type": "stream",
          "text": [
            "episode = 259, tloss = 0.03442022049576715, vloss = 0.04873926397117293, taccuracy = 90.19607843137256, vaccuracy = 86.76470588235294\n"
          ],
          "name": "stdout"
        },
        {
          "output_type": "display_data",
          "data": {
            "text/plain": [
              "<Figure size 432x288 with 0 Axes>"
            ]
          },
          "metadata": {
            "tags": []
          }
        },
        {
          "output_type": "stream",
          "text": [
            "episode = 260, tloss = 0.0506728644052296, vloss = 0.03654444539847302, taccuracy = 86.76470588235294, vaccuracy = 92.15686274509804\n"
          ],
          "name": "stdout"
        },
        {
          "output_type": "display_data",
          "data": {
            "text/plain": [
              "<Figure size 432x288 with 0 Axes>"
            ]
          },
          "metadata": {
            "tags": []
          }
        },
        {
          "output_type": "stream",
          "text": [
            "episode = 261, tloss = 0.054607042272853804, vloss = 0.03749596341709522, taccuracy = 84.80392156862744, vaccuracy = 86.76470588235294\n"
          ],
          "name": "stdout"
        },
        {
          "output_type": "display_data",
          "data": {
            "text/plain": [
              "<Figure size 432x288 with 0 Axes>"
            ]
          },
          "metadata": {
            "tags": []
          }
        },
        {
          "output_type": "stream",
          "text": [
            "episode = 262, tloss = 0.0398811883837647, vloss = 0.046650567463870724, taccuracy = 85.7843137254902, vaccuracy = 81.86274509803921\n"
          ],
          "name": "stdout"
        },
        {
          "output_type": "display_data",
          "data": {
            "text/plain": [
              "<Figure size 432x288 with 0 Axes>"
            ]
          },
          "metadata": {
            "tags": []
          }
        },
        {
          "output_type": "stream",
          "text": [
            "episode = 263, tloss = 0.04700234622503629, vloss = 0.05725739101529161, taccuracy = 84.31372549019608, vaccuracy = 81.86274509803921\n"
          ],
          "name": "stdout"
        },
        {
          "output_type": "display_data",
          "data": {
            "text/plain": [
              "<Figure size 432x288 with 0 Axes>"
            ]
          },
          "metadata": {
            "tags": []
          }
        },
        {
          "output_type": "stream",
          "text": [
            "episode = 264, tloss = 0.048488820593304977, vloss = 0.0451822166998958, taccuracy = 85.7843137254902, vaccuracy = 85.29411764705883\n"
          ],
          "name": "stdout"
        },
        {
          "output_type": "display_data",
          "data": {
            "text/plain": [
              "<Figure size 432x288 with 0 Axes>"
            ]
          },
          "metadata": {
            "tags": []
          }
        },
        {
          "output_type": "stream",
          "text": [
            "episode = 265, tloss = 0.042011686264444834, vloss = 0.0519310227320476, taccuracy = 89.2156862745098, vaccuracy = 84.80392156862744\n"
          ],
          "name": "stdout"
        },
        {
          "output_type": "display_data",
          "data": {
            "text/plain": [
              "<Figure size 432x288 with 0 Axes>"
            ]
          },
          "metadata": {
            "tags": []
          }
        },
        {
          "output_type": "stream",
          "text": [
            "episode = 266, tloss = 0.04587028026355181, vloss = 0.04031751313297973, taccuracy = 84.31372549019608, vaccuracy = 86.27450980392157\n"
          ],
          "name": "stdout"
        },
        {
          "output_type": "display_data",
          "data": {
            "text/plain": [
              "<Figure size 432x288 with 0 Axes>"
            ]
          },
          "metadata": {
            "tags": []
          }
        },
        {
          "output_type": "stream",
          "text": [
            "episode = 267, tloss = 0.03899782325574455, vloss = 0.05032155277738788, taccuracy = 86.76470588235294, vaccuracy = 82.3529411764706\n"
          ],
          "name": "stdout"
        },
        {
          "output_type": "display_data",
          "data": {
            "text/plain": [
              "<Figure size 432x288 with 0 Axes>"
            ]
          },
          "metadata": {
            "tags": []
          }
        },
        {
          "output_type": "stream",
          "text": [
            "episode = 268, tloss = 0.05183474512500552, vloss = 0.04556025205000256, taccuracy = 79.90196078431373, vaccuracy = 84.80392156862744\n"
          ],
          "name": "stdout"
        },
        {
          "output_type": "display_data",
          "data": {
            "text/plain": [
              "<Figure size 432x288 with 0 Axes>"
            ]
          },
          "metadata": {
            "tags": []
          }
        },
        {
          "output_type": "stream",
          "text": [
            "episode = 269, tloss = 0.038120661007771804, vloss = 0.06290285197668481, taccuracy = 88.23529411764706, vaccuracy = 83.33333333333333\n"
          ],
          "name": "stdout"
        },
        {
          "output_type": "display_data",
          "data": {
            "text/plain": [
              "<Figure size 432x288 with 0 Axes>"
            ]
          },
          "metadata": {
            "tags": []
          }
        },
        {
          "output_type": "stream",
          "text": [
            "episode = 270, tloss = 0.03591514832465103, vloss = 0.039882641768707316, taccuracy = 89.70588235294117, vaccuracy = 87.74509803921569\n"
          ],
          "name": "stdout"
        },
        {
          "output_type": "display_data",
          "data": {
            "text/plain": [
              "<Figure size 432x288 with 0 Axes>"
            ]
          },
          "metadata": {
            "tags": []
          }
        },
        {
          "output_type": "stream",
          "text": [
            "episode = 271, tloss = 0.035398319708507486, vloss = 0.042200700095977504, taccuracy = 87.74509803921569, vaccuracy = 86.27450980392157\n"
          ],
          "name": "stdout"
        },
        {
          "output_type": "display_data",
          "data": {
            "text/plain": [
              "<Figure size 432x288 with 0 Axes>"
            ]
          },
          "metadata": {
            "tags": []
          }
        },
        {
          "output_type": "stream",
          "text": [
            "episode = 272, tloss = 0.05365548937806856, vloss = 0.04261874884999835, taccuracy = 85.29411764705883, vaccuracy = 88.72549019607843\n"
          ],
          "name": "stdout"
        },
        {
          "output_type": "display_data",
          "data": {
            "text/plain": [
              "<Figure size 432x288 with 0 Axes>"
            ]
          },
          "metadata": {
            "tags": []
          }
        },
        {
          "output_type": "stream",
          "text": [
            "episode = 273, tloss = 0.04272976389075081, vloss = 0.03400558987130019, taccuracy = 84.80392156862744, vaccuracy = 91.17647058823529\n"
          ],
          "name": "stdout"
        },
        {
          "output_type": "display_data",
          "data": {
            "text/plain": [
              "<Figure size 432x288 with 0 Axes>"
            ]
          },
          "metadata": {
            "tags": []
          }
        },
        {
          "output_type": "stream",
          "text": [
            "episode = 274, tloss = 0.04151121183283938, vloss = 0.0490902191173532, taccuracy = 86.76470588235294, vaccuracy = 83.82352941176471\n"
          ],
          "name": "stdout"
        },
        {
          "output_type": "display_data",
          "data": {
            "text/plain": [
              "<Figure size 432x288 with 0 Axes>"
            ]
          },
          "metadata": {
            "tags": []
          }
        },
        {
          "output_type": "stream",
          "text": [
            "episode = 275, tloss = 0.04102794835669814, vloss = 0.04304333853670901, taccuracy = 86.76470588235294, vaccuracy = 86.27450980392157\n"
          ],
          "name": "stdout"
        },
        {
          "output_type": "display_data",
          "data": {
            "text/plain": [
              "<Figure size 432x288 with 0 Axes>"
            ]
          },
          "metadata": {
            "tags": []
          }
        },
        {
          "output_type": "stream",
          "text": [
            "episode = 276, tloss = 0.05315563780475809, vloss = 0.04655539289115429, taccuracy = 83.82352941176471, vaccuracy = 85.7843137254902\n"
          ],
          "name": "stdout"
        },
        {
          "output_type": "display_data",
          "data": {
            "text/plain": [
              "<Figure size 432x288 with 0 Axes>"
            ]
          },
          "metadata": {
            "tags": []
          }
        },
        {
          "output_type": "stream",
          "text": [
            "episode = 277, tloss = 0.04549869186438736, vloss = 0.047348960427588675, taccuracy = 84.31372549019608, vaccuracy = 88.23529411764706\n"
          ],
          "name": "stdout"
        },
        {
          "output_type": "display_data",
          "data": {
            "text/plain": [
              "<Figure size 432x288 with 0 Axes>"
            ]
          },
          "metadata": {
            "tags": []
          }
        },
        {
          "output_type": "stream",
          "text": [
            "episode = 278, tloss = 0.03284513352079195, vloss = 0.046239672350278885, taccuracy = 88.23529411764706, vaccuracy = 83.33333333333333\n"
          ],
          "name": "stdout"
        },
        {
          "output_type": "display_data",
          "data": {
            "text/plain": [
              "<Figure size 432x288 with 0 Axes>"
            ]
          },
          "metadata": {
            "tags": []
          }
        },
        {
          "output_type": "stream",
          "text": [
            "episode = 279, tloss = 0.04132800931772722, vloss = 0.05629459767402935, taccuracy = 86.76470588235294, vaccuracy = 79.90196078431373\n"
          ],
          "name": "stdout"
        },
        {
          "output_type": "display_data",
          "data": {
            "text/plain": [
              "<Figure size 432x288 with 0 Axes>"
            ]
          },
          "metadata": {
            "tags": []
          }
        },
        {
          "output_type": "stream",
          "text": [
            "episode = 280, tloss = 0.05632753074449755, vloss = 0.04384074399689224, taccuracy = 83.33333333333333, vaccuracy = 86.27450980392157\n"
          ],
          "name": "stdout"
        },
        {
          "output_type": "display_data",
          "data": {
            "text/plain": [
              "<Figure size 432x288 with 0 Axes>"
            ]
          },
          "metadata": {
            "tags": []
          }
        },
        {
          "output_type": "stream",
          "text": [
            "episode = 281, tloss = 0.051693769216603416, vloss = 0.03563152019328874, taccuracy = 85.29411764705883, vaccuracy = 91.66666666666667\n"
          ],
          "name": "stdout"
        },
        {
          "output_type": "display_data",
          "data": {
            "text/plain": [
              "<Figure size 432x288 with 0 Axes>"
            ]
          },
          "metadata": {
            "tags": []
          }
        },
        {
          "output_type": "stream",
          "text": [
            "episode = 282, tloss = 0.03979952375906852, vloss = 0.04551912321578275, taccuracy = 86.27450980392157, vaccuracy = 85.7843137254902\n"
          ],
          "name": "stdout"
        },
        {
          "output_type": "display_data",
          "data": {
            "text/plain": [
              "<Figure size 432x288 with 0 Axes>"
            ]
          },
          "metadata": {
            "tags": []
          }
        },
        {
          "output_type": "stream",
          "text": [
            "episode = 283, tloss = 0.04539253860803933, vloss = 0.05052376771275842, taccuracy = 84.31372549019608, vaccuracy = 84.80392156862744\n"
          ],
          "name": "stdout"
        },
        {
          "output_type": "display_data",
          "data": {
            "text/plain": [
              "<Figure size 432x288 with 0 Axes>"
            ]
          },
          "metadata": {
            "tags": []
          }
        },
        {
          "output_type": "stream",
          "text": [
            "episode = 284, tloss = 0.035514013224151694, vloss = 0.04431280420474339, taccuracy = 86.27450980392157, vaccuracy = 85.7843137254902\n"
          ],
          "name": "stdout"
        },
        {
          "output_type": "display_data",
          "data": {
            "text/plain": [
              "<Figure size 432x288 with 0 Axes>"
            ]
          },
          "metadata": {
            "tags": []
          }
        },
        {
          "output_type": "stream",
          "text": [
            "episode = 285, tloss = 0.047091493432656305, vloss = 0.03536750696339845, taccuracy = 82.3529411764706, vaccuracy = 89.70588235294117\n"
          ],
          "name": "stdout"
        },
        {
          "output_type": "display_data",
          "data": {
            "text/plain": [
              "<Figure size 432x288 with 0 Axes>"
            ]
          },
          "metadata": {
            "tags": []
          }
        },
        {
          "output_type": "stream",
          "text": [
            "episode = 286, tloss = 0.04821268026471674, vloss = 0.047201143887522404, taccuracy = 86.27450980392157, vaccuracy = 84.80392156862744\n"
          ],
          "name": "stdout"
        },
        {
          "output_type": "display_data",
          "data": {
            "text/plain": [
              "<Figure size 432x288 with 0 Axes>"
            ]
          },
          "metadata": {
            "tags": []
          }
        },
        {
          "output_type": "stream",
          "text": [
            "episode = 287, tloss = 0.03493380281215738, vloss = 0.038690863865990445, taccuracy = 88.23529411764706, vaccuracy = 89.2156862745098\n"
          ],
          "name": "stdout"
        },
        {
          "output_type": "display_data",
          "data": {
            "text/plain": [
              "<Figure size 432x288 with 0 Axes>"
            ]
          },
          "metadata": {
            "tags": []
          }
        },
        {
          "output_type": "stream",
          "text": [
            "episode = 288, tloss = 0.03373230060336076, vloss = 0.04955203207851647, taccuracy = 89.2156862745098, vaccuracy = 86.76470588235294\n"
          ],
          "name": "stdout"
        },
        {
          "output_type": "display_data",
          "data": {
            "text/plain": [
              "<Figure size 432x288 with 0 Axes>"
            ]
          },
          "metadata": {
            "tags": []
          }
        },
        {
          "output_type": "stream",
          "text": [
            "episode = 289, tloss = 0.03425535859739269, vloss = 0.04342640625133861, taccuracy = 91.17647058823529, vaccuracy = 87.25490196078431\n"
          ],
          "name": "stdout"
        },
        {
          "output_type": "display_data",
          "data": {
            "text/plain": [
              "<Figure size 432x288 with 0 Axes>"
            ]
          },
          "metadata": {
            "tags": []
          }
        },
        {
          "output_type": "stream",
          "text": [
            "episode = 290, tloss = 0.03901857743189177, vloss = 0.04098119693366738, taccuracy = 90.19607843137256, vaccuracy = 87.74509803921569\n"
          ],
          "name": "stdout"
        },
        {
          "output_type": "display_data",
          "data": {
            "text/plain": [
              "<Figure size 432x288 with 0 Axes>"
            ]
          },
          "metadata": {
            "tags": []
          }
        },
        {
          "output_type": "stream",
          "text": [
            "episode = 291, tloss = 0.04604140157656124, vloss = 0.05027229702932863, taccuracy = 81.37254901960785, vaccuracy = 82.84313725490196\n"
          ],
          "name": "stdout"
        },
        {
          "output_type": "display_data",
          "data": {
            "text/plain": [
              "<Figure size 432x288 with 0 Axes>"
            ]
          },
          "metadata": {
            "tags": []
          }
        },
        {
          "output_type": "stream",
          "text": [
            "episode = 292, tloss = 0.04862675214651394, vloss = 0.04087014511331495, taccuracy = 85.29411764705883, vaccuracy = 86.76470588235294\n"
          ],
          "name": "stdout"
        },
        {
          "output_type": "display_data",
          "data": {
            "text/plain": [
              "<Figure size 432x288 with 0 Axes>"
            ]
          },
          "metadata": {
            "tags": []
          }
        },
        {
          "output_type": "stream",
          "text": [
            "episode = 293, tloss = 0.05265618774009058, vloss = 0.05079391285765552, taccuracy = 84.31372549019608, vaccuracy = 84.31372549019608\n"
          ],
          "name": "stdout"
        },
        {
          "output_type": "display_data",
          "data": {
            "text/plain": [
              "<Figure size 432x288 with 0 Axes>"
            ]
          },
          "metadata": {
            "tags": []
          }
        },
        {
          "output_type": "stream",
          "text": [
            "episode = 294, tloss = 0.04351507028931255, vloss = 0.05010830565855821, taccuracy = 86.27450980392157, vaccuracy = 83.33333333333333\n"
          ],
          "name": "stdout"
        },
        {
          "output_type": "display_data",
          "data": {
            "text/plain": [
              "<Figure size 432x288 with 0 Axes>"
            ]
          },
          "metadata": {
            "tags": []
          }
        },
        {
          "output_type": "stream",
          "text": [
            "episode = 295, tloss = 0.04229275957652896, vloss = 0.04669222582691493, taccuracy = 86.27450980392157, vaccuracy = 84.31372549019608\n"
          ],
          "name": "stdout"
        },
        {
          "output_type": "display_data",
          "data": {
            "text/plain": [
              "<Figure size 432x288 with 0 Axes>"
            ]
          },
          "metadata": {
            "tags": []
          }
        },
        {
          "output_type": "stream",
          "text": [
            "episode = 296, tloss = 0.05032498293813711, vloss = 0.031841191526490856, taccuracy = 80.3921568627451, vaccuracy = 89.70588235294117\n"
          ],
          "name": "stdout"
        },
        {
          "output_type": "display_data",
          "data": {
            "text/plain": [
              "<Figure size 432x288 with 0 Axes>"
            ]
          },
          "metadata": {
            "tags": []
          }
        },
        {
          "output_type": "stream",
          "text": [
            "episode = 297, tloss = 0.032716556986490467, vloss = 0.06479584576353817, taccuracy = 90.19607843137256, vaccuracy = 79.90196078431373\n"
          ],
          "name": "stdout"
        },
        {
          "output_type": "display_data",
          "data": {
            "text/plain": [
              "<Figure size 432x288 with 0 Axes>"
            ]
          },
          "metadata": {
            "tags": []
          }
        },
        {
          "output_type": "stream",
          "text": [
            "episode = 298, tloss = 0.0460276249018897, vloss = 0.04947816457647027, taccuracy = 84.80392156862744, vaccuracy = 82.84313725490196\n"
          ],
          "name": "stdout"
        },
        {
          "output_type": "display_data",
          "data": {
            "text/plain": [
              "<Figure size 432x288 with 0 Axes>"
            ]
          },
          "metadata": {
            "tags": []
          }
        },
        {
          "output_type": "stream",
          "text": [
            "episode = 299, tloss = 0.03960269676876036, vloss = 0.04307456380023586, taccuracy = 86.76470588235294, vaccuracy = 84.31372549019608\n"
          ],
          "name": "stdout"
        },
        {
          "output_type": "display_data",
          "data": {
            "text/plain": [
              "<Figure size 432x288 with 0 Axes>"
            ]
          },
          "metadata": {
            "tags": []
          }
        },
        {
          "output_type": "stream",
          "text": [
            "episode = 300, tloss = 0.03904877081543889, vloss = 0.05410352488174293, taccuracy = 87.74509803921569, vaccuracy = 85.29411764705883\n"
          ],
          "name": "stdout"
        },
        {
          "output_type": "display_data",
          "data": {
            "text/plain": [
              "<Figure size 432x288 with 0 Axes>"
            ]
          },
          "metadata": {
            "tags": []
          }
        },
        {
          "output_type": "stream",
          "text": [
            "episode = 301, tloss = 0.04731783941960046, vloss = 0.0499175088210371, taccuracy = 86.76470588235294, vaccuracy = 83.82352941176471\n"
          ],
          "name": "stdout"
        },
        {
          "output_type": "display_data",
          "data": {
            "text/plain": [
              "<Figure size 432x288 with 0 Axes>"
            ]
          },
          "metadata": {
            "tags": []
          }
        },
        {
          "output_type": "stream",
          "text": [
            "episode = 302, tloss = 0.04657172697049507, vloss = 0.05003705617609563, taccuracy = 88.23529411764706, vaccuracy = 82.84313725490196\n"
          ],
          "name": "stdout"
        },
        {
          "output_type": "display_data",
          "data": {
            "text/plain": [
              "<Figure size 432x288 with 0 Axes>"
            ]
          },
          "metadata": {
            "tags": []
          }
        },
        {
          "output_type": "stream",
          "text": [
            "episode = 303, tloss = 0.037217697689573885, vloss = 0.037568567651862346, taccuracy = 86.27450980392157, vaccuracy = 87.74509803921569\n"
          ],
          "name": "stdout"
        },
        {
          "output_type": "display_data",
          "data": {
            "text/plain": [
              "<Figure size 432x288 with 0 Axes>"
            ]
          },
          "metadata": {
            "tags": []
          }
        },
        {
          "output_type": "stream",
          "text": [
            "episode = 304, tloss = 0.041717802160700576, vloss = 0.054213095251398294, taccuracy = 89.2156862745098, vaccuracy = 85.7843137254902\n"
          ],
          "name": "stdout"
        },
        {
          "output_type": "display_data",
          "data": {
            "text/plain": [
              "<Figure size 432x288 with 0 Axes>"
            ]
          },
          "metadata": {
            "tags": []
          }
        },
        {
          "output_type": "stream",
          "text": [
            "episode = 305, tloss = 0.041057266992862405, vloss = 0.04838763833324368, taccuracy = 89.70588235294117, vaccuracy = 84.31372549019608\n"
          ],
          "name": "stdout"
        },
        {
          "output_type": "display_data",
          "data": {
            "text/plain": [
              "<Figure size 432x288 with 0 Axes>"
            ]
          },
          "metadata": {
            "tags": []
          }
        },
        {
          "output_type": "stream",
          "text": [
            "episode = 306, tloss = 0.05039074137677448, vloss = 0.05721189817877492, taccuracy = 82.3529411764706, vaccuracy = 81.86274509803921\n"
          ],
          "name": "stdout"
        },
        {
          "output_type": "display_data",
          "data": {
            "text/plain": [
              "<Figure size 432x288 with 0 Axes>"
            ]
          },
          "metadata": {
            "tags": []
          }
        },
        {
          "output_type": "stream",
          "text": [
            "episode = 307, tloss = 0.03767269691137966, vloss = 0.040318341710026954, taccuracy = 86.27450980392157, vaccuracy = 85.29411764705883\n"
          ],
          "name": "stdout"
        },
        {
          "output_type": "display_data",
          "data": {
            "text/plain": [
              "<Figure size 432x288 with 0 Axes>"
            ]
          },
          "metadata": {
            "tags": []
          }
        },
        {
          "output_type": "stream",
          "text": [
            "episode = 308, tloss = 0.05087064390213948, vloss = 0.05698617135137529, taccuracy = 87.25490196078431, vaccuracy = 82.84313725490196\n"
          ],
          "name": "stdout"
        },
        {
          "output_type": "display_data",
          "data": {
            "text/plain": [
              "<Figure size 432x288 with 0 Axes>"
            ]
          },
          "metadata": {
            "tags": []
          }
        },
        {
          "output_type": "stream",
          "text": [
            "episode = 309, tloss = 0.038214231490938645, vloss = 0.0572172046669029, taccuracy = 87.74509803921569, vaccuracy = 78.43137254901961\n"
          ],
          "name": "stdout"
        },
        {
          "output_type": "display_data",
          "data": {
            "text/plain": [
              "<Figure size 432x288 with 0 Axes>"
            ]
          },
          "metadata": {
            "tags": []
          }
        },
        {
          "output_type": "stream",
          "text": [
            "episode = 310, tloss = 0.039763574223448436, vloss = 0.0560251946596201, taccuracy = 88.23529411764706, vaccuracy = 86.76470588235294\n"
          ],
          "name": "stdout"
        },
        {
          "output_type": "display_data",
          "data": {
            "text/plain": [
              "<Figure size 432x288 with 0 Axes>"
            ]
          },
          "metadata": {
            "tags": []
          }
        },
        {
          "output_type": "stream",
          "text": [
            "episode = 311, tloss = 0.05683971246662996, vloss = 0.05344630714205897, taccuracy = 82.84313725490196, vaccuracy = 82.3529411764706\n"
          ],
          "name": "stdout"
        },
        {
          "output_type": "display_data",
          "data": {
            "text/plain": [
              "<Figure size 432x288 with 0 Axes>"
            ]
          },
          "metadata": {
            "tags": []
          }
        },
        {
          "output_type": "stream",
          "text": [
            "episode = 312, tloss = 0.03770321075361016, vloss = 0.037283317650952566, taccuracy = 87.25490196078431, vaccuracy = 89.70588235294117\n"
          ],
          "name": "stdout"
        },
        {
          "output_type": "display_data",
          "data": {
            "text/plain": [
              "<Figure size 432x288 with 0 Axes>"
            ]
          },
          "metadata": {
            "tags": []
          }
        },
        {
          "output_type": "stream",
          "text": [
            "episode = 313, tloss = 0.04395849100037967, vloss = 0.04594231159789439, taccuracy = 85.29411764705883, vaccuracy = 87.25490196078431\n"
          ],
          "name": "stdout"
        },
        {
          "output_type": "display_data",
          "data": {
            "text/plain": [
              "<Figure size 432x288 with 0 Axes>"
            ]
          },
          "metadata": {
            "tags": []
          }
        },
        {
          "output_type": "stream",
          "text": [
            "episode = 314, tloss = 0.04576513328629368, vloss = 0.03761878769087208, taccuracy = 82.84313725490196, vaccuracy = 88.72549019607843\n"
          ],
          "name": "stdout"
        },
        {
          "output_type": "display_data",
          "data": {
            "text/plain": [
              "<Figure size 432x288 with 0 Axes>"
            ]
          },
          "metadata": {
            "tags": []
          }
        },
        {
          "output_type": "stream",
          "text": [
            "episode = 315, tloss = 0.044900380801716634, vloss = 0.04009258412077459, taccuracy = 87.74509803921569, vaccuracy = 87.74509803921569\n"
          ],
          "name": "stdout"
        },
        {
          "output_type": "display_data",
          "data": {
            "text/plain": [
              "<Figure size 432x288 with 0 Axes>"
            ]
          },
          "metadata": {
            "tags": []
          }
        },
        {
          "output_type": "stream",
          "text": [
            "episode = 316, tloss = 0.03283345617979202, vloss = 0.05266405662422648, taccuracy = 89.70588235294117, vaccuracy = 87.74509803921569\n"
          ],
          "name": "stdout"
        },
        {
          "output_type": "display_data",
          "data": {
            "text/plain": [
              "<Figure size 432x288 with 0 Axes>"
            ]
          },
          "metadata": {
            "tags": []
          }
        },
        {
          "output_type": "stream",
          "text": [
            "episode = 317, tloss = 0.03725211018692974, vloss = 0.04102463117298336, taccuracy = 88.23529411764706, vaccuracy = 86.27450980392157\n"
          ],
          "name": "stdout"
        },
        {
          "output_type": "display_data",
          "data": {
            "text/plain": [
              "<Figure size 432x288 with 0 Axes>"
            ]
          },
          "metadata": {
            "tags": []
          }
        },
        {
          "output_type": "stream",
          "text": [
            "episode = 318, tloss = 0.03814038290900034, vloss = 0.0398042233977977, taccuracy = 88.23529411764706, vaccuracy = 88.72549019607843\n"
          ],
          "name": "stdout"
        },
        {
          "output_type": "display_data",
          "data": {
            "text/plain": [
              "<Figure size 432x288 with 0 Axes>"
            ]
          },
          "metadata": {
            "tags": []
          }
        },
        {
          "output_type": "stream",
          "text": [
            "episode = 319, tloss = 0.04126864074355125, vloss = 0.045998823641251074, taccuracy = 89.2156862745098, vaccuracy = 85.29411764705883\n"
          ],
          "name": "stdout"
        },
        {
          "output_type": "display_data",
          "data": {
            "text/plain": [
              "<Figure size 432x288 with 0 Axes>"
            ]
          },
          "metadata": {
            "tags": []
          }
        },
        {
          "output_type": "stream",
          "text": [
            "episode = 320, tloss = 0.04553186249710473, vloss = 0.05797481608518755, taccuracy = 86.76470588235294, vaccuracy = 79.90196078431373\n"
          ],
          "name": "stdout"
        },
        {
          "output_type": "display_data",
          "data": {
            "text/plain": [
              "<Figure size 432x288 with 0 Axes>"
            ]
          },
          "metadata": {
            "tags": []
          }
        },
        {
          "output_type": "stream",
          "text": [
            "episode = 321, tloss = 0.04669134181362909, vloss = 0.041492682752640266, taccuracy = 83.82352941176471, vaccuracy = 87.74509803921569\n"
          ],
          "name": "stdout"
        },
        {
          "output_type": "display_data",
          "data": {
            "text/plain": [
              "<Figure size 432x288 with 0 Axes>"
            ]
          },
          "metadata": {
            "tags": []
          }
        },
        {
          "output_type": "stream",
          "text": [
            "episode = 322, tloss = 0.04172261383793435, vloss = 0.059109626684000424, taccuracy = 86.27450980392157, vaccuracy = 81.37254901960785\n"
          ],
          "name": "stdout"
        },
        {
          "output_type": "display_data",
          "data": {
            "text/plain": [
              "<Figure size 432x288 with 0 Axes>"
            ]
          },
          "metadata": {
            "tags": []
          }
        },
        {
          "output_type": "stream",
          "text": [
            "episode = 323, tloss = 0.03865512153797024, vloss = 0.03915137036752666, taccuracy = 85.29411764705883, vaccuracy = 84.80392156862744\n"
          ],
          "name": "stdout"
        },
        {
          "output_type": "display_data",
          "data": {
            "text/plain": [
              "<Figure size 432x288 with 0 Axes>"
            ]
          },
          "metadata": {
            "tags": []
          }
        },
        {
          "output_type": "stream",
          "text": [
            "episode = 324, tloss = 0.041712702832861416, vloss = 0.048863977286064834, taccuracy = 88.23529411764706, vaccuracy = 87.25490196078431\n"
          ],
          "name": "stdout"
        },
        {
          "output_type": "display_data",
          "data": {
            "text/plain": [
              "<Figure size 432x288 with 0 Axes>"
            ]
          },
          "metadata": {
            "tags": []
          }
        },
        {
          "output_type": "stream",
          "text": [
            "episode = 325, tloss = 0.047363804072631376, vloss = 0.03464126997340524, taccuracy = 85.7843137254902, vaccuracy = 86.27450980392157\n"
          ],
          "name": "stdout"
        },
        {
          "output_type": "display_data",
          "data": {
            "text/plain": [
              "<Figure size 432x288 with 0 Axes>"
            ]
          },
          "metadata": {
            "tags": []
          }
        },
        {
          "output_type": "stream",
          "text": [
            "episode = 326, tloss = 0.05076083231782602, vloss = 0.04393760971986948, taccuracy = 85.29411764705883, vaccuracy = 87.74509803921569\n"
          ],
          "name": "stdout"
        },
        {
          "output_type": "display_data",
          "data": {
            "text/plain": [
              "<Figure size 432x288 with 0 Axes>"
            ]
          },
          "metadata": {
            "tags": []
          }
        },
        {
          "output_type": "stream",
          "text": [
            "episode = 327, tloss = 0.03473700511595849, vloss = 0.03964607638843285, taccuracy = 92.15686274509804, vaccuracy = 89.70588235294117\n"
          ],
          "name": "stdout"
        },
        {
          "output_type": "display_data",
          "data": {
            "text/plain": [
              "<Figure size 432x288 with 0 Axes>"
            ]
          },
          "metadata": {
            "tags": []
          }
        },
        {
          "output_type": "stream",
          "text": [
            "episode = 328, tloss = 0.04573354306090639, vloss = 0.046643115020578316, taccuracy = 86.27450980392157, vaccuracy = 84.31372549019608\n"
          ],
          "name": "stdout"
        },
        {
          "output_type": "display_data",
          "data": {
            "text/plain": [
              "<Figure size 432x288 with 0 Axes>"
            ]
          },
          "metadata": {
            "tags": []
          }
        },
        {
          "output_type": "stream",
          "text": [
            "episode = 329, tloss = 0.03974329059889563, vloss = 0.0401836912724864, taccuracy = 89.2156862745098, vaccuracy = 89.2156862745098\n"
          ],
          "name": "stdout"
        },
        {
          "output_type": "display_data",
          "data": {
            "text/plain": [
              "<Figure size 432x288 with 0 Axes>"
            ]
          },
          "metadata": {
            "tags": []
          }
        },
        {
          "output_type": "stream",
          "text": [
            "episode = 330, tloss = 0.04557912765598174, vloss = 0.03966248467013822, taccuracy = 86.76470588235294, vaccuracy = 88.23529411764706\n"
          ],
          "name": "stdout"
        },
        {
          "output_type": "display_data",
          "data": {
            "text/plain": [
              "<Figure size 432x288 with 0 Axes>"
            ]
          },
          "metadata": {
            "tags": []
          }
        },
        {
          "output_type": "stream",
          "text": [
            "episode = 331, tloss = 0.037368263879394834, vloss = 0.03819201331760231, taccuracy = 88.72549019607843, vaccuracy = 87.25490196078431\n"
          ],
          "name": "stdout"
        },
        {
          "output_type": "display_data",
          "data": {
            "text/plain": [
              "<Figure size 432x288 with 0 Axes>"
            ]
          },
          "metadata": {
            "tags": []
          }
        },
        {
          "output_type": "stream",
          "text": [
            "episode = 332, tloss = 0.03372184113732924, vloss = 0.0540878057142698, taccuracy = 88.72549019607843, vaccuracy = 84.80392156862744\n"
          ],
          "name": "stdout"
        },
        {
          "output_type": "display_data",
          "data": {
            "text/plain": [
              "<Figure size 432x288 with 0 Axes>"
            ]
          },
          "metadata": {
            "tags": []
          }
        },
        {
          "output_type": "stream",
          "text": [
            "episode = 333, tloss = 0.0319219104944782, vloss = 0.04706100935738848, taccuracy = 89.70588235294117, vaccuracy = 82.84313725490196\n"
          ],
          "name": "stdout"
        },
        {
          "output_type": "display_data",
          "data": {
            "text/plain": [
              "<Figure size 432x288 with 0 Axes>"
            ]
          },
          "metadata": {
            "tags": []
          }
        },
        {
          "output_type": "stream",
          "text": [
            "episode = 334, tloss = 0.03703220135238075, vloss = 0.039575839298812955, taccuracy = 89.2156862745098, vaccuracy = 88.72549019607843\n"
          ],
          "name": "stdout"
        },
        {
          "output_type": "display_data",
          "data": {
            "text/plain": [
              "<Figure size 432x288 with 0 Axes>"
            ]
          },
          "metadata": {
            "tags": []
          }
        },
        {
          "output_type": "stream",
          "text": [
            "episode = 335, tloss = 0.05654147558365692, vloss = 0.0556351232560159, taccuracy = 87.25490196078431, vaccuracy = 85.7843137254902\n"
          ],
          "name": "stdout"
        },
        {
          "output_type": "display_data",
          "data": {
            "text/plain": [
              "<Figure size 432x288 with 0 Axes>"
            ]
          },
          "metadata": {
            "tags": []
          }
        },
        {
          "output_type": "stream",
          "text": [
            "episode = 336, tloss = 0.04163991729166745, vloss = 0.03665360851643778, taccuracy = 86.27450980392157, vaccuracy = 87.25490196078431\n"
          ],
          "name": "stdout"
        },
        {
          "output_type": "display_data",
          "data": {
            "text/plain": [
              "<Figure size 432x288 with 0 Axes>"
            ]
          },
          "metadata": {
            "tags": []
          }
        },
        {
          "output_type": "stream",
          "text": [
            "episode = 337, tloss = 0.03613805610601226, vloss = 0.03724177605078442, taccuracy = 85.29411764705883, vaccuracy = 89.2156862745098\n"
          ],
          "name": "stdout"
        },
        {
          "output_type": "display_data",
          "data": {
            "text/plain": [
              "<Figure size 432x288 with 0 Axes>"
            ]
          },
          "metadata": {
            "tags": []
          }
        },
        {
          "output_type": "stream",
          "text": [
            "episode = 338, tloss = 0.041162013515039404, vloss = 0.041898429385096705, taccuracy = 86.76470588235294, vaccuracy = 87.74509803921569\n"
          ],
          "name": "stdout"
        },
        {
          "output_type": "display_data",
          "data": {
            "text/plain": [
              "<Figure size 432x288 with 0 Axes>"
            ]
          },
          "metadata": {
            "tags": []
          }
        },
        {
          "output_type": "stream",
          "text": [
            "episode = 339, tloss = 0.030921980778751745, vloss = 0.04767399736050871, taccuracy = 88.23529411764706, vaccuracy = 81.37254901960785\n"
          ],
          "name": "stdout"
        },
        {
          "output_type": "display_data",
          "data": {
            "text/plain": [
              "<Figure size 432x288 with 0 Axes>"
            ]
          },
          "metadata": {
            "tags": []
          }
        },
        {
          "output_type": "stream",
          "text": [
            "episode = 340, tloss = 0.03499795404055596, vloss = 0.039816756487173574, taccuracy = 91.66666666666667, vaccuracy = 87.25490196078431\n"
          ],
          "name": "stdout"
        },
        {
          "output_type": "display_data",
          "data": {
            "text/plain": [
              "<Figure size 432x288 with 0 Axes>"
            ]
          },
          "metadata": {
            "tags": []
          }
        },
        {
          "output_type": "stream",
          "text": [
            "episode = 341, tloss = 0.041023337355507006, vloss = 0.04617781940448745, taccuracy = 87.74509803921569, vaccuracy = 87.25490196078431\n"
          ],
          "name": "stdout"
        },
        {
          "output_type": "display_data",
          "data": {
            "text/plain": [
              "<Figure size 432x288 with 0 Axes>"
            ]
          },
          "metadata": {
            "tags": []
          }
        },
        {
          "output_type": "stream",
          "text": [
            "episode = 342, tloss = 0.03555913240106881, vloss = 0.04315311591960182, taccuracy = 87.74509803921569, vaccuracy = 86.27450980392157\n"
          ],
          "name": "stdout"
        },
        {
          "output_type": "display_data",
          "data": {
            "text/plain": [
              "<Figure size 432x288 with 0 Axes>"
            ]
          },
          "metadata": {
            "tags": []
          }
        },
        {
          "output_type": "stream",
          "text": [
            "episode = 343, tloss = 0.0397344430746341, vloss = 0.038593313790037734, taccuracy = 87.74509803921569, vaccuracy = 89.70588235294117\n"
          ],
          "name": "stdout"
        },
        {
          "output_type": "display_data",
          "data": {
            "text/plain": [
              "<Figure size 432x288 with 0 Axes>"
            ]
          },
          "metadata": {
            "tags": []
          }
        },
        {
          "output_type": "stream",
          "text": [
            "episode = 344, tloss = 0.037423775829011505, vloss = 0.0482774409370814, taccuracy = 86.76470588235294, vaccuracy = 83.33333333333333\n"
          ],
          "name": "stdout"
        },
        {
          "output_type": "display_data",
          "data": {
            "text/plain": [
              "<Figure size 432x288 with 0 Axes>"
            ]
          },
          "metadata": {
            "tags": []
          }
        },
        {
          "output_type": "stream",
          "text": [
            "episode = 345, tloss = 0.04524036345776026, vloss = 0.04446389256496462, taccuracy = 88.23529411764706, vaccuracy = 89.70588235294117\n"
          ],
          "name": "stdout"
        },
        {
          "output_type": "display_data",
          "data": {
            "text/plain": [
              "<Figure size 432x288 with 0 Axes>"
            ]
          },
          "metadata": {
            "tags": []
          }
        },
        {
          "output_type": "stream",
          "text": [
            "episode = 346, tloss = 0.035114748221307134, vloss = 0.03949045772578166, taccuracy = 90.19607843137256, vaccuracy = 89.70588235294117\n"
          ],
          "name": "stdout"
        },
        {
          "output_type": "display_data",
          "data": {
            "text/plain": [
              "<Figure size 432x288 with 0 Axes>"
            ]
          },
          "metadata": {
            "tags": []
          }
        },
        {
          "output_type": "stream",
          "text": [
            "episode = 347, tloss = 0.03885326952953634, vloss = 0.04587393335249493, taccuracy = 87.25490196078431, vaccuracy = 84.80392156862744\n"
          ],
          "name": "stdout"
        },
        {
          "output_type": "display_data",
          "data": {
            "text/plain": [
              "<Figure size 432x288 with 0 Axes>"
            ]
          },
          "metadata": {
            "tags": []
          }
        },
        {
          "output_type": "stream",
          "text": [
            "episode = 348, tloss = 0.04383167920504187, vloss = 0.04864836106169803, taccuracy = 86.76470588235294, vaccuracy = 85.29411764705883\n"
          ],
          "name": "stdout"
        },
        {
          "output_type": "display_data",
          "data": {
            "text/plain": [
              "<Figure size 432x288 with 0 Axes>"
            ]
          },
          "metadata": {
            "tags": []
          }
        },
        {
          "output_type": "stream",
          "text": [
            "episode = 349, tloss = 0.03190398180451633, vloss = 0.04011363838276348, taccuracy = 88.23529411764706, vaccuracy = 88.72549019607843\n"
          ],
          "name": "stdout"
        },
        {
          "output_type": "display_data",
          "data": {
            "text/plain": [
              "<Figure size 432x288 with 0 Axes>"
            ]
          },
          "metadata": {
            "tags": []
          }
        },
        {
          "output_type": "stream",
          "text": [
            "episode = 350, tloss = 0.04668431172018818, vloss = 0.04571360176254204, taccuracy = 87.25490196078431, vaccuracy = 87.74509803921569\n"
          ],
          "name": "stdout"
        },
        {
          "output_type": "display_data",
          "data": {
            "text/plain": [
              "<Figure size 432x288 with 0 Axes>"
            ]
          },
          "metadata": {
            "tags": []
          }
        },
        {
          "output_type": "stream",
          "text": [
            "episode = 351, tloss = 0.040371600421726626, vloss = 0.036745493475533145, taccuracy = 85.29411764705883, vaccuracy = 89.70588235294117\n"
          ],
          "name": "stdout"
        },
        {
          "output_type": "display_data",
          "data": {
            "text/plain": [
              "<Figure size 432x288 with 0 Axes>"
            ]
          },
          "metadata": {
            "tags": []
          }
        },
        {
          "output_type": "stream",
          "text": [
            "episode = 352, tloss = 0.033124413691070796, vloss = 0.04543799903482451, taccuracy = 90.19607843137256, vaccuracy = 86.27450980392157\n"
          ],
          "name": "stdout"
        },
        {
          "output_type": "display_data",
          "data": {
            "text/plain": [
              "<Figure size 432x288 with 0 Axes>"
            ]
          },
          "metadata": {
            "tags": []
          }
        },
        {
          "output_type": "stream",
          "text": [
            "episode = 353, tloss = 0.03684536415830434, vloss = 0.04457103570739022, taccuracy = 88.72549019607843, vaccuracy = 84.80392156862744\n"
          ],
          "name": "stdout"
        },
        {
          "output_type": "display_data",
          "data": {
            "text/plain": [
              "<Figure size 432x288 with 0 Axes>"
            ]
          },
          "metadata": {
            "tags": []
          }
        },
        {
          "output_type": "stream",
          "text": [
            "episode = 354, tloss = 0.03560266946110568, vloss = 0.04216019150992358, taccuracy = 89.70588235294117, vaccuracy = 84.80392156862744\n"
          ],
          "name": "stdout"
        },
        {
          "output_type": "display_data",
          "data": {
            "text/plain": [
              "<Figure size 432x288 with 0 Axes>"
            ]
          },
          "metadata": {
            "tags": []
          }
        },
        {
          "output_type": "stream",
          "text": [
            "episode = 355, tloss = 0.03892506875770404, vloss = 0.04385524784464774, taccuracy = 88.72549019607843, vaccuracy = 84.80392156862744\n"
          ],
          "name": "stdout"
        },
        {
          "output_type": "display_data",
          "data": {
            "text/plain": [
              "<Figure size 432x288 with 0 Axes>"
            ]
          },
          "metadata": {
            "tags": []
          }
        },
        {
          "output_type": "stream",
          "text": [
            "episode = 356, tloss = 0.03976547851216197, vloss = 0.055896641986792894, taccuracy = 88.23529411764706, vaccuracy = 80.88235294117646\n"
          ],
          "name": "stdout"
        },
        {
          "output_type": "display_data",
          "data": {
            "text/plain": [
              "<Figure size 432x288 with 0 Axes>"
            ]
          },
          "metadata": {
            "tags": []
          }
        },
        {
          "output_type": "stream",
          "text": [
            "episode = 357, tloss = 0.04402022705914626, vloss = 0.05249950545484229, taccuracy = 86.27450980392157, vaccuracy = 83.82352941176471\n"
          ],
          "name": "stdout"
        },
        {
          "output_type": "display_data",
          "data": {
            "text/plain": [
              "<Figure size 432x288 with 0 Axes>"
            ]
          },
          "metadata": {
            "tags": []
          }
        },
        {
          "output_type": "stream",
          "text": [
            "episode = 358, tloss = 0.035992001068824095, vloss = 0.044255646695198006, taccuracy = 91.17647058823529, vaccuracy = 85.29411764705883\n"
          ],
          "name": "stdout"
        },
        {
          "output_type": "display_data",
          "data": {
            "text/plain": [
              "<Figure size 432x288 with 0 Axes>"
            ]
          },
          "metadata": {
            "tags": []
          }
        },
        {
          "output_type": "stream",
          "text": [
            "episode = 359, tloss = 0.03304215481369478, vloss = 0.033966732153861964, taccuracy = 90.68627450980392, vaccuracy = 91.66666666666667\n"
          ],
          "name": "stdout"
        },
        {
          "output_type": "display_data",
          "data": {
            "text/plain": [
              "<Figure size 432x288 with 0 Axes>"
            ]
          },
          "metadata": {
            "tags": []
          }
        },
        {
          "output_type": "stream",
          "text": [
            "episode = 360, tloss = 0.028195840708290933, vloss = 0.04150002439194002, taccuracy = 91.66666666666667, vaccuracy = 87.74509803921569\n"
          ],
          "name": "stdout"
        },
        {
          "output_type": "display_data",
          "data": {
            "text/plain": [
              "<Figure size 432x288 with 0 Axes>"
            ]
          },
          "metadata": {
            "tags": []
          }
        },
        {
          "output_type": "stream",
          "text": [
            "episode = 361, tloss = 0.042385777758312926, vloss = 0.04215262914754779, taccuracy = 89.70588235294117, vaccuracy = 88.23529411764706\n"
          ],
          "name": "stdout"
        },
        {
          "output_type": "display_data",
          "data": {
            "text/plain": [
              "<Figure size 432x288 with 0 Axes>"
            ]
          },
          "metadata": {
            "tags": []
          }
        },
        {
          "output_type": "stream",
          "text": [
            "episode = 362, tloss = 0.032147467751020356, vloss = 0.049686035602722715, taccuracy = 90.68627450980392, vaccuracy = 85.29411764705883\n"
          ],
          "name": "stdout"
        },
        {
          "output_type": "display_data",
          "data": {
            "text/plain": [
              "<Figure size 432x288 with 0 Axes>"
            ]
          },
          "metadata": {
            "tags": []
          }
        },
        {
          "output_type": "stream",
          "text": [
            "episode = 363, tloss = 0.030401107841257, vloss = 0.040320023622732216, taccuracy = 90.68627450980392, vaccuracy = 87.74509803921569\n"
          ],
          "name": "stdout"
        },
        {
          "output_type": "display_data",
          "data": {
            "text/plain": [
              "<Figure size 432x288 with 0 Axes>"
            ]
          },
          "metadata": {
            "tags": []
          }
        },
        {
          "output_type": "stream",
          "text": [
            "episode = 364, tloss = 0.05380621767502177, vloss = 0.03627076630788954, taccuracy = 84.31372549019608, vaccuracy = 90.68627450980392\n"
          ],
          "name": "stdout"
        },
        {
          "output_type": "display_data",
          "data": {
            "text/plain": [
              "<Figure size 432x288 with 0 Axes>"
            ]
          },
          "metadata": {
            "tags": []
          }
        },
        {
          "output_type": "stream",
          "text": [
            "episode = 365, tloss = 0.04004063184559412, vloss = 0.05274793804303161, taccuracy = 87.74509803921569, vaccuracy = 84.80392156862744\n"
          ],
          "name": "stdout"
        },
        {
          "output_type": "display_data",
          "data": {
            "text/plain": [
              "<Figure size 432x288 with 0 Axes>"
            ]
          },
          "metadata": {
            "tags": []
          }
        },
        {
          "output_type": "stream",
          "text": [
            "episode = 366, tloss = 0.036788238874206236, vloss = 0.0705074216006318, taccuracy = 87.74509803921569, vaccuracy = 83.33333333333333\n"
          ],
          "name": "stdout"
        },
        {
          "output_type": "display_data",
          "data": {
            "text/plain": [
              "<Figure size 432x288 with 0 Axes>"
            ]
          },
          "metadata": {
            "tags": []
          }
        },
        {
          "output_type": "stream",
          "text": [
            "episode = 367, tloss = 0.031700987100483594, vloss = 0.05893089226752306, taccuracy = 90.19607843137256, vaccuracy = 85.7843137254902\n"
          ],
          "name": "stdout"
        },
        {
          "output_type": "display_data",
          "data": {
            "text/plain": [
              "<Figure size 432x288 with 0 Axes>"
            ]
          },
          "metadata": {
            "tags": []
          }
        },
        {
          "output_type": "stream",
          "text": [
            "episode = 368, tloss = 0.031470443583081334, vloss = 0.02916195735067806, taccuracy = 89.70588235294117, vaccuracy = 91.66666666666667\n"
          ],
          "name": "stdout"
        },
        {
          "output_type": "display_data",
          "data": {
            "text/plain": [
              "<Figure size 432x288 with 0 Axes>"
            ]
          },
          "metadata": {
            "tags": []
          }
        },
        {
          "output_type": "stream",
          "text": [
            "episode = 369, tloss = 0.0344449255190457, vloss = 0.050762780001296484, taccuracy = 88.72549019607843, vaccuracy = 84.31372549019608\n"
          ],
          "name": "stdout"
        },
        {
          "output_type": "display_data",
          "data": {
            "text/plain": [
              "<Figure size 432x288 with 0 Axes>"
            ]
          },
          "metadata": {
            "tags": []
          }
        },
        {
          "output_type": "stream",
          "text": [
            "episode = 370, tloss = 0.03485423853868434, vloss = 0.04468321631007548, taccuracy = 88.23529411764706, vaccuracy = 88.72549019607843\n"
          ],
          "name": "stdout"
        },
        {
          "output_type": "display_data",
          "data": {
            "text/plain": [
              "<Figure size 432x288 with 0 Axes>"
            ]
          },
          "metadata": {
            "tags": []
          }
        },
        {
          "output_type": "stream",
          "text": [
            "episode = 371, tloss = 0.03389171675917414, vloss = 0.036497573711538486, taccuracy = 87.74509803921569, vaccuracy = 88.72549019607843\n"
          ],
          "name": "stdout"
        },
        {
          "output_type": "display_data",
          "data": {
            "text/plain": [
              "<Figure size 432x288 with 0 Axes>"
            ]
          },
          "metadata": {
            "tags": []
          }
        },
        {
          "output_type": "stream",
          "text": [
            "episode = 372, tloss = 0.052380147874443804, vloss = 0.03193017781774207, taccuracy = 84.80392156862744, vaccuracy = 91.17647058823529\n"
          ],
          "name": "stdout"
        },
        {
          "output_type": "display_data",
          "data": {
            "text/plain": [
              "<Figure size 432x288 with 0 Axes>"
            ]
          },
          "metadata": {
            "tags": []
          }
        },
        {
          "output_type": "stream",
          "text": [
            "episode = 373, tloss = 0.030107234982399554, vloss = 0.046837332775761784, taccuracy = 90.68627450980392, vaccuracy = 84.80392156862744\n"
          ],
          "name": "stdout"
        },
        {
          "output_type": "display_data",
          "data": {
            "text/plain": [
              "<Figure size 432x288 with 0 Axes>"
            ]
          },
          "metadata": {
            "tags": []
          }
        },
        {
          "output_type": "stream",
          "text": [
            "episode = 374, tloss = 0.031444608438170554, vloss = 0.03649601677978863, taccuracy = 93.13725490196079, vaccuracy = 90.19607843137256\n"
          ],
          "name": "stdout"
        },
        {
          "output_type": "display_data",
          "data": {
            "text/plain": [
              "<Figure size 432x288 with 0 Axes>"
            ]
          },
          "metadata": {
            "tags": []
          }
        },
        {
          "output_type": "stream",
          "text": [
            "episode = 375, tloss = 0.03032601981251659, vloss = 0.0411999033415908, taccuracy = 91.17647058823529, vaccuracy = 89.2156862745098\n"
          ],
          "name": "stdout"
        },
        {
          "output_type": "display_data",
          "data": {
            "text/plain": [
              "<Figure size 432x288 with 0 Axes>"
            ]
          },
          "metadata": {
            "tags": []
          }
        },
        {
          "output_type": "stream",
          "text": [
            "episode = 376, tloss = 0.04393683763731684, vloss = 0.034784411647457714, taccuracy = 87.74509803921569, vaccuracy = 90.19607843137256\n"
          ],
          "name": "stdout"
        },
        {
          "output_type": "display_data",
          "data": {
            "text/plain": [
              "<Figure size 432x288 with 0 Axes>"
            ]
          },
          "metadata": {
            "tags": []
          }
        },
        {
          "output_type": "stream",
          "text": [
            "episode = 377, tloss = 0.03994900572826187, vloss = 0.054271117984054006, taccuracy = 88.72549019607843, vaccuracy = 85.7843137254902\n"
          ],
          "name": "stdout"
        },
        {
          "output_type": "display_data",
          "data": {
            "text/plain": [
              "<Figure size 432x288 with 0 Axes>"
            ]
          },
          "metadata": {
            "tags": []
          }
        },
        {
          "output_type": "stream",
          "text": [
            "episode = 378, tloss = 0.05075435668768834, vloss = 0.06594476794820334, taccuracy = 86.76470588235294, vaccuracy = 83.82352941176471\n"
          ],
          "name": "stdout"
        },
        {
          "output_type": "display_data",
          "data": {
            "text/plain": [
              "<Figure size 432x288 with 0 Axes>"
            ]
          },
          "metadata": {
            "tags": []
          }
        },
        {
          "output_type": "stream",
          "text": [
            "episode = 379, tloss = 0.03707630417405075, vloss = 0.031150449471394625, taccuracy = 90.68627450980392, vaccuracy = 90.68627450980392\n"
          ],
          "name": "stdout"
        },
        {
          "output_type": "display_data",
          "data": {
            "text/plain": [
              "<Figure size 432x288 with 0 Axes>"
            ]
          },
          "metadata": {
            "tags": []
          }
        },
        {
          "output_type": "stream",
          "text": [
            "episode = 380, tloss = 0.04739886650572335, vloss = 0.04148131625815908, taccuracy = 85.7843137254902, vaccuracy = 86.27450980392157\n"
          ],
          "name": "stdout"
        },
        {
          "output_type": "display_data",
          "data": {
            "text/plain": [
              "<Figure size 432x288 with 0 Axes>"
            ]
          },
          "metadata": {
            "tags": []
          }
        },
        {
          "output_type": "stream",
          "text": [
            "episode = 381, tloss = 0.032234147245999975, vloss = 0.03504362736996392, taccuracy = 90.19607843137256, vaccuracy = 88.23529411764706\n"
          ],
          "name": "stdout"
        },
        {
          "output_type": "display_data",
          "data": {
            "text/plain": [
              "<Figure size 432x288 with 0 Axes>"
            ]
          },
          "metadata": {
            "tags": []
          }
        },
        {
          "output_type": "stream",
          "text": [
            "episode = 382, tloss = 0.04367091902862078, vloss = 0.0438353431160492, taccuracy = 85.29411764705883, vaccuracy = 85.7843137254902\n"
          ],
          "name": "stdout"
        },
        {
          "output_type": "display_data",
          "data": {
            "text/plain": [
              "<Figure size 432x288 with 0 Axes>"
            ]
          },
          "metadata": {
            "tags": []
          }
        },
        {
          "output_type": "stream",
          "text": [
            "episode = 383, tloss = 0.042768580092766406, vloss = 0.0349059114095109, taccuracy = 85.29411764705883, vaccuracy = 86.27450980392157\n"
          ],
          "name": "stdout"
        },
        {
          "output_type": "display_data",
          "data": {
            "text/plain": [
              "<Figure size 432x288 with 0 Axes>"
            ]
          },
          "metadata": {
            "tags": []
          }
        },
        {
          "output_type": "stream",
          "text": [
            "episode = 384, tloss = 0.034067369735411406, vloss = 0.042597929722830594, taccuracy = 89.2156862745098, vaccuracy = 85.7843137254902\n"
          ],
          "name": "stdout"
        },
        {
          "output_type": "display_data",
          "data": {
            "text/plain": [
              "<Figure size 432x288 with 0 Axes>"
            ]
          },
          "metadata": {
            "tags": []
          }
        },
        {
          "output_type": "stream",
          "text": [
            "episode = 385, tloss = 0.04565765350216996, vloss = 0.03903174888837848, taccuracy = 85.29411764705883, vaccuracy = 88.72549019607843\n"
          ],
          "name": "stdout"
        },
        {
          "output_type": "display_data",
          "data": {
            "text/plain": [
              "<Figure size 432x288 with 0 Axes>"
            ]
          },
          "metadata": {
            "tags": []
          }
        },
        {
          "output_type": "stream",
          "text": [
            "episode = 386, tloss = 0.03230506251037679, vloss = 0.04290411665999815, taccuracy = 89.2156862745098, vaccuracy = 89.2156862745098\n"
          ],
          "name": "stdout"
        },
        {
          "output_type": "display_data",
          "data": {
            "text/plain": [
              "<Figure size 432x288 with 0 Axes>"
            ]
          },
          "metadata": {
            "tags": []
          }
        },
        {
          "output_type": "stream",
          "text": [
            "episode = 387, tloss = 0.038366404499836165, vloss = 0.03286792056479563, taccuracy = 87.25490196078431, vaccuracy = 89.2156862745098\n"
          ],
          "name": "stdout"
        },
        {
          "output_type": "display_data",
          "data": {
            "text/plain": [
              "<Figure size 432x288 with 0 Axes>"
            ]
          },
          "metadata": {
            "tags": []
          }
        },
        {
          "output_type": "stream",
          "text": [
            "episode = 388, tloss = 0.03123477369419304, vloss = 0.035550349567768355, taccuracy = 91.66666666666667, vaccuracy = 89.70588235294117\n"
          ],
          "name": "stdout"
        },
        {
          "output_type": "display_data",
          "data": {
            "text/plain": [
              "<Figure size 432x288 with 0 Axes>"
            ]
          },
          "metadata": {
            "tags": []
          }
        },
        {
          "output_type": "stream",
          "text": [
            "episode = 389, tloss = 0.03746174500410819, vloss = 0.04217276690550338, taccuracy = 86.76470588235294, vaccuracy = 89.2156862745098\n"
          ],
          "name": "stdout"
        },
        {
          "output_type": "display_data",
          "data": {
            "text/plain": [
              "<Figure size 432x288 with 0 Axes>"
            ]
          },
          "metadata": {
            "tags": []
          }
        },
        {
          "output_type": "stream",
          "text": [
            "episode = 390, tloss = 0.040340175278584446, vloss = 0.04132562906248648, taccuracy = 86.76470588235294, vaccuracy = 87.74509803921569\n"
          ],
          "name": "stdout"
        },
        {
          "output_type": "display_data",
          "data": {
            "text/plain": [
              "<Figure size 432x288 with 0 Axes>"
            ]
          },
          "metadata": {
            "tags": []
          }
        },
        {
          "output_type": "stream",
          "text": [
            "episode = 391, tloss = 0.03775716106807467, vloss = 0.03773942622741501, taccuracy = 88.23529411764706, vaccuracy = 88.23529411764706\n"
          ],
          "name": "stdout"
        },
        {
          "output_type": "display_data",
          "data": {
            "text/plain": [
              "<Figure size 432x288 with 0 Axes>"
            ]
          },
          "metadata": {
            "tags": []
          }
        },
        {
          "output_type": "stream",
          "text": [
            "episode = 392, tloss = 0.04052894163784064, vloss = 0.03515940558300027, taccuracy = 88.23529411764706, vaccuracy = 90.68627450980392\n"
          ],
          "name": "stdout"
        },
        {
          "output_type": "display_data",
          "data": {
            "text/plain": [
              "<Figure size 432x288 with 0 Axes>"
            ]
          },
          "metadata": {
            "tags": []
          }
        },
        {
          "output_type": "stream",
          "text": [
            "episode = 393, tloss = 0.038170261758699774, vloss = 0.03773036559120243, taccuracy = 88.72549019607843, vaccuracy = 88.72549019607843\n"
          ],
          "name": "stdout"
        },
        {
          "output_type": "display_data",
          "data": {
            "text/plain": [
              "<Figure size 432x288 with 0 Axes>"
            ]
          },
          "metadata": {
            "tags": []
          }
        },
        {
          "output_type": "stream",
          "text": [
            "episode = 394, tloss = 0.028473719167017558, vloss = 0.05268538248573369, taccuracy = 91.66666666666667, vaccuracy = 82.3529411764706\n"
          ],
          "name": "stdout"
        },
        {
          "output_type": "display_data",
          "data": {
            "text/plain": [
              "<Figure size 432x288 with 0 Axes>"
            ]
          },
          "metadata": {
            "tags": []
          }
        },
        {
          "output_type": "stream",
          "text": [
            "episode = 395, tloss = 0.0378686310684331, vloss = 0.03485352575260331, taccuracy = 86.76470588235294, vaccuracy = 87.25490196078431\n"
          ],
          "name": "stdout"
        },
        {
          "output_type": "display_data",
          "data": {
            "text/plain": [
              "<Figure size 432x288 with 0 Axes>"
            ]
          },
          "metadata": {
            "tags": []
          }
        },
        {
          "output_type": "stream",
          "text": [
            "episode = 396, tloss = 0.03323102791817879, vloss = 0.04981429975470473, taccuracy = 90.68627450980392, vaccuracy = 85.29411764705883\n"
          ],
          "name": "stdout"
        },
        {
          "output_type": "display_data",
          "data": {
            "text/plain": [
              "<Figure size 432x288 with 0 Axes>"
            ]
          },
          "metadata": {
            "tags": []
          }
        },
        {
          "output_type": "stream",
          "text": [
            "episode = 397, tloss = 0.035899445144336045, vloss = 0.04973247324081999, taccuracy = 89.70588235294117, vaccuracy = 84.31372549019608\n"
          ],
          "name": "stdout"
        },
        {
          "output_type": "display_data",
          "data": {
            "text/plain": [
              "<Figure size 432x288 with 0 Axes>"
            ]
          },
          "metadata": {
            "tags": []
          }
        },
        {
          "output_type": "stream",
          "text": [
            "episode = 398, tloss = 0.03202233971426083, vloss = 0.03818459020599111, taccuracy = 88.23529411764706, vaccuracy = 87.25490196078431\n"
          ],
          "name": "stdout"
        },
        {
          "output_type": "display_data",
          "data": {
            "text/plain": [
              "<Figure size 432x288 with 0 Axes>"
            ]
          },
          "metadata": {
            "tags": []
          }
        },
        {
          "output_type": "stream",
          "text": [
            "episode = 399, tloss = 0.03765760863736635, vloss = 0.0455955280150651, taccuracy = 85.29411764705883, vaccuracy = 85.7843137254902\n"
          ],
          "name": "stdout"
        },
        {
          "output_type": "display_data",
          "data": {
            "text/plain": [
              "<Figure size 432x288 with 0 Axes>"
            ]
          },
          "metadata": {
            "tags": []
          }
        }
      ]
    },
    {
      "cell_type": "code",
      "metadata": {
        "id": "3U0OlAD8T3w1",
        "colab_type": "code",
        "outputId": "990242f1-c41e-4f69-ede6-536c23798d95",
        "colab": {
          "base_uri": "https://localhost:8080/",
          "height": 1000
        }
      },
      "source": [
        "!zip -r png.zip png png_2"
      ],
      "execution_count": 0,
      "outputs": [
        {
          "output_type": "stream",
          "text": [
            "  adding: png/ (stored 0%)\n",
            "  adding: png/episode0346.png (deflated 5%)\n",
            "  adding: png/episode0050.png (deflated 7%)\n",
            "  adding: png/episode0111.png (deflated 5%)\n",
            "  adding: png/episode0126.png (deflated 6%)\n",
            "  adding: png/episode0286.png (deflated 5%)\n",
            "  adding: png/episode0105.png (deflated 5%)\n",
            "  adding: png/episode0296.png (deflated 5%)\n",
            "  adding: png/episode0096.png (deflated 5%)\n",
            "  adding: png/episode0207.png (deflated 5%)\n",
            "  adding: png/episode0375.png (deflated 5%)\n",
            "  adding: png/episode0190.png (deflated 5%)\n",
            "  adding: png/episode0222.png (deflated 5%)\n",
            "  adding: png/episode0225.png (deflated 5%)\n",
            "  adding: png/episode0384.png (deflated 5%)\n",
            "  adding: png/episode0024.png (deflated 8%)\n",
            "  adding: png/episode0281.png (deflated 5%)\n",
            "  adding: png/episode0217.png (deflated 5%)\n",
            "  adding: png/episode0187.png (deflated 5%)\n",
            "  adding: png/episode0378.png (deflated 5%)\n",
            "  adding: png/episode0106.png (deflated 6%)\n",
            "  adding: png/episode0040.png (deflated 7%)\n",
            "  adding: png/episode0244.png (deflated 5%)\n",
            "  adding: png/episode0270.png (deflated 5%)\n",
            "  adding: png/episode0301.png (deflated 5%)\n",
            "  adding: png/episode0064.png (deflated 7%)\n",
            "  adding: png/episode0140.png (deflated 6%)\n",
            "  adding: png/episode0116.png (deflated 5%)\n",
            "  adding: png/episode0101.png (deflated 6%)\n",
            "  adding: png/episode0185.png (deflated 5%)\n",
            "  adding: png/episode0128.png (deflated 5%)\n",
            "  adding: png/episode0027.png (deflated 7%)\n",
            "  adding: png/episode0390.png (deflated 5%)\n",
            "  adding: png/episode0248.png (deflated 5%)\n",
            "  adding: png/episode0347.png (deflated 5%)\n",
            "  adding: png/episode0143.png (deflated 5%)\n",
            "  adding: png/episode0329.png (deflated 5%)\n",
            "  adding: png/episode0164.png (deflated 6%)\n",
            "  adding: png/episode0273.png (deflated 5%)\n",
            "  adding: png/episode0321.png (deflated 5%)\n",
            "  adding: png/episode0133.png (deflated 5%)\n",
            "  adding: png/episode0157.png (deflated 5%)\n",
            "  adding: png/episode0292.png (deflated 5%)\n",
            "  adding: png/episode0100.png (deflated 5%)\n",
            "  adding: png/episode0109.png (deflated 6%)\n",
            "  adding: png/episode0151.png (deflated 5%)\n",
            "  adding: png/episode0008.png (deflated 10%)\n",
            "  adding: png/episode0337.png (deflated 5%)\n",
            "  adding: png/episode0232.png (deflated 5%)\n",
            "  adding: png/episode0202.png (deflated 5%)\n",
            "  adding: png/episode0227.png (deflated 5%)\n",
            "  adding: png/episode0118.png (deflated 5%)\n",
            "  adding: png/episode0112.png (deflated 6%)\n",
            "  adding: png/episode0197.png (deflated 5%)\n",
            "  adding: png/episode0277.png (deflated 5%)\n",
            "  adding: png/episode0331.png (deflated 5%)\n",
            "  adding: png/episode0186.png (deflated 5%)\n",
            "  adding: png/episode0276.png (deflated 5%)\n",
            "  adding: png/episode0356.png (deflated 5%)\n",
            "  adding: png/episode0183.png (deflated 5%)\n",
            "  adding: png/episode0322.png (deflated 5%)\n",
            "  adding: png/episode0210.png (deflated 5%)\n",
            "  adding: png/episode0167.png (deflated 5%)\n",
            "  adding: png/episode0341.png (deflated 5%)\n",
            "  adding: png/episode0086.png (deflated 6%)\n",
            "  adding: png/episode0130.png (deflated 6%)\n",
            "  adding: png/episode0309.png (deflated 5%)\n",
            "  adding: png/episode0239.png (deflated 5%)\n",
            "  adding: png/episode0279.png (deflated 5%)\n",
            "  adding: png/episode0006.png (deflated 10%)\n",
            "  adding: png/episode0072.png (deflated 6%)\n",
            "  adding: png/episode0139.png (deflated 6%)\n",
            "  adding: png/episode0268.png (deflated 5%)\n",
            "  adding: png/episode0059.png (deflated 7%)\n",
            "  adding: png/episode0380.png (deflated 5%)\n",
            "  adding: png/episode0275.png (deflated 5%)\n",
            "  adding: png/episode0259.png (deflated 5%)\n",
            "  adding: png/episode0121.png (deflated 6%)\n",
            "  adding: png/episode0108.png (deflated 6%)\n",
            "  adding: png/episode0114.png (deflated 6%)\n",
            "  adding: png/episode0162.png (deflated 6%)\n",
            "  adding: png/episode0326.png (deflated 5%)\n",
            "  adding: png/episode0180.png (deflated 5%)\n",
            "  adding: png/episode0385.png (deflated 5%)\n",
            "  adding: png/episode0354.png (deflated 5%)\n",
            "  adding: png/episode0159.png (deflated 5%)\n",
            "  adding: png/episode0014.png (deflated 9%)\n",
            "  adding: png/episode0236.png (deflated 5%)\n",
            "  adding: png/episode0028.png (deflated 7%)\n",
            "  adding: png/episode0351.png (deflated 5%)\n",
            "  adding: png/episode0312.png (deflated 5%)\n",
            "  adding: png/episode0136.png (deflated 5%)\n",
            "  adding: png/episode0231.png (deflated 5%)\n",
            "  adding: png/episode0010.png (deflated 9%)\n",
            "  adding: png/episode0198.png (deflated 5%)\n",
            "  adding: png/episode0393.png (deflated 5%)\n",
            "  adding: png/episode0240.png (deflated 5%)\n",
            "  adding: png/episode0099.png (deflated 6%)\n",
            "  adding: png/episode0199.png (deflated 5%)\n",
            "  adding: png/episode0366.png (deflated 5%)\n",
            "  adding: png/episode0278.png (deflated 5%)\n",
            "  adding: png/episode0315.png (deflated 5%)\n",
            "  adding: png/episode0045.png (deflated 7%)\n",
            "  adding: png/episode0215.png (deflated 5%)\n",
            "  adding: png/episode0138.png (deflated 6%)\n",
            "  adding: png/episode0098.png (deflated 6%)\n",
            "  adding: png/episode0261.png (deflated 5%)\n",
            "  adding: png/episode0007.png (deflated 10%)\n",
            "  adding: png/episode0336.png (deflated 5%)\n",
            "  adding: png/episode0043.png (deflated 7%)\n",
            "  adding: png/episode0053.png (deflated 7%)\n",
            "  adding: png/episode0330.png (deflated 5%)\n",
            "  adding: png/episode0085.png (deflated 6%)\n",
            "  adding: png/episode0083.png (deflated 6%)\n",
            "  adding: png/episode0134.png (deflated 5%)\n",
            "  adding: png/episode0177.png (deflated 5%)\n",
            "  adding: png/episode0042.png (deflated 7%)\n",
            "  adding: png/episode0266.png (deflated 5%)\n",
            "  adding: png/episode0361.png (deflated 5%)\n",
            "  adding: png/episode0358.png (deflated 5%)\n",
            "  adding: png/episode0073.png (deflated 6%)\n",
            "  adding: png/episode0165.png (deflated 5%)\n",
            "  adding: png/episode0246.png (deflated 5%)\n",
            "  adding: png/episode0318.png (deflated 5%)\n",
            "  adding: png/episode0156.png (deflated 5%)\n",
            "  adding: png/episode0070.png (deflated 6%)\n",
            "  adding: png/episode0299.png (deflated 5%)\n",
            "  adding: png/episode0314.png (deflated 5%)\n",
            "  adding: png/episode0025.png (deflated 7%)\n",
            "  adding: png/episode0181.png (deflated 5%)\n",
            "  adding: png/episode0344.png (deflated 5%)\n",
            "  adding: png/episode0373.png (deflated 5%)\n",
            "  adding: png/episode0303.png (deflated 5%)\n",
            "  adding: png/episode0161.png (deflated 5%)\n",
            "  adding: png/episode0254.png (deflated 5%)\n",
            "  adding: png/episode0368.png (deflated 5%)\n",
            "  adding: png/episode0145.png (deflated 6%)\n",
            "  adding: png/episode0300.png (deflated 5%)\n",
            "  adding: png/episode0036.png (deflated 8%)\n",
            "  adding: png/episode0220.png (deflated 5%)\n",
            "  adding: png/episode0323.png (deflated 5%)\n",
            "  adding: png/episode0019.png (deflated 8%)\n",
            "  adding: png/episode0081.png (deflated 6%)\n",
            "  adding: png/episode0087.png (deflated 6%)\n",
            "  adding: png/episode0160.png (deflated 5%)\n",
            "  adding: png/episode0178.png (deflated 5%)\n",
            "  adding: png/episode0166.png (deflated 6%)\n",
            "  adding: png/episode0272.png (deflated 5%)\n",
            "  adding: png/episode0255.png (deflated 5%)\n",
            "  adding: png/episode0066.png (deflated 6%)\n",
            "  adding: png/episode0388.png (deflated 5%)\n",
            "  adding: png/episode0226.png (deflated 5%)\n",
            "  adding: png/episode0249.png (deflated 5%)\n",
            "  adding: png/episode0015.png (deflated 9%)\n",
            "  adding: png/episode0091.png (deflated 6%)\n",
            "  adding: png/episode0047.png (deflated 7%)\n",
            "  adding: png/episode0209.png (deflated 5%)\n",
            "  adding: png/episode0295.png (deflated 5%)\n",
            "  adding: png/episode0340.png (deflated 5%)\n",
            "  adding: png/episode0063.png (deflated 7%)\n",
            "  adding: png/episode0082.png (deflated 6%)\n",
            "  adding: png/episode0206.png (deflated 5%)\n",
            "  adding: png/episode0396.png (deflated 5%)\n",
            "  adding: png/episode0339.png (deflated 5%)\n",
            "  adding: png/episode0316.png (deflated 5%)\n",
            "  adding: png/episode0271.png (deflated 5%)\n",
            "  adding: png/episode0088.png (deflated 6%)\n",
            "  adding: png/episode0289.png (deflated 5%)\n",
            "  adding: png/episode0370.png (deflated 5%)\n",
            "  adding: png/episode0333.png (deflated 5%)\n",
            "  adding: png/episode0397.png (deflated 5%)\n",
            "  adding: png/episode0056.png (deflated 7%)\n",
            "  adding: png/episode0153.png (deflated 6%)\n",
            "  adding: png/episode0238.png (deflated 5%)\n",
            "  adding: png/episode0196.png (deflated 5%)\n",
            "  adding: png/episode0363.png (deflated 5%)\n",
            "  adding: png/episode0071.png (deflated 6%)\n",
            "  adding: png/episode0399.png (deflated 5%)\n",
            "  adding: png/episode0216.png (deflated 5%)\n",
            "  adding: png/episode0049.png (deflated 7%)\n",
            "  adding: png/episode0389.png (deflated 5%)\n",
            "  adding: png/episode0163.png (deflated 5%)\n",
            "  adding: png/episode0124.png (deflated 6%)\n",
            "  adding: png/episode0205.png (deflated 5%)\n",
            "  adding: png/episode0125.png (deflated 6%)\n",
            "  adding: png/episode0003.png (deflated 11%)\n",
            "  adding: png/episode0352.png (deflated 5%)\n",
            "  adding: png/episode0241.png (deflated 5%)\n",
            "  adding: png/episode0103.png (deflated 6%)\n",
            "  adding: png/episode0233.png (deflated 5%)\n",
            "  adding: png/episode0129.png (deflated 6%)\n",
            "  adding: png/episode0369.png (deflated 5%)\n",
            "  adding: png/episode0262.png (deflated 5%)\n",
            "  adding: png/episode0149.png (deflated 5%)\n",
            "  adding: png/episode0013.png (deflated 9%)\n",
            "  adding: png/episode0077.png (deflated 6%)\n",
            "  adding: png/episode0142.png (deflated 6%)\n",
            "  adding: png/episode0284.png (deflated 5%)\n",
            "  adding: png/episode0247.png (deflated 5%)\n",
            "  adding: png/episode0325.png (deflated 5%)\n",
            "  adding: png/episode0235.png (deflated 5%)\n",
            "  adding: png/episode0308.png (deflated 5%)\n",
            "  adding: png/episode0214.png (deflated 5%)\n",
            "  adding: png/episode0287.png (deflated 5%)\n",
            "  adding: png/episode0269.png (deflated 5%)\n",
            "  adding: png/episode0110.png (deflated 5%)\n",
            "  adding: png/episode0362.png (deflated 5%)\n",
            "  adding: png/episode0376.png (deflated 5%)\n",
            "  adding: png/episode0229.png (deflated 5%)\n",
            "  adding: png/episode0377.png (deflated 5%)\n",
            "  adding: png/episode0012.png (deflated 9%)\n",
            "  adding: png/episode0371.png (deflated 5%)\n",
            "  adding: png/episode0094.png (deflated 6%)\n",
            "  adding: png/episode0182.png (deflated 5%)\n",
            "  adding: png/episode0092.png (deflated 6%)\n",
            "  adding: png/episode0307.png (deflated 5%)\n",
            "  adding: png/episode0175.png (deflated 5%)\n",
            "  adding: png/episode0319.png (deflated 5%)\n",
            "  adding: png/episode0365.png (deflated 5%)\n",
            "  adding: png/episode0345.png (deflated 5%)\n",
            "  adding: png/episode0290.png (deflated 5%)\n",
            "  adding: png/episode0332.png (deflated 5%)\n",
            "  adding: png/episode0055.png (deflated 7%)\n",
            "  adding: png/episode0257.png (deflated 5%)\n",
            "  adding: png/episode0062.png (deflated 6%)\n",
            "  adding: png/episode0250.png (deflated 5%)\n",
            "  adding: png/episode0382.png (deflated 5%)\n",
            "  adding: png/episode0297.png (deflated 5%)\n",
            "  adding: png/episode0029.png (deflated 8%)\n",
            "  adding: png/episode0383.png (deflated 5%)\n",
            "  adding: png/episode0022.png (deflated 7%)\n",
            "  adding: png/episode0280.png (deflated 5%)\n",
            "  adding: png/episode0031.png (deflated 8%)\n",
            "  adding: png/episode0057.png (deflated 7%)\n",
            "  adding: png/episode0237.png (deflated 5%)\n",
            "  adding: png/episode0009.png (deflated 10%)\n",
            "  adding: png/episode0158.png (deflated 6%)\n",
            "  adding: png/episode0035.png (deflated 8%)\n",
            "  adding: png/episode0179.png (deflated 5%)\n",
            "  adding: png/episode0327.png (deflated 5%)\n",
            "  adding: png/episode0038.png (deflated 7%)\n",
            "  adding: png/episode0387.png (deflated 5%)\n",
            "  adding: png/episode0189.png (deflated 5%)\n",
            "  adding: png/episode0342.png (deflated 5%)\n",
            "  adding: png/episode0076.png (deflated 6%)\n",
            "  adding: png/episode0394.png (deflated 5%)\n",
            "  adding: png/episode0155.png (deflated 5%)\n",
            "  adding: png/episode0131.png (deflated 5%)\n",
            "  adding: png/episode0328.png (deflated 5%)\n",
            "  adding: png/episode0260.png (deflated 5%)\n",
            "  adding: png/episode0148.png (deflated 5%)\n",
            "  adding: png/episode0274.png (deflated 5%)\n",
            "  adding: png/episode0169.png (deflated 5%)\n",
            "  adding: png/episode0359.png (deflated 5%)\n",
            "  adding: png/episode0350.png (deflated 5%)\n",
            "  adding: png/episode0017.png (deflated 8%)\n",
            "  adding: png/episode0306.png (deflated 5%)\n",
            "  adding: png/episode0107.png (deflated 6%)\n",
            "  adding: png/episode0253.png (deflated 5%)\n",
            "  adding: png/episode0030.png (deflated 8%)\n",
            "  adding: png/episode0032.png (deflated 7%)\n",
            "  adding: png/episode0004.png (deflated 11%)\n",
            "  adding: png/episode0379.png (deflated 5%)\n",
            "  adding: png/episode0144.png (deflated 5%)\n",
            "  adding: png/episode0313.png (deflated 5%)\n",
            "  adding: png/episode0102.png (deflated 6%)\n",
            "  adding: png/episode0060.png (deflated 7%)\n",
            "  adding: png/episode0150.png (deflated 5%)\n",
            "  adding: png/episode0392.png (deflated 5%)\n",
            "  adding: png/episode0256.png (deflated 5%)\n",
            "  adding: png/episode0011.png (deflated 9%)\n",
            "  adding: png/episode0000.png (deflated 17%)\n",
            "  adding: png/episode0201.png (deflated 5%)\n",
            "  adding: png/episode0016.png (deflated 8%)\n",
            "  adding: png/episode0005.png (deflated 11%)\n",
            "  adding: png/episode0194.png (deflated 5%)\n",
            "  adding: png/episode0061.png (deflated 6%)\n",
            "  adding: png/episode0228.png (deflated 5%)\n",
            "  adding: png/episode0051.png (deflated 7%)\n",
            "  adding: png/episode0023.png (deflated 7%)\n",
            "  adding: png/episode0067.png (deflated 6%)\n",
            "  adding: png/episode0034.png (deflated 7%)\n",
            "  adding: png/episode0219.png (deflated 5%)\n",
            "  adding: png/episode0374.png (deflated 5%)\n",
            "  adding: png/episode0372.png (deflated 5%)\n",
            "  adding: png/episode0193.png (deflated 5%)\n",
            "  adding: png/episode0044.png (deflated 7%)\n",
            "  adding: png/episode0320.png (deflated 5%)\n",
            "  adding: png/episode0152.png (deflated 6%)\n",
            "  adding: png/episode0305.png (deflated 5%)\n",
            "  adding: png/episode0095.png (deflated 6%)\n",
            "  adding: png/episode0230.png (deflated 5%)\n",
            "  adding: png/episode0093.png (deflated 6%)\n",
            "  adding: png/episode0135.png (deflated 6%)\n",
            "  adding: png/episode0192.png (deflated 5%)\n",
            "  adding: png/episode0147.png (deflated 5%)\n",
            "  adding: png/episode0127.png (deflated 6%)\n",
            "  adding: png/episode0020.png (deflated 8%)\n",
            "  adding: png/episode0033.png (deflated 8%)\n",
            "  adding: png/episode0090.png (deflated 6%)\n",
            "  adding: png/episode0348.png (deflated 5%)\n",
            "  adding: png/episode0080.png (deflated 6%)\n",
            "  adding: png/episode0223.png (deflated 5%)\n",
            "  adding: png/episode0298.png (deflated 5%)\n",
            "  adding: png/episode0212.png (deflated 5%)\n",
            "  adding: png/episode0184.png (deflated 5%)\n",
            "  adding: png/episode0146.png (deflated 5%)\n",
            "  adding: png/episode0097.png (deflated 6%)\n",
            "  adding: png/episode0291.png (deflated 5%)\n",
            "  adding: png/episode0068.png (deflated 6%)\n",
            "  adding: png/episode0104.png (deflated 6%)\n",
            "  adding: png/episode0046.png (deflated 7%)\n",
            "  adding: png/episode0041.png (deflated 7%)\n",
            "  adding: png/episode0349.png (deflated 5%)\n",
            "  adding: png/episode0213.png (deflated 5%)\n",
            "  adding: png/episode0132.png (deflated 6%)\n",
            "  adding: png/episode0234.png (deflated 5%)\n",
            "  adding: png/episode0173.png (deflated 5%)\n",
            "  adding: png/episode0079.png (deflated 6%)\n",
            "  adding: png/episode0174.png (deflated 5%)\n",
            "  adding: png/episode0137.png (deflated 6%)\n",
            "  adding: png/episode0089.png (deflated 6%)\n",
            "  adding: png/episode0282.png (deflated 5%)\n",
            "  adding: png/episode0302.png (deflated 5%)\n",
            "  adding: png/episode0039.png (deflated 7%)\n",
            "  adding: png/episode0353.png (deflated 5%)\n",
            "  adding: png/episode0078.png (deflated 6%)\n",
            "  adding: png/episode0119.png (deflated 6%)\n",
            "  adding: png/episode0117.png (deflated 6%)\n",
            "  adding: png/episode0258.png (deflated 5%)\n",
            "  adding: png/episode0211.png (deflated 5%)\n",
            "  adding: png/episode0245.png (deflated 5%)\n",
            "  adding: png/episode0002.png (deflated 12%)\n",
            "  adding: png/episode0188.png (deflated 5%)\n",
            "  adding: png/episode0391.png (deflated 5%)\n",
            "  adding: png/episode0343.png (deflated 5%)\n",
            "  adding: png/episode0265.png (deflated 5%)\n",
            "  adding: png/episode0208.png (deflated 5%)\n",
            "  adding: png/episode0170.png (deflated 5%)\n",
            "  adding: png/episode0069.png (deflated 6%)\n",
            "  adding: png/episode0001.png (deflated 13%)\n",
            "  adding: png/episode0218.png (deflated 5%)\n",
            "  adding: png/episode0367.png (deflated 5%)\n",
            "  adding: png/episode0288.png (deflated 5%)\n",
            "  adding: png/episode0224.png (deflated 5%)\n",
            "  adding: png/episode0065.png (deflated 6%)\n",
            "  adding: png/episode0172.png (deflated 5%)\n",
            "  adding: png/episode0200.png (deflated 5%)\n",
            "  adding: png/episode0176.png (deflated 5%)\n",
            "  adding: png/episode0335.png (deflated 5%)\n",
            "  adding: png/episode0122.png (deflated 6%)\n",
            "  adding: png/episode0075.png (deflated 6%)\n",
            "  adding: png/episode0364.png (deflated 5%)\n",
            "  adding: png/episode0317.png (deflated 5%)\n",
            "  adding: png/episode0154.png (deflated 5%)\n",
            "  adding: png/episode0252.png (deflated 5%)\n",
            "  adding: png/episode0120.png (deflated 5%)\n",
            "  adding: png/episode0285.png (deflated 5%)\n",
            "  adding: png/episode0243.png (deflated 5%)\n",
            "  adding: png/episode0293.png (deflated 5%)\n",
            "  adding: png/episode0191.png (deflated 5%)\n",
            "  adding: png/episode0113.png (deflated 6%)\n",
            "  adding: png/episode0054.png (deflated 7%)\n",
            "  adding: png/episode0386.png (deflated 5%)\n",
            "  adding: png/episode0283.png (deflated 5%)\n",
            "  adding: png/episode0052.png (deflated 7%)\n",
            "  adding: png/episode0048.png (deflated 7%)\n",
            "  adding: png/episode0115.png (deflated 6%)\n",
            "  adding: png/episode0304.png (deflated 5%)\n",
            "  adding: png/episode0263.png (deflated 5%)\n",
            "  adding: png/episode0311.png (deflated 5%)\n",
            "  adding: png/episode0251.png (deflated 5%)\n",
            "  adding: png/episode0058.png (deflated 7%)\n",
            "  adding: png/episode0334.png (deflated 5%)\n",
            "  adding: png/episode0242.png (deflated 5%)\n",
            "  adding: png/episode0037.png (deflated 7%)\n",
            "  adding: png/episode0267.png (deflated 5%)\n",
            "  adding: png/episode0398.png (deflated 5%)\n",
            "  adding: png/episode0195.png (deflated 5%)\n",
            "  adding: png/episode0084.png (deflated 6%)\n",
            "  adding: png/episode0360.png (deflated 5%)\n",
            "  adding: png/episode0395.png (deflated 5%)\n",
            "  adding: png/episode0204.png (deflated 5%)\n",
            "  adding: png/episode0021.png (deflated 8%)\n",
            "  adding: png/episode0203.png (deflated 5%)\n",
            "  adding: png/episode0123.png (deflated 6%)\n",
            "  adding: png/episode0264.png (deflated 5%)\n",
            "  adding: png/episode0221.png (deflated 5%)\n",
            "  adding: png/episode0168.png (deflated 5%)\n",
            "  adding: png/episode0074.png (deflated 6%)\n",
            "  adding: png/episode0338.png (deflated 5%)\n",
            "  adding: png/episode0018.png (deflated 9%)\n",
            "  adding: png/episode0324.png (deflated 5%)\n",
            "  adding: png/episode0141.png (deflated 5%)\n",
            "  adding: png/episode0310.png (deflated 5%)\n",
            "  adding: png/episode0355.png (deflated 5%)\n",
            "  adding: png/episode0026.png (deflated 7%)\n",
            "  adding: png/episode0171.png (deflated 5%)\n",
            "  adding: png/episode0294.png (deflated 5%)\n",
            "  adding: png/episode0381.png (deflated 5%)\n",
            "  adding: png/episode0357.png (deflated 5%)\n",
            "  adding: png_2/ (stored 0%)\n",
            "  adding: png_2/episode0346.png (deflated 11%)\n",
            "  adding: png_2/episode0050.png (deflated 6%)\n",
            "  adding: png_2/episode0111.png (deflated 6%)\n",
            "  adding: png_2/episode0126.png (deflated 5%)\n",
            "  adding: png_2/episode0286.png (deflated 7%)\n",
            "  adding: png_2/episode0105.png (deflated 8%)\n",
            "  adding: png_2/episode0296.png (deflated 9%)\n",
            "  adding: png_2/episode0096.png (deflated 6%)\n",
            "  adding: png_2/episode0207.png (deflated 7%)\n",
            "  adding: png_2/episode0375.png (deflated 8%)\n",
            "  adding: png_2/episode0190.png (deflated 7%)\n",
            "  adding: png_2/episode0222.png (deflated 6%)\n",
            "  adding: png_2/episode0225.png (deflated 7%)\n",
            "  adding: png_2/episode0384.png (deflated 7%)\n",
            "  adding: png_2/episode0024.png (deflated 6%)\n",
            "  adding: png_2/episode0281.png (deflated 7%)\n",
            "  adding: png_2/episode0217.png (deflated 7%)\n",
            "  adding: png_2/episode0187.png (deflated 6%)\n",
            "  adding: png_2/episode0378.png (deflated 8%)\n",
            "  adding: png_2/episode0106.png (deflated 6%)\n",
            "  adding: png_2/episode0040.png (deflated 6%)\n",
            "  adding: png_2/episode0244.png (deflated 7%)\n",
            "  adding: png_2/episode0270.png (deflated 7%)\n",
            "  adding: png_2/episode0301.png (deflated 7%)\n",
            "  adding: png_2/episode0064.png (deflated 8%)\n",
            "  adding: png_2/episode0140.png (deflated 6%)\n",
            "  adding: png_2/episode0116.png (deflated 9%)\n",
            "  adding: png_2/episode0101.png (deflated 8%)\n",
            "  adding: png_2/episode0185.png (deflated 6%)\n",
            "  adding: png_2/episode0128.png (deflated 6%)\n",
            "  adding: png_2/episode0027.png (deflated 6%)\n",
            "  adding: png_2/episode0390.png (deflated 7%)\n",
            "  adding: png_2/episode0248.png (deflated 6%)\n",
            "  adding: png_2/episode0347.png (deflated 7%)\n",
            "  adding: png_2/episode0143.png (deflated 8%)\n",
            "  adding: png_2/episode0329.png (deflated 8%)\n",
            "  adding: png_2/episode0164.png (deflated 7%)\n",
            "  adding: png_2/episode0273.png (deflated 7%)\n",
            "  adding: png_2/episode0321.png (deflated 8%)\n",
            "  adding: png_2/episode0133.png (deflated 5%)\n",
            "  adding: png_2/episode0157.png (deflated 6%)\n",
            "  adding: png_2/episode0292.png (deflated 6%)\n",
            "  adding: png_2/episode0100.png (deflated 6%)\n",
            "  adding: png_2/episode0109.png (deflated 6%)\n",
            "  adding: png_2/episode0151.png (deflated 6%)\n",
            "  adding: png_2/episode0008.png (deflated 6%)\n",
            "  adding: png_2/episode0337.png (deflated 7%)\n",
            "  adding: png_2/episode0232.png (deflated 6%)\n",
            "  adding: png_2/episode0202.png (deflated 6%)\n",
            "  adding: png_2/episode0227.png (deflated 8%)\n",
            "  adding: png_2/episode0118.png (deflated 6%)\n",
            "  adding: png_2/episode0112.png (deflated 6%)\n",
            "  adding: png_2/episode0197.png (deflated 6%)\n",
            "  adding: png_2/episode0277.png (deflated 7%)\n",
            "  adding: png_2/episode0331.png (deflated 7%)\n",
            "  adding: png_2/episode0186.png (deflated 7%)\n",
            "  adding: png_2/episode0276.png (deflated 7%)\n",
            "  adding: png_2/episode0356.png (deflated 7%)\n",
            "  adding: png_2/episode0183.png (deflated 7%)\n",
            "  adding: png_2/episode0322.png (deflated 7%)\n",
            "  adding: png_2/episode0210.png (deflated 6%)\n",
            "  adding: png_2/episode0167.png (deflated 7%)\n",
            "  adding: png_2/episode0341.png (deflated 8%)\n",
            "  adding: png_2/episode0086.png (deflated 8%)\n",
            "  adding: png_2/episode0130.png (deflated 8%)\n",
            "  adding: png_2/episode0309.png (deflated 7%)\n",
            "  adding: png_2/episode0239.png (deflated 10%)\n",
            "  adding: png_2/episode0279.png (deflated 6%)\n",
            "  adding: png_2/episode0006.png (deflated 8%)\n",
            "  adding: png_2/episode0072.png (deflated 5%)\n",
            "  adding: png_2/episode0139.png (deflated 6%)\n",
            "  adding: png_2/episode0268.png (deflated 7%)\n",
            "  adding: png_2/episode0059.png (deflated 6%)\n",
            "  adding: png_2/episode0380.png (deflated 7%)\n",
            "  adding: png_2/episode0275.png (deflated 7%)\n",
            "  adding: png_2/episode0259.png (deflated 7%)\n",
            "  adding: png_2/episode0121.png (deflated 8%)\n",
            "  adding: png_2/episode0108.png (deflated 6%)\n",
            "  adding: png_2/episode0114.png (deflated 5%)\n",
            "  adding: png_2/episode0162.png (deflated 6%)\n",
            "  adding: png_2/episode0326.png (deflated 7%)\n",
            "  adding: png_2/episode0180.png (deflated 6%)\n",
            "  adding: png_2/episode0385.png (deflated 7%)\n",
            "  adding: png_2/episode0354.png (deflated 7%)\n",
            "  adding: png_2/episode0159.png (deflated 7%)\n",
            "  adding: png_2/episode0014.png (deflated 6%)\n",
            "  adding: png_2/episode0236.png (deflated 6%)\n",
            "  adding: png_2/episode0028.png (deflated 6%)\n",
            "  adding: png_2/episode0351.png (deflated 7%)\n",
            "  adding: png_2/episode0312.png (deflated 7%)\n",
            "  adding: png_2/episode0136.png (deflated 8%)\n",
            "  adding: png_2/episode0231.png (deflated 7%)\n",
            "  adding: png_2/episode0010.png (deflated 6%)\n",
            "  adding: png_2/episode0198.png (deflated 6%)\n",
            "  adding: png_2/episode0393.png (deflated 8%)\n",
            "  adding: png_2/episode0240.png (deflated 8%)\n",
            "  adding: png_2/episode0099.png (deflated 6%)\n",
            "  adding: png_2/episode0199.png (deflated 6%)\n",
            "  adding: png_2/episode0366.png (deflated 7%)\n",
            "  adding: png_2/episode0278.png (deflated 10%)\n",
            "  adding: png_2/episode0315.png (deflated 7%)\n",
            "  adding: png_2/episode0045.png (deflated 6%)\n",
            "  adding: png_2/episode0215.png (deflated 6%)\n",
            "  adding: png_2/episode0138.png (deflated 7%)\n",
            "  adding: png_2/episode0098.png (deflated 5%)\n",
            "  adding: png_2/episode0261.png (deflated 8%)\n",
            "  adding: png_2/episode0007.png (deflated 7%)\n",
            "  adding: png_2/episode0336.png (deflated 7%)\n",
            "  adding: png_2/episode0043.png (deflated 6%)\n",
            "  adding: png_2/episode0053.png (deflated 6%)\n",
            "  adding: png_2/episode0330.png (deflated 7%)\n",
            "  adding: png_2/episode0085.png (deflated 6%)\n",
            "  adding: png_2/episode0083.png (deflated 5%)\n",
            "  adding: png_2/episode0134.png (deflated 6%)\n",
            "  adding: png_2/episode0177.png (deflated 6%)\n",
            "  adding: png_2/episode0042.png (deflated 6%)\n",
            "  adding: png_2/episode0266.png (deflated 7%)\n",
            "  adding: png_2/episode0361.png (deflated 7%)\n",
            "  adding: png_2/episode0358.png (deflated 7%)\n",
            "  adding: png_2/episode0073.png (deflated 6%)\n",
            "  adding: png_2/episode0165.png (deflated 5%)\n",
            "  adding: png_2/episode0246.png (deflated 7%)\n",
            "  adding: png_2/episode0318.png (deflated 10%)\n",
            "  adding: png_2/episode0156.png (deflated 6%)\n",
            "  adding: png_2/episode0070.png (deflated 5%)\n",
            "  adding: png_2/episode0299.png (deflated 7%)\n",
            "  adding: png_2/episode0314.png (deflated 7%)\n",
            "  adding: png_2/episode0025.png (deflated 6%)\n",
            "  adding: png_2/episode0181.png (deflated 9%)\n",
            "  adding: png_2/episode0344.png (deflated 7%)\n",
            "  adding: png_2/episode0373.png (deflated 7%)\n",
            "  adding: png_2/episode0303.png (deflated 7%)\n",
            "  adding: png_2/episode0161.png (deflated 6%)\n",
            "  adding: png_2/episode0254.png (deflated 6%)\n",
            "  adding: png_2/episode0368.png (deflated 8%)\n",
            "  adding: png_2/episode0145.png (deflated 5%)\n",
            "  adding: png_2/episode0300.png (deflated 7%)\n",
            "  adding: png_2/episode0036.png (deflated 5%)\n",
            "  adding: png_2/episode0220.png (deflated 7%)\n",
            "  adding: png_2/episode0323.png (deflated 11%)\n",
            "  adding: png_2/episode0019.png (deflated 8%)\n",
            "  adding: png_2/episode0081.png (deflated 6%)\n",
            "  adding: png_2/episode0087.png (deflated 6%)\n",
            "  adding: png_2/episode0160.png (deflated 7%)\n",
            "  adding: png_2/episode0178.png (deflated 7%)\n",
            "  adding: png_2/episode0166.png (deflated 6%)\n",
            "  adding: png_2/episode0272.png (deflated 7%)\n",
            "  adding: png_2/episode0255.png (deflated 7%)\n",
            "  adding: png_2/episode0066.png (deflated 6%)\n",
            "  adding: png_2/episode0388.png (deflated 7%)\n",
            "  adding: png_2/episode0226.png (deflated 9%)\n",
            "  adding: png_2/episode0249.png (deflated 6%)\n",
            "  adding: png_2/episode0015.png (deflated 6%)\n",
            "  adding: png_2/episode0091.png (deflated 6%)\n",
            "  adding: png_2/episode0047.png (deflated 5%)\n",
            "  adding: png_2/episode0209.png (deflated 7%)\n",
            "  adding: png_2/episode0295.png (deflated 7%)\n",
            "  adding: png_2/episode0340.png (deflated 7%)\n",
            "  adding: png_2/episode0063.png (deflated 5%)\n",
            "  adding: png_2/episode0082.png (deflated 6%)\n",
            "  adding: png_2/episode0206.png (deflated 6%)\n",
            "  adding: png_2/episode0396.png (deflated 7%)\n",
            "  adding: png_2/episode0339.png (deflated 7%)\n",
            "  adding: png_2/episode0316.png (deflated 7%)\n",
            "  adding: png_2/episode0271.png (deflated 7%)\n",
            "  adding: png_2/episode0088.png (deflated 6%)\n",
            "  adding: png_2/episode0289.png (deflated 11%)\n",
            "  adding: png_2/episode0370.png (deflated 7%)\n",
            "  adding: png_2/episode0333.png (deflated 7%)\n",
            "  adding: png_2/episode0397.png (deflated 10%)\n",
            "  adding: png_2/episode0056.png (deflated 6%)\n",
            "  adding: png_2/episode0153.png (deflated 7%)\n",
            "  adding: png_2/episode0238.png (deflated 7%)\n",
            "  adding: png_2/episode0196.png (deflated 6%)\n",
            "  adding: png_2/episode0363.png (deflated 7%)\n",
            "  adding: png_2/episode0071.png (deflated 8%)\n",
            "  adding: png_2/episode0399.png (deflated 7%)\n",
            "  adding: png_2/episode0216.png (deflated 6%)\n",
            "  adding: png_2/episode0049.png (deflated 8%)\n",
            "  adding: png_2/episode0389.png (deflated 7%)\n",
            "  adding: png_2/episode0163.png (deflated 6%)\n",
            "  adding: png_2/episode0124.png (deflated 6%)\n",
            "  adding: png_2/episode0205.png (deflated 6%)\n",
            "  adding: png_2/episode0125.png (deflated 5%)\n",
            "  adding: png_2/episode0003.png (deflated 14%)\n",
            "  adding: png_2/episode0352.png (deflated 7%)\n",
            "  adding: png_2/episode0241.png (deflated 6%)\n",
            "  adding: png_2/episode0103.png (deflated 6%)\n",
            "  adding: png_2/episode0233.png (deflated 6%)\n",
            "  adding: png_2/episode0129.png (deflated 8%)\n",
            "  adding: png_2/episode0369.png (deflated 8%)\n",
            "  adding: png_2/episode0262.png (deflated 7%)\n",
            "  adding: png_2/episode0149.png (deflated 6%)\n",
            "  adding: png_2/episode0013.png (deflated 9%)\n",
            "  adding: png_2/episode0077.png (deflated 5%)\n",
            "  adding: png_2/episode0142.png (deflated 6%)\n",
            "  adding: png_2/episode0284.png (deflated 7%)\n",
            "  adding: png_2/episode0247.png (deflated 6%)\n",
            "  adding: png_2/episode0325.png (deflated 7%)\n",
            "  adding: png_2/episode0235.png (deflated 10%)\n",
            "  adding: png_2/episode0308.png (deflated 7%)\n",
            "  adding: png_2/episode0214.png (deflated 7%)\n",
            "  adding: png_2/episode0287.png (deflated 8%)\n",
            "  adding: png_2/episode0269.png (deflated 10%)\n",
            "  adding: png_2/episode0110.png (deflated 7%)\n",
            "  adding: png_2/episode0362.png (deflated 7%)\n",
            "  adding: png_2/episode0376.png (deflated 7%)\n",
            "  adding: png_2/episode0229.png (deflated 7%)\n",
            "  adding: png_2/episode0377.png (deflated 7%)\n",
            "  adding: png_2/episode0012.png (deflated 6%)\n",
            "  adding: png_2/episode0371.png (deflated 11%)\n",
            "  adding: png_2/episode0094.png (deflated 6%)\n",
            "  adding: png_2/episode0182.png (deflated 6%)\n",
            "  adding: png_2/episode0092.png (deflated 6%)\n",
            "  adding: png_2/episode0307.png (deflated 7%)\n",
            "  adding: png_2/episode0175.png (deflated 7%)\n",
            "  adding: png_2/episode0319.png (deflated 7%)\n",
            "  adding: png_2/episode0365.png (deflated 8%)\n",
            "  adding: png_2/episode0345.png (deflated 10%)\n",
            "  adding: png_2/episode0290.png (deflated 7%)\n",
            "  adding: png_2/episode0332.png (deflated 11%)\n",
            "  adding: png_2/episode0055.png (deflated 8%)\n",
            "  adding: png_2/episode0257.png (deflated 8%)\n",
            "  adding: png_2/episode0062.png (deflated 6%)\n",
            "  adding: png_2/episode0250.png (deflated 7%)\n",
            "  adding: png_2/episode0382.png (deflated 7%)\n",
            "  adding: png_2/episode0297.png (deflated 6%)\n",
            "  adding: png_2/episode0029.png (deflated 6%)\n",
            "  adding: png_2/episode0383.png (deflated 7%)\n",
            "  adding: png_2/episode0022.png (deflated 6%)\n",
            "  adding: png_2/episode0280.png (deflated 8%)\n",
            "  adding: png_2/episode0031.png (deflated 8%)\n",
            "  adding: png_2/episode0057.png (deflated 5%)\n",
            "  adding: png_2/episode0237.png (deflated 7%)\n",
            "  adding: png_2/episode0009.png (deflated 6%)\n",
            "  adding: png_2/episode0158.png (deflated 7%)\n",
            "  adding: png_2/episode0035.png (deflated 6%)\n",
            "  adding: png_2/episode0179.png (deflated 6%)\n",
            "  adding: png_2/episode0327.png (deflated 7%)\n",
            "  adding: png_2/episode0038.png (deflated 5%)\n",
            "  adding: png_2/episode0387.png (deflated 7%)\n",
            "  adding: png_2/episode0189.png (deflated 7%)\n",
            "  adding: png_2/episode0342.png (deflated 7%)\n",
            "  adding: png_2/episode0076.png (deflated 8%)\n",
            "  adding: png_2/episode0394.png (deflated 7%)\n",
            "  adding: png_2/episode0155.png (deflated 6%)\n",
            "  adding: png_2/episode0131.png (deflated 6%)\n",
            "  adding: png_2/episode0328.png (deflated 7%)\n",
            "  adding: png_2/episode0260.png (deflated 7%)\n",
            "  adding: png_2/episode0148.png (deflated 8%)\n",
            "  adding: png_2/episode0274.png (deflated 10%)\n",
            "  adding: png_2/episode0169.png (deflated 5%)\n",
            "  adding: png_2/episode0359.png (deflated 7%)\n",
            "  adding: png_2/episode0350.png (deflated 7%)\n",
            "  adding: png_2/episode0017.png (deflated 6%)\n",
            "  adding: png_2/episode0306.png (deflated 7%)\n",
            "  adding: png_2/episode0107.png (deflated 6%)\n",
            "  adding: png_2/episode0253.png (deflated 10%)\n",
            "  adding: png_2/episode0030.png (deflated 6%)\n",
            "  adding: png_2/episode0032.png (deflated 6%)\n",
            "  adding: png_2/episode0004.png (deflated 9%)\n",
            "  adding: png_2/episode0379.png (deflated 8%)\n",
            "  adding: png_2/episode0144.png (deflated 8%)\n",
            "  adding: png_2/episode0313.png (deflated 7%)\n",
            "  adding: png_2/episode0102.png (deflated 6%)\n",
            "  adding: png_2/episode0060.png (deflated 6%)\n",
            "  adding: png_2/episode0150.png (deflated 6%)\n",
            "  adding: png_2/episode0392.png (deflated 7%)\n",
            "  adding: png_2/episode0256.png (deflated 6%)\n",
            "  adding: png_2/episode0011.png (deflated 6%)\n",
            "  adding: png_2/episode0000.png (deflated 16%)\n",
            "  adding: png_2/episode0201.png (deflated 6%)\n",
            "  adding: png_2/episode0016.png (deflated 8%)\n",
            "  adding: png_2/episode0005.png (deflated 9%)\n",
            "  adding: png_2/episode0194.png (deflated 8%)\n",
            "  adding: png_2/episode0061.png (deflated 5%)\n",
            "  adding: png_2/episode0228.png (deflated 8%)\n",
            "  adding: png_2/episode0051.png (deflated 6%)\n",
            "  adding: png_2/episode0023.png (deflated 6%)\n",
            "  adding: png_2/episode0067.png (deflated 5%)\n",
            "  adding: png_2/episode0034.png (deflated 6%)\n",
            "  adding: png_2/episode0219.png (deflated 7%)\n",
            "  adding: png_2/episode0374.png (deflated 8%)\n",
            "  adding: png_2/episode0372.png (deflated 7%)\n",
            "  adding: png_2/episode0193.png (deflated 6%)\n",
            "  adding: png_2/episode0044.png (deflated 5%)\n",
            "  adding: png_2/episode0320.png (deflated 7%)\n",
            "  adding: png_2/episode0152.png (deflated 6%)\n",
            "  adding: png_2/episode0305.png (deflated 7%)\n",
            "  adding: png_2/episode0095.png (deflated 5%)\n",
            "  adding: png_2/episode0230.png (deflated 7%)\n",
            "  adding: png_2/episode0093.png (deflated 8%)\n",
            "  adding: png_2/episode0135.png (deflated 6%)\n",
            "  adding: png_2/episode0192.png (deflated 6%)\n",
            "  adding: png_2/episode0147.png (deflated 5%)\n",
            "  adding: png_2/episode0127.png (deflated 5%)\n",
            "  adding: png_2/episode0020.png (deflated 6%)\n",
            "  adding: png_2/episode0033.png (deflated 6%)\n",
            "  adding: png_2/episode0090.png (deflated 5%)\n",
            "  adding: png_2/episode0348.png (deflated 7%)\n",
            "  adding: png_2/episode0080.png (deflated 6%)\n",
            "  adding: png_2/episode0223.png (deflated 6%)\n",
            "  adding: png_2/episode0298.png (deflated 7%)\n",
            "  adding: png_2/episode0212.png (deflated 10%)\n",
            "  adding: png_2/episode0184.png (deflated 6%)\n",
            "  adding: png_2/episode0146.png (deflated 7%)\n",
            "  adding: png_2/episode0097.png (deflated 6%)\n",
            "  adding: png_2/episode0291.png (deflated 7%)\n",
            "  adding: png_2/episode0068.png (deflated 5%)\n",
            "  adding: png_2/episode0104.png (deflated 5%)\n",
            "  adding: png_2/episode0046.png (deflated 5%)\n",
            "  adding: png_2/episode0041.png (deflated 5%)\n",
            "  adding: png_2/episode0349.png (deflated 7%)\n",
            "  adding: png_2/episode0213.png (deflated 6%)\n",
            "  adding: png_2/episode0132.png (deflated 6%)\n",
            "  adding: png_2/episode0234.png (deflated 7%)\n",
            "  adding: png_2/episode0173.png (deflated 6%)\n",
            "  adding: png_2/episode0079.png (deflated 5%)\n",
            "  adding: png_2/episode0174.png (deflated 9%)\n",
            "  adding: png_2/episode0137.png (deflated 6%)\n",
            "  adding: png_2/episode0089.png (deflated 6%)\n",
            "  adding: png_2/episode0282.png (deflated 7%)\n",
            "  adding: png_2/episode0302.png (deflated 6%)\n",
            "  adding: png_2/episode0039.png (deflated 6%)\n",
            "  adding: png_2/episode0353.png (deflated 7%)\n",
            "  adding: png_2/episode0078.png (deflated 5%)\n",
            "  adding: png_2/episode0119.png (deflated 6%)\n",
            "  adding: png_2/episode0117.png (deflated 9%)\n",
            "  adding: png_2/episode0258.png (deflated 7%)\n",
            "  adding: png_2/episode0211.png (deflated 7%)\n",
            "  adding: png_2/episode0245.png (deflated 7%)\n",
            "  adding: png_2/episode0002.png (deflated 10%)\n",
            "  adding: png_2/episode0188.png (deflated 7%)\n",
            "  adding: png_2/episode0391.png (deflated 8%)\n",
            "  adding: png_2/episode0343.png (deflated 7%)\n",
            "  adding: png_2/episode0265.png (deflated 7%)\n",
            "  adding: png_2/episode0208.png (deflated 8%)\n",
            "  adding: png_2/episode0170.png (deflated 6%)\n",
            "  adding: png_2/episode0069.png (deflated 5%)\n",
            "  adding: png_2/episode0001.png (deflated 11%)\n",
            "  adding: png_2/episode0218.png (deflated 9%)\n",
            "  adding: png_2/episode0367.png (deflated 7%)\n",
            "  adding: png_2/episode0288.png (deflated 8%)\n",
            "  adding: png_2/episode0224.png (deflated 6%)\n",
            "  adding: png_2/episode0065.png (deflated 5%)\n",
            "  adding: png_2/episode0172.png (deflated 6%)\n",
            "  adding: png_2/episode0200.png (deflated 5%)\n",
            "  adding: png_2/episode0176.png (deflated 6%)\n",
            "  adding: png_2/episode0335.png (deflated 7%)\n",
            "  adding: png_2/episode0122.png (deflated 6%)\n",
            "  adding: png_2/episode0075.png (deflated 8%)\n",
            "  adding: png_2/episode0364.png (deflated 8%)\n",
            "  adding: png_2/episode0317.png (deflated 7%)\n",
            "  adding: png_2/episode0154.png (deflated 6%)\n",
            "  adding: png_2/episode0252.png (deflated 6%)\n",
            "  adding: png_2/episode0120.png (deflated 6%)\n",
            "  adding: png_2/episode0285.png (deflated 8%)\n",
            "  adding: png_2/episode0243.png (deflated 6%)\n",
            "  adding: png_2/episode0293.png (deflated 7%)\n",
            "  adding: png_2/episode0191.png (deflated 6%)\n",
            "  adding: png_2/episode0113.png (deflated 6%)\n",
            "  adding: png_2/episode0054.png (deflated 5%)\n",
            "  adding: png_2/episode0386.png (deflated 8%)\n",
            "  adding: png_2/episode0283.png (deflated 7%)\n",
            "  adding: png_2/episode0052.png (deflated 5%)\n",
            "  adding: png_2/episode0048.png (deflated 5%)\n",
            "  adding: png_2/episode0115.png (deflated 9%)\n",
            "  adding: png_2/episode0304.png (deflated 9%)\n",
            "  adding: png_2/episode0263.png (deflated 6%)\n",
            "  adding: png_2/episode0311.png (deflated 7%)\n",
            "  adding: png_2/episode0251.png (deflated 10%)\n",
            "  adding: png_2/episode0058.png (deflated 5%)\n",
            "  adding: png_2/episode0334.png (deflated 7%)\n",
            "  adding: png_2/episode0242.png (deflated 6%)\n",
            "  adding: png_2/episode0037.png (deflated 6%)\n",
            "  adding: png_2/episode0267.png (deflated 6%)\n",
            "  adding: png_2/episode0398.png (deflated 7%)\n",
            "  adding: png_2/episode0195.png (deflated 6%)\n",
            "  adding: png_2/episode0084.png (deflated 9%)\n",
            "  adding: png_2/episode0360.png (deflated 8%)\n",
            "  adding: png_2/episode0395.png (deflated 7%)\n",
            "  adding: png_2/episode0204.png (deflated 7%)\n",
            "  adding: png_2/episode0021.png (deflated 5%)\n",
            "  adding: png_2/episode0203.png (deflated 6%)\n",
            "  adding: png_2/episode0123.png (deflated 6%)\n",
            "  adding: png_2/episode0264.png (deflated 6%)\n",
            "  adding: png_2/episode0221.png (deflated 7%)\n",
            "  adding: png_2/episode0168.png (deflated 7%)\n",
            "  adding: png_2/episode0074.png (deflated 6%)\n",
            "  adding: png_2/episode0338.png (deflated 8%)\n",
            "  adding: png_2/episode0018.png (deflated 5%)\n",
            "  adding: png_2/episode0324.png (deflated 8%)\n",
            "  adding: png_2/episode0141.png (deflated 6%)\n",
            "  adding: png_2/episode0310.png (deflated 7%)\n",
            "  adding: png_2/episode0355.png (deflated 7%)\n",
            "  adding: png_2/episode0026.png (deflated 6%)\n",
            "  adding: png_2/episode0171.png (deflated 6%)\n",
            "  adding: png_2/episode0294.png (deflated 7%)\n",
            "  adding: png_2/episode0381.png (deflated 7%)\n",
            "  adding: png_2/episode0357.png (deflated 7%)\n"
          ],
          "name": "stdout"
        }
      ]
    },
    {
      "cell_type": "code",
      "metadata": {
        "id": "6EHUEf6tUrnh",
        "colab_type": "code",
        "colab": {}
      },
      "source": [
        "!cp -f png.zip /content/drive/'My Drive'/'Colab Notebooks'/"
      ],
      "execution_count": 0,
      "outputs": []
    }
  ]
}
