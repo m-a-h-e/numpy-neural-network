{
  "nbformat": 4,
  "nbformat_minor": 0,
  "metadata": {
    "colab": {
      "name": "handling.ipynb",
      "provenance": [],
      "collapsed_sections": [],
      "toc_visible": true,
      "authorship_tag": "ABX9TyPsUH5dYuYXolWqM8Q0zn0b",
      "include_colab_link": true
    },
    "kernelspec": {
      "name": "python3",
      "display_name": "Python 3"
    }
  },
  "cells": [
    {
      "cell_type": "markdown",
      "metadata": {
        "id": "view-in-github",
        "colab_type": "text"
      },
      "source": [
        "<a href=\"https://colab.research.google.com/github/maideas/numpy-neural-network/blob/master/examples/inception_mnist/inception_mnist.ipynb\" target=\"_parent\"><img src=\"https://colab.research.google.com/assets/colab-badge.svg\" alt=\"Open In Colab\"/></a>"
      ]
    },
    {
      "cell_type": "code",
      "metadata": {
        "id": "FJWJzPpSv69m",
        "colab_type": "code",
        "colab": {
          "base_uri": "https://localhost:8080/",
          "height": 34
        },
        "outputId": "bccddd8b-1ff8-4242-9815-e3c551bd979f"
      },
      "source": [
        "cd /content"
      ],
      "execution_count": 1,
      "outputs": [
        {
          "output_type": "stream",
          "text": [
            "/content\n"
          ],
          "name": "stdout"
        }
      ]
    },
    {
      "cell_type": "code",
      "metadata": {
        "id": "OeEM03O5rI_n",
        "colab_type": "code",
        "colab": {
          "base_uri": "https://localhost:8080/",
          "height": 139
        },
        "outputId": "7e6c9301-5a38-4181-a765-c944fabe696e"
      },
      "source": [
        "!rm -rf numpy-neural-network\n",
        "!git clone https://github.com/maideas/numpy-neural-network.git"
      ],
      "execution_count": 2,
      "outputs": [
        {
          "output_type": "stream",
          "text": [
            "Cloning into 'numpy-neural-network'...\n",
            "remote: Enumerating objects: 292, done.\u001b[K\n",
            "remote: Counting objects:   0% (1/292)\u001b[K\rremote: Counting objects:   1% (3/292)\u001b[K\rremote: Counting objects:   2% (6/292)\u001b[K\rremote: Counting objects:   3% (9/292)\u001b[K\rremote: Counting objects:   4% (12/292)\u001b[K\rremote: Counting objects:   5% (15/292)\u001b[K\rremote: Counting objects:   6% (18/292)\u001b[K\rremote: Counting objects:   7% (21/292)\u001b[K\rremote: Counting objects:   8% (24/292)\u001b[K\rremote: Counting objects:   9% (27/292)\u001b[K\rremote: Counting objects:  10% (30/292)\u001b[K\rremote: Counting objects:  11% (33/292)\u001b[K\rremote: Counting objects:  12% (36/292)\u001b[K\rremote: Counting objects:  13% (38/292)\u001b[K\rremote: Counting objects:  14% (41/292)\u001b[K\rremote: Counting objects:  15% (44/292)\u001b[K\rremote: Counting objects:  16% (47/292)\u001b[K\rremote: Counting objects:  17% (50/292)\u001b[K\rremote: Counting objects:  18% (53/292)\u001b[K\rremote: Counting objects:  19% (56/292)\u001b[K\rremote: Counting objects:  20% (59/292)\u001b[K\rremote: Counting objects:  21% (62/292)\u001b[K\rremote: Counting objects:  22% (65/292)\u001b[K\rremote: Counting objects:  23% (68/292)\u001b[K\rremote: Counting objects:  24% (71/292)\u001b[K\rremote: Counting objects:  25% (73/292)\u001b[K\rremote: Counting objects:  26% (76/292)\u001b[K\rremote: Counting objects:  27% (79/292)\u001b[K\rremote: Counting objects:  28% (82/292)\u001b[K\rremote: Counting objects:  29% (85/292)\u001b[K\rremote: Counting objects:  30% (88/292)\u001b[K\rremote: Counting objects:  31% (91/292)\u001b[K\rremote: Counting objects:  32% (94/292)\u001b[K\rremote: Counting objects:  33% (97/292)\u001b[K\rremote: Counting objects:  34% (100/292)\u001b[K\rremote: Counting objects:  35% (103/292)\u001b[K\rremote: Counting objects:  36% (106/292)\u001b[K\rremote: Counting objects:  37% (109/292)\u001b[K\rremote: Counting objects:  38% (111/292)\u001b[K\rremote: Counting objects:  39% (114/292)\u001b[K\rremote: Counting objects:  40% (117/292)\u001b[K\rremote: Counting objects:  41% (120/292)\u001b[K\rremote: Counting objects:  42% (123/292)\u001b[K\rremote: Counting objects:  43% (126/292)\u001b[K\rremote: Counting objects:  44% (129/292)\u001b[K\rremote: Counting objects:  45% (132/292)\u001b[K\rremote: Counting objects:  46% (135/292)\u001b[K\rremote: Counting objects:  47% (138/292)\u001b[K\rremote: Counting objects:  48% (141/292)\u001b[K\rremote: Counting objects:  49% (144/292)\u001b[K\rremote: Counting objects:  50% (146/292)\u001b[K\rremote: Counting objects:  51% (149/292)\u001b[K\rremote: Counting objects:  52% (152/292)\u001b[K\rremote: Counting objects:  53% (155/292)\u001b[K\rremote: Counting objects:  54% (158/292)\u001b[K\rremote: Counting objects:  55% (161/292)\u001b[K\rremote: Counting objects:  56% (164/292)\u001b[K\rremote: Counting objects:  57% (167/292)\u001b[K\rremote: Counting objects:  58% (170/292)\u001b[K\rremote: Counting objects:  59% (173/292)\u001b[K\rremote: Counting objects:  60% (176/292)\u001b[K\rremote: Counting objects:  61% (179/292)\u001b[K\rremote: Counting objects:  62% (182/292)\u001b[K\rremote: Counting objects:  63% (184/292)\u001b[K\rremote: Counting objects:  64% (187/292)\u001b[K\rremote: Counting objects:  65% (190/292)\u001b[K\rremote: Counting objects:  66% (193/292)\u001b[K\rremote: Counting objects:  67% (196/292)\u001b[K\rremote: Counting objects:  68% (199/292)\u001b[K\rremote: Counting objects:  69% (202/292)\u001b[K\rremote: Counting objects:  70% (205/292)\u001b[K\rremote: Counting objects:  71% (208/292)\u001b[K\rremote: Counting objects:  72% (211/292)\u001b[K\rremote: Counting objects:  73% (214/292)\u001b[K\rremote: Counting objects:  74% (217/292)\u001b[K\rremote: Counting objects:  75% (219/292)\u001b[K\rremote: Counting objects:  76% (222/292)\u001b[K\rremote: Counting objects:  77% (225/292)\u001b[K\rremote: Counting objects:  78% (228/292)\u001b[K\rremote: Counting objects:  79% (231/292)\u001b[K\rremote: Counting objects:  80% (234/292)\u001b[K\rremote: Counting objects:  81% (237/292)\u001b[K\rremote: Counting objects:  82% (240/292)\u001b[K\rremote: Counting objects:  83% (243/292)\u001b[K\rremote: Counting objects:  84% (246/292)\u001b[K\rremote: Counting objects:  85% (249/292)\u001b[K\rremote: Counting objects:  86% (252/292)\u001b[K\rremote: Counting objects:  87% (255/292)\u001b[K\rremote: Counting objects:  88% (257/292)\u001b[K\rremote: Counting objects:  89% (260/292)\u001b[K\rremote: Counting objects:  90% (263/292)\u001b[K\rremote: Counting objects:  91% (266/292)\u001b[K\rremote: Counting objects:  92% (269/292)\u001b[K\rremote: Counting objects:  93% (272/292)\u001b[K\rremote: Counting objects:  94% (275/292)\u001b[K\rremote: Counting objects:  95% (278/292)\u001b[K\rremote: Counting objects:  96% (281/292)\u001b[K\rremote: Counting objects:  97% (284/292)\u001b[K\rremote: Counting objects:  98% (287/292)\u001b[K\rremote: Counting objects:  99% (290/292)\u001b[K\rremote: Counting objects: 100% (292/292)\u001b[K\rremote: Counting objects: 100% (292/292), done.\u001b[K\n",
            "remote: Compressing objects: 100% (164/164), done.\u001b[K\n",
            "remote: Total 813 (delta 157), reused 252 (delta 125), pack-reused 521\u001b[K\n",
            "Receiving objects: 100% (813/813), 68.40 MiB | 35.95 MiB/s, done.\n",
            "Resolving deltas: 100% (448/448), done.\n"
          ],
          "name": "stdout"
        }
      ]
    },
    {
      "cell_type": "code",
      "metadata": {
        "id": "yBuNcC56sp0j",
        "colab_type": "code",
        "colab": {
          "base_uri": "https://localhost:8080/",
          "height": 34
        },
        "outputId": "5c85270d-83a1-41d2-c664-8e8ddc691583"
      },
      "source": [
        "cd /content/numpy-neural-network/examples/inception_mnist/"
      ],
      "execution_count": 3,
      "outputs": [
        {
          "output_type": "stream",
          "text": [
            "/content/numpy-neural-network/examples/inception_mnist\n"
          ],
          "name": "stdout"
        }
      ]
    },
    {
      "cell_type": "code",
      "metadata": {
        "id": "k7_VQiDRvuer",
        "colab_type": "code",
        "colab": {}
      },
      "source": [
        "!mkdir -p png\n",
        "!mkdir -p png_2"
      ],
      "execution_count": 0,
      "outputs": []
    },
    {
      "cell_type": "code",
      "metadata": {
        "id": "DglCMsmYs6SN",
        "colab_type": "code",
        "colab": {}
      },
      "source": [
        "import sys\n",
        "sys.path.append(\"../../\")"
      ],
      "execution_count": 0,
      "outputs": []
    },
    {
      "cell_type": "code",
      "metadata": {
        "id": "bn13ZFu2s_R_",
        "colab_type": "code",
        "colab": {
          "base_uri": "https://localhost:8080/",
          "height": 64
        },
        "outputId": "f5646b51-bed9-49c7-ef6d-a0f65b6a219d"
      },
      "source": [
        "import numpy as np\n",
        "import matplotlib\n",
        "import matplotlib.pyplot as plt\n",
        "import numpy_neural_network as npnn\n",
        "import npnn_datasets"
      ],
      "execution_count": 6,
      "outputs": [
        {
          "output_type": "display_data",
          "data": {
            "text/html": [
              "<p style=\"color: red;\">\n",
              "The default version of TensorFlow in Colab will soon switch to TensorFlow 2.x.<br>\n",
              "We recommend you <a href=\"https://www.tensorflow.org/guide/migrate\" target=\"_blank\">upgrade</a> now \n",
              "or ensure your notebook will continue to use TensorFlow 1.x via the <code>%tensorflow_version 1.x</code> magic:\n",
              "<a href=\"https://colab.research.google.com/notebooks/tensorflow_version.ipynb\" target=\"_blank\">more info</a>.</p>\n"
            ],
            "text/plain": [
              "<IPython.core.display.HTML object>"
            ]
          },
          "metadata": {
            "tags": []
          }
        }
      ]
    },
    {
      "cell_type": "code",
      "metadata": {
        "id": "Inteu4yJtpam",
        "colab_type": "code",
        "colab": {}
      },
      "source": [
        "model = npnn.network.Model([\n",
        "    npnn.Inception((28, 28, 1),\n",
        "           2,\n",
        "        2, 4,\n",
        "        2, 4,\n",
        "           2\n",
        "    ),\n",
        "    npnn.MaxPool(shape_in=(28, 28, 12), shape_out=(14, 14, 12), kernel_size=2),\n",
        "    npnn.Inception((14, 14, 12),\n",
        "            2,\n",
        "        4,  6,\n",
        "        4,  6,\n",
        "            2\n",
        "    ),\n",
        "    npnn.MaxPool(shape_in=(14, 14, 16), shape_out=(7, 7, 16), kernel_size=2),\n",
        "    npnn.Inception((7, 7, 16),\n",
        "           2,\n",
        "        6, 6,\n",
        "        6, 6,\n",
        "           2\n",
        "    ),\n",
        "    npnn.Dense(7*7*16, 140),\n",
        "    npnn.LeakyReLU(140),\n",
        "    npnn.Dense(140, 10),\n",
        "    npnn.Softmax(10)\n",
        "])"
      ],
      "execution_count": 0,
      "outputs": []
    },
    {
      "cell_type": "code",
      "metadata": {
        "id": "z2xuuUIiueWg",
        "colab_type": "code",
        "colab": {}
      },
      "source": [
        "model.loss_layer = npnn.loss_layer.CrossEntropyLoss(10)\n",
        "optimizer = npnn.optimizer.Adam(model, alpha=1e-3)\n",
        "optimizer.dataset = npnn_datasets.MNIST()"
      ],
      "execution_count": 0,
      "outputs": []
    },
    {
      "cell_type": "code",
      "metadata": {
        "id": "AeSWMEcRui4X",
        "colab_type": "code",
        "colab": {
          "base_uri": "https://localhost:8080/",
          "height": 957
        },
        "outputId": "2d91189e-c60d-4e2f-8233-7359c44ec835"
      },
      "source": [
        "plt.ion()\n",
        "plt.show()\n",
        "fig1, ((ax1, ax2), (ax3, ax4)) = plt.subplots(2, 2, figsize=(10,8))\n",
        "\n",
        "fig2, axs = plt.subplots(4, 3, figsize=(10,8))\n",
        "\n",
        "episodes = []\n",
        "\n",
        "mini_train_loss = []\n",
        "mini_validation_loss = []\n",
        "mini_train_accuracy = []\n",
        "mini_validation_accuracy = []"
      ],
      "execution_count": 9,
      "outputs": [
        {
          "output_type": "display_data",
          "data": {
            "image/png": "[encoded data removed]",
            "text/plain": [
              "<Figure size 720x576 with 4 Axes>"
            ]
          },
          "metadata": {
            "tags": []
          }
        },
        {
          "output_type": "display_data",
          "data": {
            "image/png": "[encoded data removed]",
            "text/plain": [
              "<Figure size 720x576 with 12 Axes>"
            ]
          },
          "metadata": {
            "tags": []
          }
        }
      ]
    },
    {
      "cell_type": "code",
      "metadata": {
        "id": "KSLve5zIuoVg",
        "colab_type": "code",
        "colab": {
          "base_uri": "https://localhost:8080/",
          "height": 1000
        },
        "outputId": "5cf692ac-58fb-434a-9ce9-22950afd2e77"
      },
      "source": [
        "for episode in np.arange(2000):\n",
        "\n",
        "    # step the optimizer ...\n",
        "    optimizer.step()\n",
        "    episodes.append(episode)\n",
        "\n",
        "    #===========================================================================\n",
        "    # mini batch loss and accuracy\n",
        "    #===========================================================================\n",
        "\n",
        "    tloss = np.mean(optimizer.loss)\n",
        "    taccuracy = optimizer.accuracy\n",
        "\n",
        "    mini_train_loss.append(tloss)\n",
        "    mini_train_accuracy.append(taccuracy)\n",
        "\n",
        "    ax1.cla()\n",
        "    ax1.set_xlabel('episode')\n",
        "    ax1.set_ylabel('train mini-batch loss')\n",
        "    ax1.set_yscale('log')\n",
        "    ax1.set_ylim((min(mini_train_loss)/2.0, max(mini_train_loss)*2.0))\n",
        "    ax1.plot(episodes, mini_train_loss)\n",
        "\n",
        "    ax2.cla()\n",
        "    ax2.set_xlabel('episode')\n",
        "    ax2.set_ylabel('train mini-batch accuracy [%]')\n",
        "    ax2.set_ylim(-5, 105)\n",
        "    ax2.plot(episodes, mini_train_accuracy)\n",
        "\n",
        "    #===========================================================================\n",
        "    # complete dataset loss and accuracy\n",
        "    #===========================================================================\n",
        "\n",
        "    x_validation_batch, t_validation_batch = optimizer.dataset.get_validation_batch()\n",
        "    y_validation_batch = optimizer.predict(x_validation_batch, t_validation_batch)\n",
        "\n",
        "    vloss = np.mean(optimizer.loss)\n",
        "    vaccuracy = optimizer.accuracy\n",
        "\n",
        "    mini_validation_loss.append(vloss)\n",
        "    mini_validation_accuracy.append(vaccuracy)\n",
        "\n",
        "    # print the episode and loss values ...\n",
        "    print(\"episode = {0:5d}, tloss = {1:5.3f}, vloss = {2:5.3f}, taccuracy = {3:5.3f}%, vaccuracy = {4:5.3f}%\".format(\n",
        "        episode, tloss, vloss, taccuracy, vaccuracy\n",
        "    ))\n",
        "\n",
        "    ax3.cla()\n",
        "    ax3.set_xlabel('episode')\n",
        "    ax3.set_ylabel('validation mini-batch loss')\n",
        "    ax3.set_yscale('log')\n",
        "    ax3.set_ylim((min(mini_validation_loss)/2.0, max(mini_validation_loss)*2.0))\n",
        "    ax3.plot(episodes, mini_validation_loss, c='tab:orange')\n",
        "\n",
        "    ax4.cla()\n",
        "    ax4.set_xlabel('episode')\n",
        "    ax4.set_ylabel('validation mini-batch accuracy [%]')\n",
        "    ax4.set_ylim(-5, 105)\n",
        "    ax4.plot(episodes, mini_validation_accuracy, c='tab:orange')\n",
        "\n",
        "    #===========================================================================\n",
        "    # network output plots (validation batch based)\n",
        "    #===========================================================================\n",
        "\n",
        "    k = np.arange(x_validation_batch.shape[0])\n",
        "\n",
        "    for n in np.arange(4):\n",
        "        for m in np.arange(3):\n",
        "            c = n * 3 + m\n",
        "            if c < 10:\n",
        "                axs[n, m].cla()\n",
        "                axs[n, m].set_ylim(-0.1, 1.1)\n",
        "                axs[n, m].scatter(k, t_validation_batch[:,c], s=10, c='tab:green')\n",
        "                axs[n, m].scatter(k, y_validation_batch[:,c], s=10, c='tab:orange')\n",
        "\n",
        "    #===========================================================================\n",
        "    # draw and save PNG to generate video files later on\n",
        "    #===========================================================================\n",
        "\n",
        "    plt.draw()\n",
        "    fig1.savefig('png/episode{0:04d}.png'.format(episode))\n",
        "    fig2.savefig('png_2/episode{0:04d}.png'.format(episode))\n",
        "    plt.pause(0.001)"
      ],
      "execution_count": 0,
      "outputs": [
        {
          "output_type": "stream",
          "text": [
            "episode =     0, tloss = 0.250, vloss = 0.231, taccuracy = 8.333%, vaccuracy = 11.765%\n"
          ],
          "name": "stdout"
        },
        {
          "output_type": "display_data",
          "data": {
            "text/plain": [
              "<Figure size 432x288 with 0 Axes>"
            ]
          },
          "metadata": {
            "tags": []
          }
        },
        {
          "output_type": "stream",
          "text": [
            "episode =     1, tloss = 0.238, vloss = 0.223, taccuracy = 11.275%, vaccuracy = 17.647%\n"
          ],
          "name": "stdout"
        },
        {
          "output_type": "display_data",
          "data": {
            "text/plain": [
              "<Figure size 432x288 with 0 Axes>"
            ]
          },
          "metadata": {
            "tags": []
          }
        },
        {
          "output_type": "stream",
          "text": [
            "episode =     2, tloss = 0.226, vloss = 0.217, taccuracy = 12.745%, vaccuracy = 26.471%\n"
          ],
          "name": "stdout"
        },
        {
          "output_type": "display_data",
          "data": {
            "text/plain": [
              "<Figure size 432x288 with 0 Axes>"
            ]
          },
          "metadata": {
            "tags": []
          }
        },
        {
          "output_type": "stream",
          "text": [
            "episode =     3, tloss = 0.215, vloss = 0.217, taccuracy = 26.471%, vaccuracy = 31.373%\n"
          ],
          "name": "stdout"
        },
        {
          "output_type": "display_data",
          "data": {
            "text/plain": [
              "<Figure size 432x288 with 0 Axes>"
            ]
          },
          "metadata": {
            "tags": []
          }
        },
        {
          "output_type": "stream",
          "text": [
            "episode =     4, tloss = 0.217, vloss = 0.220, taccuracy = 33.333%, vaccuracy = 35.294%\n"
          ],
          "name": "stdout"
        },
        {
          "output_type": "display_data",
          "data": {
            "text/plain": [
              "<Figure size 432x288 with 0 Axes>"
            ]
          },
          "metadata": {
            "tags": []
          }
        },
        {
          "output_type": "stream",
          "text": [
            "episode =     5, tloss = 0.216, vloss = 0.213, taccuracy = 28.922%, vaccuracy = 31.373%\n"
          ],
          "name": "stdout"
        },
        {
          "output_type": "display_data",
          "data": {
            "text/plain": [
              "<Figure size 432x288 with 0 Axes>"
            ]
          },
          "metadata": {
            "tags": []
          }
        },
        {
          "output_type": "stream",
          "text": [
            "episode =     6, tloss = 0.213, vloss = 0.205, taccuracy = 34.314%, vaccuracy = 38.725%\n"
          ],
          "name": "stdout"
        },
        {
          "output_type": "display_data",
          "data": {
            "text/plain": [
              "<Figure size 432x288 with 0 Axes>"
            ]
          },
          "metadata": {
            "tags": []
          }
        },
        {
          "output_type": "stream",
          "text": [
            "episode =     7, tloss = 0.203, vloss = 0.204, taccuracy = 38.235%, vaccuracy = 41.176%\n"
          ],
          "name": "stdout"
        },
        {
          "output_type": "display_data",
          "data": {
            "text/plain": [
              "<Figure size 432x288 with 0 Axes>"
            ]
          },
          "metadata": {
            "tags": []
          }
        },
        {
          "output_type": "stream",
          "text": [
            "episode =     8, tloss = 0.201, vloss = 0.187, taccuracy = 38.235%, vaccuracy = 48.039%\n"
          ],
          "name": "stdout"
        },
        {
          "output_type": "display_data",
          "data": {
            "text/plain": [
              "<Figure size 432x288 with 0 Axes>"
            ]
          },
          "metadata": {
            "tags": []
          }
        },
        {
          "output_type": "stream",
          "text": [
            "episode =     9, tloss = 0.197, vloss = 0.202, taccuracy = 39.706%, vaccuracy = 41.667%\n"
          ],
          "name": "stdout"
        },
        {
          "output_type": "display_data",
          "data": {
            "text/plain": [
              "<Figure size 432x288 with 0 Axes>"
            ]
          },
          "metadata": {
            "tags": []
          }
        },
        {
          "output_type": "stream",
          "text": [
            "episode =    10, tloss = 0.187, vloss = 0.189, taccuracy = 44.608%, vaccuracy = 46.078%\n"
          ],
          "name": "stdout"
        },
        {
          "output_type": "display_data",
          "data": {
            "text/plain": [
              "<Figure size 432x288 with 0 Axes>"
            ]
          },
          "metadata": {
            "tags": []
          }
        },
        {
          "output_type": "stream",
          "text": [
            "episode =    11, tloss = 0.198, vloss = 0.181, taccuracy = 37.745%, vaccuracy = 42.647%\n"
          ],
          "name": "stdout"
        },
        {
          "output_type": "display_data",
          "data": {
            "text/plain": [
              "<Figure size 432x288 with 0 Axes>"
            ]
          },
          "metadata": {
            "tags": []
          }
        },
        {
          "output_type": "stream",
          "text": [
            "episode =    12, tloss = 0.190, vloss = 0.183, taccuracy = 45.588%, vaccuracy = 46.569%\n"
          ],
          "name": "stdout"
        },
        {
          "output_type": "display_data",
          "data": {
            "text/plain": [
              "<Figure size 432x288 with 0 Axes>"
            ]
          },
          "metadata": {
            "tags": []
          }
        },
        {
          "output_type": "stream",
          "text": [
            "episode =    13, tloss = 0.184, vloss = 0.187, taccuracy = 45.588%, vaccuracy = 45.098%\n"
          ],
          "name": "stdout"
        },
        {
          "output_type": "display_data",
          "data": {
            "text/plain": [
              "<Figure size 432x288 with 0 Axes>"
            ]
          },
          "metadata": {
            "tags": []
          }
        },
        {
          "output_type": "stream",
          "text": [
            "episode =    14, tloss = 0.187, vloss = 0.188, taccuracy = 38.725%, vaccuracy = 45.588%\n"
          ],
          "name": "stdout"
        },
        {
          "output_type": "display_data",
          "data": {
            "text/plain": [
              "<Figure size 432x288 with 0 Axes>"
            ]
          },
          "metadata": {
            "tags": []
          }
        },
        {
          "output_type": "stream",
          "text": [
            "episode =    15, tloss = 0.176, vloss = 0.179, taccuracy = 45.588%, vaccuracy = 48.039%\n"
          ],
          "name": "stdout"
        },
        {
          "output_type": "display_data",
          "data": {
            "text/plain": [
              "<Figure size 432x288 with 0 Axes>"
            ]
          },
          "metadata": {
            "tags": []
          }
        },
        {
          "output_type": "stream",
          "text": [
            "episode =    16, tloss = 0.183, vloss = 0.173, taccuracy = 42.647%, vaccuracy = 46.569%\n"
          ],
          "name": "stdout"
        },
        {
          "output_type": "display_data",
          "data": {
            "text/plain": [
              "<Figure size 432x288 with 0 Axes>"
            ]
          },
          "metadata": {
            "tags": []
          }
        },
        {
          "output_type": "stream",
          "text": [
            "episode =    17, tloss = 0.179, vloss = 0.172, taccuracy = 47.059%, vaccuracy = 48.529%\n"
          ],
          "name": "stdout"
        },
        {
          "output_type": "display_data",
          "data": {
            "text/plain": [
              "<Figure size 432x288 with 0 Axes>"
            ]
          },
          "metadata": {
            "tags": []
          }
        },
        {
          "output_type": "stream",
          "text": [
            "episode =    18, tloss = 0.181, vloss = 0.168, taccuracy = 46.569%, vaccuracy = 49.510%\n"
          ],
          "name": "stdout"
        },
        {
          "output_type": "display_data",
          "data": {
            "text/plain": [
              "<Figure size 432x288 with 0 Axes>"
            ]
          },
          "metadata": {
            "tags": []
          }
        },
        {
          "output_type": "stream",
          "text": [
            "episode =    19, tloss = 0.168, vloss = 0.180, taccuracy = 50.980%, vaccuracy = 54.412%\n"
          ],
          "name": "stdout"
        },
        {
          "output_type": "display_data",
          "data": {
            "text/plain": [
              "<Figure size 432x288 with 0 Axes>"
            ]
          },
          "metadata": {
            "tags": []
          }
        },
        {
          "output_type": "stream",
          "text": [
            "episode =    20, tloss = 0.167, vloss = 0.174, taccuracy = 49.510%, vaccuracy = 44.608%\n"
          ],
          "name": "stdout"
        },
        {
          "output_type": "display_data",
          "data": {
            "text/plain": [
              "<Figure size 432x288 with 0 Axes>"
            ]
          },
          "metadata": {
            "tags": []
          }
        },
        {
          "output_type": "stream",
          "text": [
            "episode =    21, tloss = 0.172, vloss = 0.171, taccuracy = 47.059%, vaccuracy = 46.569%\n"
          ],
          "name": "stdout"
        },
        {
          "output_type": "display_data",
          "data": {
            "text/plain": [
              "<Figure size 432x288 with 0 Axes>"
            ]
          },
          "metadata": {
            "tags": []
          }
        },
        {
          "output_type": "stream",
          "text": [
            "episode =    22, tloss = 0.154, vloss = 0.156, taccuracy = 50.490%, vaccuracy = 50.000%\n"
          ],
          "name": "stdout"
        },
        {
          "output_type": "display_data",
          "data": {
            "text/plain": [
              "<Figure size 432x288 with 0 Axes>"
            ]
          },
          "metadata": {
            "tags": []
          }
        },
        {
          "output_type": "stream",
          "text": [
            "episode =    23, tloss = 0.160, vloss = 0.197, taccuracy = 51.961%, vaccuracy = 44.608%\n"
          ],
          "name": "stdout"
        },
        {
          "output_type": "display_data",
          "data": {
            "text/plain": [
              "<Figure size 432x288 with 0 Axes>"
            ]
          },
          "metadata": {
            "tags": []
          }
        },
        {
          "output_type": "stream",
          "text": [
            "episode =    24, tloss = 0.164, vloss = 0.164, taccuracy = 48.529%, vaccuracy = 58.333%\n"
          ],
          "name": "stdout"
        },
        {
          "output_type": "display_data",
          "data": {
            "text/plain": [
              "<Figure size 432x288 with 0 Axes>"
            ]
          },
          "metadata": {
            "tags": []
          }
        },
        {
          "output_type": "stream",
          "text": [
            "episode =    25, tloss = 0.152, vloss = 0.158, taccuracy = 56.373%, vaccuracy = 50.980%\n"
          ],
          "name": "stdout"
        },
        {
          "output_type": "display_data",
          "data": {
            "text/plain": [
              "<Figure size 432x288 with 0 Axes>"
            ]
          },
          "metadata": {
            "tags": []
          }
        },
        {
          "output_type": "stream",
          "text": [
            "episode =    26, tloss = 0.159, vloss = 0.168, taccuracy = 51.961%, vaccuracy = 52.941%\n"
          ],
          "name": "stdout"
        },
        {
          "output_type": "display_data",
          "data": {
            "text/plain": [
              "<Figure size 432x288 with 0 Axes>"
            ]
          },
          "metadata": {
            "tags": []
          }
        },
        {
          "output_type": "stream",
          "text": [
            "episode =    27, tloss = 0.159, vloss = 0.152, taccuracy = 57.353%, vaccuracy = 51.961%\n"
          ],
          "name": "stdout"
        },
        {
          "output_type": "display_data",
          "data": {
            "text/plain": [
              "<Figure size 432x288 with 0 Axes>"
            ]
          },
          "metadata": {
            "tags": []
          }
        },
        {
          "output_type": "stream",
          "text": [
            "episode =    28, tloss = 0.147, vloss = 0.150, taccuracy = 48.039%, vaccuracy = 53.431%\n"
          ],
          "name": "stdout"
        },
        {
          "output_type": "display_data",
          "data": {
            "text/plain": [
              "<Figure size 432x288 with 0 Axes>"
            ]
          },
          "metadata": {
            "tags": []
          }
        },
        {
          "output_type": "stream",
          "text": [
            "episode =    29, tloss = 0.154, vloss = 0.156, taccuracy = 50.490%, vaccuracy = 46.078%\n"
          ],
          "name": "stdout"
        },
        {
          "output_type": "display_data",
          "data": {
            "text/plain": [
              "<Figure size 432x288 with 0 Axes>"
            ]
          },
          "metadata": {
            "tags": []
          }
        },
        {
          "output_type": "stream",
          "text": [
            "episode =    30, tloss = 0.144, vloss = 0.163, taccuracy = 51.961%, vaccuracy = 48.039%\n"
          ],
          "name": "stdout"
        },
        {
          "output_type": "display_data",
          "data": {
            "text/plain": [
              "<Figure size 432x288 with 0 Axes>"
            ]
          },
          "metadata": {
            "tags": []
          }
        },
        {
          "output_type": "stream",
          "text": [
            "episode =    31, tloss = 0.144, vloss = 0.145, taccuracy = 54.902%, vaccuracy = 52.941%\n"
          ],
          "name": "stdout"
        },
        {
          "output_type": "display_data",
          "data": {
            "text/plain": [
              "<Figure size 432x288 with 0 Axes>"
            ]
          },
          "metadata": {
            "tags": []
          }
        },
        {
          "output_type": "stream",
          "text": [
            "episode =    32, tloss = 0.159, vloss = 0.151, taccuracy = 47.059%, vaccuracy = 52.941%\n"
          ],
          "name": "stdout"
        },
        {
          "output_type": "display_data",
          "data": {
            "text/plain": [
              "<Figure size 432x288 with 0 Axes>"
            ]
          },
          "metadata": {
            "tags": []
          }
        },
        {
          "output_type": "stream",
          "text": [
            "episode =    33, tloss = 0.144, vloss = 0.146, taccuracy = 53.431%, vaccuracy = 54.412%\n"
          ],
          "name": "stdout"
        },
        {
          "output_type": "display_data",
          "data": {
            "text/plain": [
              "<Figure size 432x288 with 0 Axes>"
            ]
          },
          "metadata": {
            "tags": []
          }
        },
        {
          "output_type": "stream",
          "text": [
            "episode =    34, tloss = 0.149, vloss = 0.151, taccuracy = 54.902%, vaccuracy = 57.843%\n"
          ],
          "name": "stdout"
        },
        {
          "output_type": "display_data",
          "data": {
            "text/plain": [
              "<Figure size 432x288 with 0 Axes>"
            ]
          },
          "metadata": {
            "tags": []
          }
        },
        {
          "output_type": "stream",
          "text": [
            "episode =    35, tloss = 0.143, vloss = 0.141, taccuracy = 51.961%, vaccuracy = 54.902%\n"
          ],
          "name": "stdout"
        },
        {
          "output_type": "display_data",
          "data": {
            "text/plain": [
              "<Figure size 432x288 with 0 Axes>"
            ]
          },
          "metadata": {
            "tags": []
          }
        },
        {
          "output_type": "stream",
          "text": [
            "episode =    36, tloss = 0.140, vloss = 0.135, taccuracy = 53.431%, vaccuracy = 58.333%\n"
          ],
          "name": "stdout"
        },
        {
          "output_type": "display_data",
          "data": {
            "text/plain": [
              "<Figure size 432x288 with 0 Axes>"
            ]
          },
          "metadata": {
            "tags": []
          }
        },
        {
          "output_type": "stream",
          "text": [
            "episode =    37, tloss = 0.137, vloss = 0.143, taccuracy = 54.412%, vaccuracy = 53.922%\n"
          ],
          "name": "stdout"
        },
        {
          "output_type": "display_data",
          "data": {
            "text/plain": [
              "<Figure size 432x288 with 0 Axes>"
            ]
          },
          "metadata": {
            "tags": []
          }
        },
        {
          "output_type": "stream",
          "text": [
            "episode =    38, tloss = 0.143, vloss = 0.153, taccuracy = 57.353%, vaccuracy = 59.314%\n"
          ],
          "name": "stdout"
        },
        {
          "output_type": "display_data",
          "data": {
            "text/plain": [
              "<Figure size 432x288 with 0 Axes>"
            ]
          },
          "metadata": {
            "tags": []
          }
        },
        {
          "output_type": "stream",
          "text": [
            "episode =    39, tloss = 0.140, vloss = 0.136, taccuracy = 62.255%, vaccuracy = 63.235%\n"
          ],
          "name": "stdout"
        },
        {
          "output_type": "display_data",
          "data": {
            "text/plain": [
              "<Figure size 432x288 with 0 Axes>"
            ]
          },
          "metadata": {
            "tags": []
          }
        },
        {
          "output_type": "stream",
          "text": [
            "episode =    40, tloss = 0.132, vloss = 0.124, taccuracy = 67.157%, vaccuracy = 64.216%\n"
          ],
          "name": "stdout"
        },
        {
          "output_type": "display_data",
          "data": {
            "text/plain": [
              "<Figure size 432x288 with 0 Axes>"
            ]
          },
          "metadata": {
            "tags": []
          }
        },
        {
          "output_type": "stream",
          "text": [
            "episode =    41, tloss = 0.133, vloss = 0.123, taccuracy = 60.294%, vaccuracy = 61.765%\n"
          ],
          "name": "stdout"
        },
        {
          "output_type": "display_data",
          "data": {
            "text/plain": [
              "<Figure size 432x288 with 0 Axes>"
            ]
          },
          "metadata": {
            "tags": []
          }
        },
        {
          "output_type": "stream",
          "text": [
            "episode =    42, tloss = 0.123, vloss = 0.137, taccuracy = 66.176%, vaccuracy = 65.196%\n"
          ],
          "name": "stdout"
        },
        {
          "output_type": "display_data",
          "data": {
            "text/plain": [
              "<Figure size 432x288 with 0 Axes>"
            ]
          },
          "metadata": {
            "tags": []
          }
        },
        {
          "output_type": "stream",
          "text": [
            "episode =    43, tloss = 0.139, vloss = 0.158, taccuracy = 61.275%, vaccuracy = 54.412%\n"
          ],
          "name": "stdout"
        },
        {
          "output_type": "display_data",
          "data": {
            "text/plain": [
              "<Figure size 432x288 with 0 Axes>"
            ]
          },
          "metadata": {
            "tags": []
          }
        },
        {
          "output_type": "stream",
          "text": [
            "episode =    44, tloss = 0.139, vloss = 0.140, taccuracy = 59.804%, vaccuracy = 61.765%\n"
          ],
          "name": "stdout"
        },
        {
          "output_type": "display_data",
          "data": {
            "text/plain": [
              "<Figure size 432x288 with 0 Axes>"
            ]
          },
          "metadata": {
            "tags": []
          }
        },
        {
          "output_type": "stream",
          "text": [
            "episode =    45, tloss = 0.119, vloss = 0.122, taccuracy = 62.745%, vaccuracy = 61.765%\n"
          ],
          "name": "stdout"
        },
        {
          "output_type": "display_data",
          "data": {
            "text/plain": [
              "<Figure size 432x288 with 0 Axes>"
            ]
          },
          "metadata": {
            "tags": []
          }
        },
        {
          "output_type": "stream",
          "text": [
            "episode =    46, tloss = 0.131, vloss = 0.141, taccuracy = 60.784%, vaccuracy = 52.941%\n"
          ],
          "name": "stdout"
        },
        {
          "output_type": "display_data",
          "data": {
            "text/plain": [
              "<Figure size 432x288 with 0 Axes>"
            ]
          },
          "metadata": {
            "tags": []
          }
        },
        {
          "output_type": "stream",
          "text": [
            "episode =    47, tloss = 0.129, vloss = 0.136, taccuracy = 57.353%, vaccuracy = 55.392%\n"
          ],
          "name": "stdout"
        },
        {
          "output_type": "display_data",
          "data": {
            "text/plain": [
              "<Figure size 432x288 with 0 Axes>"
            ]
          },
          "metadata": {
            "tags": []
          }
        },
        {
          "output_type": "stream",
          "text": [
            "episode =    48, tloss = 0.133, vloss = 0.126, taccuracy = 59.804%, vaccuracy = 56.373%\n"
          ],
          "name": "stdout"
        },
        {
          "output_type": "display_data",
          "data": {
            "text/plain": [
              "<Figure size 432x288 with 0 Axes>"
            ]
          },
          "metadata": {
            "tags": []
          }
        },
        {
          "output_type": "stream",
          "text": [
            "episode =    49, tloss = 0.122, vloss = 0.124, taccuracy = 58.824%, vaccuracy = 58.824%\n"
          ],
          "name": "stdout"
        },
        {
          "output_type": "display_data",
          "data": {
            "text/plain": [
              "<Figure size 432x288 with 0 Axes>"
            ]
          },
          "metadata": {
            "tags": []
          }
        },
        {
          "output_type": "stream",
          "text": [
            "episode =    50, tloss = 0.126, vloss = 0.141, taccuracy = 65.196%, vaccuracy = 59.804%\n"
          ],
          "name": "stdout"
        },
        {
          "output_type": "display_data",
          "data": {
            "text/plain": [
              "<Figure size 432x288 with 0 Axes>"
            ]
          },
          "metadata": {
            "tags": []
          }
        },
        {
          "output_type": "stream",
          "text": [
            "episode =    51, tloss = 0.127, vloss = 0.135, taccuracy = 62.745%, vaccuracy = 59.314%\n"
          ],
          "name": "stdout"
        },
        {
          "output_type": "display_data",
          "data": {
            "text/plain": [
              "<Figure size 432x288 with 0 Axes>"
            ]
          },
          "metadata": {
            "tags": []
          }
        },
        {
          "output_type": "stream",
          "text": [
            "episode =    52, tloss = 0.132, vloss = 0.127, taccuracy = 56.373%, vaccuracy = 59.314%\n"
          ],
          "name": "stdout"
        },
        {
          "output_type": "display_data",
          "data": {
            "text/plain": [
              "<Figure size 432x288 with 0 Axes>"
            ]
          },
          "metadata": {
            "tags": []
          }
        }
      ]
    },
    {
      "cell_type": "markdown",
      "metadata": {
        "id": "FpE6gyIlwqRH",
        "colab_type": "text"
      },
      "source": [
        "# New Section"
      ]
    }
  ]
}