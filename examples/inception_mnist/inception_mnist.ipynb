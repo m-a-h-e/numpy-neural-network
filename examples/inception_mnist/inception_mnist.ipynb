{
  "nbformat": 4,
  "nbformat_minor": 0,
  "metadata": {
    "colab": {
      "name": "inception_mnist.ipynb",
      "provenance": [],
      "collapsed_sections": [],
      "toc_visible": true,
      "authorship_tag": "ABX9TyNm8AaCfondE2KtEoK97zMc",
      "include_colab_link": true
    },
    "kernelspec": {
      "name": "python3",
      "display_name": "Python 3"
    }
  },
  "cells": [
    {
      "cell_type": "markdown",
      "metadata": {
        "id": "view-in-github",
        "colab_type": "text"
      },
      "source": [
        "<a href=\"https://colab.research.google.com/github/maideas/numpy-neural-network/blob/master/examples/inception_mnist/inception_mnist.ipynb\" target=\"_parent\"><img src=\"https://colab.research.google.com/assets/colab-badge.svg\" alt=\"Open In Colab\"/></a>"
      ]
    },
    {
      "cell_type": "code",
      "metadata": {
        "id": "_EFvrcXfT-ZO",
        "colab_type": "code",
        "colab": {}
      },
      "source": [
        "from google.colab import drive\n",
        "\n",
        "drive.mount('/content/drive')"
      ],
      "execution_count": 0,
      "outputs": []
    },
    {
      "cell_type": "code",
      "metadata": {
        "id": "FJWJzPpSv69m",
        "colab_type": "code",
        "colab": {}
      },
      "source": [
        "cd /content"
      ],
      "execution_count": 0,
      "outputs": []
    },
    {
      "cell_type": "code",
      "metadata": {
        "id": "OeEM03O5rI_n",
        "colab_type": "code",
        "colab": {}
      },
      "source": [
        "!rm -rf numpy-neural-network\n",
        "!git clone https://github.com/maideas/numpy-neural-network.git"
      ],
      "execution_count": 0,
      "outputs": []
    },
    {
      "cell_type": "code",
      "metadata": {
        "id": "yBuNcC56sp0j",
        "colab_type": "code",
        "colab": {}
      },
      "source": [
        "cd /content/numpy-neural-network/examples/inception_mnist/"
      ],
      "execution_count": 0,
      "outputs": []
    },
    {
      "cell_type": "code",
      "metadata": {
        "id": "k7_VQiDRvuer",
        "colab_type": "code",
        "colab": {}
      },
      "source": [
        "!mkdir -p png png_2"
      ],
      "execution_count": 0,
      "outputs": []
    },
    {
      "cell_type": "code",
      "metadata": {
        "id": "DglCMsmYs6SN",
        "colab_type": "code",
        "colab": {}
      },
      "source": [
        "import sys\n",
        "sys.path.append(\"../../\")"
      ],
      "execution_count": 0,
      "outputs": []
    },
    {
      "cell_type": "code",
      "metadata": {
        "id": "bn13ZFu2s_R_",
        "colab_type": "code",
        "colab": {}
      },
      "source": [
        "import numpy as np\n",
        "import matplotlib\n",
        "import matplotlib.pyplot as plt\n",
        "import numpy_neural_network as npnn\n",
        "import npnn_datasets"
      ],
      "execution_count": 0,
      "outputs": []
    },
    {
      "cell_type": "code",
      "metadata": {
        "id": "Inteu4yJtpam",
        "colab_type": "code",
        "colab": {}
      },
      "source": [
        "model = npnn.network.Model([\n",
        "    npnn.Inception((28, 28, 1),\n",
        "           2,\n",
        "        3, 6,\n",
        "        3, 6,\n",
        "           2\n",
        "    ),\n",
        "    npnn.MaxPool(shape_in=(28, 28, 16), shape_out=(14, 14, 16), kernel_size=2),\n",
        "    npnn.Inception((14, 14, 16),\n",
        "            4,\n",
        "        6,  8,\n",
        "        6,  8,\n",
        "            2\n",
        "    ),\n",
        "    npnn.MaxPool(shape_in=(14, 14, 22), shape_out=(7, 7, 22), kernel_size=2),\n",
        "    npnn.Inception((7, 7, 22),\n",
        "           4,\n",
        "        8, 8,\n",
        "        8, 8,\n",
        "           2\n",
        "    ),\n",
        "    npnn.Dense(7*7*22, 140),\n",
        "    npnn.LeakyReLU(140),\n",
        "    npnn.Dense(140, 10),\n",
        "    npnn.Softmax(10)\n",
        "])"
      ],
      "execution_count": 0,
      "outputs": []
    },
    {
      "cell_type": "code",
      "metadata": {
        "id": "z2xuuUIiueWg",
        "colab_type": "code",
        "colab": {}
      },
      "source": [
        "model.loss_layer = npnn.loss_layer.CrossEntropyLoss(10)\n",
        "optimizer = npnn.optimizer.Adam(model, alpha=1e-3)\n",
        "optimizer.dataset = npnn_datasets.MNIST()"
      ],
      "execution_count": 0,
      "outputs": []
    },
    {
      "cell_type": "code",
      "metadata": {
        "id": "KSLve5zIuoVg",
        "colab_type": "code",
        "colab": {}
      },
      "source": [
        "plt.ion()\n",
        "plt.show()\n",
        "fig1, ((ax1, ax2), (ax3, ax4)) = plt.subplots(2, 2)\n",
        "fig2, axs = plt.subplots(4, 3)\n",
        "\n",
        "episodes = []\n",
        "\n",
        "mini_train_loss = []\n",
        "mini_validation_loss = []\n",
        "mini_train_accuracy = []\n",
        "mini_validation_accuracy = []\n",
        "\n",
        "for episode in np.arange(200):\n",
        "\n",
        "    # step the optimizer ...\n",
        "    optimizer.step()\n",
        "    episodes.append(episode)\n",
        "\n",
        "    #===========================================================================\n",
        "    # mini batch loss and accuracy\n",
        "    #===========================================================================\n",
        "\n",
        "    tloss = np.mean(optimizer.loss)\n",
        "    taccuracy = optimizer.accuracy\n",
        "\n",
        "    mini_train_loss.append(tloss)\n",
        "    mini_train_accuracy.append(taccuracy)\n",
        "\n",
        "    ax1.cla()\n",
        "    ax1.set_xlabel('episode')\n",
        "    ax1.set_ylabel('train mini-batch loss')\n",
        "    ax1.set_yscale('log')\n",
        "    ax1.set_ylim((min(mini_train_loss)/2.0, max(mini_train_loss)*2.0))\n",
        "    ax1.plot(episodes, mini_train_loss)\n",
        "\n",
        "    ax2.cla()\n",
        "    ax2.set_xlabel('episode')\n",
        "    ax2.set_ylabel('train mini-batch accuracy [%]')\n",
        "    ax2.set_ylim(-5, 105)\n",
        "    ax2.plot(episodes, mini_train_accuracy)\n",
        "\n",
        "    #===========================================================================\n",
        "    # complete dataset loss and accuracy\n",
        "    #===========================================================================\n",
        "\n",
        "    x_validation_batch, t_validation_batch = optimizer.dataset.get_validation_batch()\n",
        "    y_validation_batch = optimizer.predict(x_validation_batch, t_validation_batch)\n",
        "\n",
        "    vloss = np.mean(optimizer.loss)\n",
        "    vaccuracy = optimizer.accuracy\n",
        "\n",
        "    mini_validation_loss.append(vloss)\n",
        "    mini_validation_accuracy.append(vaccuracy)\n",
        "\n",
        "    # print the episode and loss values ...\n",
        "    print(\"episode = {0:5d}, tloss = {1:5.3f}, vloss = {2:5.3f}, taccuracy = {3:5.3f}%, vaccuracy = {4:5.3f}%\".format(\n",
        "        episode, tloss, vloss, taccuracy, vaccuracy\n",
        "    ))\n",
        "\n",
        "    ax3.cla()\n",
        "    ax3.set_xlabel('episode')\n",
        "    ax3.set_ylabel('validation mini-batch loss')\n",
        "    ax3.set_yscale('log')\n",
        "    ax3.set_ylim((min(mini_validation_loss)/2.0, max(mini_validation_loss)*2.0))\n",
        "    ax3.plot(episodes, mini_validation_loss, c='tab:orange')\n",
        "\n",
        "    ax4.cla()\n",
        "    ax4.set_xlabel('episode')\n",
        "    ax4.set_ylabel('validation mini-batch accuracy [%]')\n",
        "    ax4.set_ylim(-5, 105)\n",
        "    ax4.plot(episodes, mini_validation_accuracy, c='tab:orange')\n",
        "\n",
        "    #===========================================================================\n",
        "    # network output plots (validation batch based)\n",
        "    #===========================================================================\n",
        "\n",
        "    k = np.arange(x_validation_batch.shape[0])\n",
        "\n",
        "    for n in np.arange(4):\n",
        "        for m in np.arange(3):\n",
        "            c = n * 3 + m\n",
        "            if c < 10:\n",
        "                axs[n, m].cla()\n",
        "                axs[n, m].set_ylim(-0.1, 1.1)\n",
        "                axs[n, m].scatter(k, t_validation_batch[:,c], s=10, c='tab:green')\n",
        "                axs[n, m].scatter(k, y_validation_batch[:,c], s=10, c='tab:orange')\n",
        "\n",
        "    #===========================================================================\n",
        "    # draw and save PNG to generate video files later on\n",
        "    #===========================================================================\n",
        "\n",
        "    plt.draw()\n",
        "    fig1.savefig('png/episode{0:04d}.png'.format(episode))\n",
        "    fig2.savefig('png_2/episode{0:04d}.png'.format(episode))\n",
        "    plt.pause(0.001)"
      ],
      "execution_count": 0,
      "outputs": []
    },
    {
      "cell_type": "code",
      "metadata": {
        "id": "3U0OlAD8T3w1",
        "colab_type": "code",
        "colab": {}
      },
      "source": [
        "!zip -r png.zip png png_2"
      ],
      "execution_count": 0,
      "outputs": []
    },
    {
      "cell_type": "code",
      "metadata": {
        "id": "6EHUEf6tUrnh",
        "colab_type": "code",
        "colab": {}
      },
      "source": [
        "!cp -f png.zip /content/drive/'My Drive'/'Colab Notebooks'/"
      ],
      "execution_count": 0,
      "outputs": []
    },
    {
      "cell_type": "markdown",
      "metadata": {
        "id": "FpE6gyIlwqRH",
        "colab_type": "text"
      },
      "source": [
        "# New Section"
      ]
    }
  ]
}