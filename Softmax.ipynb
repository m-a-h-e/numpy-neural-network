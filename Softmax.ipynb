{
 "cells": [
  {
   "cell_type": "markdown",
   "metadata": {},
   "source": [
    "# The Softmax Function and it's Derivative\n",
    "\n",
    "---\n",
    ">We define n as the softmax output vector index and k as the softmax input vector index.\n",
    "\n",
    "---\n",
    "The softmax function is defined as:\n",
    "\n",
    "$$f(x)[n] = y[n] = \\frac{e^{x[n]}}{\\sum_{}^{}e^{x[k]}}$$\n",
    "\n",
    "---\n",
    "The derivative of softmax(x)[n] with respect to x[k] has to be divided into two cases:\n",
    "\n",
    ">The case in which n equals k:\n",
    "\n",
    "$$f'(x)[n] = y'[n] = \\frac{ e^{x[n]} * { \\sum_{}^{} e^{x[k]} } - e^{x[n]} * e^{x[k]}}{ (\\sum_{}^{} e^{x[k]})^2 }$$\n",
    "\n",
    "$$= \\frac{ e^{x[n]} }{ \\sum_{}^{} e^{x[k]} } - \\frac{ e^{x[n]} }{ \\sum_{}^{} e^{x[k]} } * \\frac{ e^{x[k]} }{ \\sum_{}^{} e^{x[k]} }$$\n",
    "\n",
    "$$= \\frac{ e^{x[n]} }{ \\sum_{}^{} e^{x[k]} } * 1 - \\frac{ e^{x[n]} }{ \\sum_{}^{} e^{x[k]} } * \\frac{ e^{x[k]} }{ \\sum_{}^{} e^{x[k]} }$$\n",
    "\n",
    "$$= \\frac{ e^{x[n]} }{ \\sum_{}^{} e^{x[k]} } * (1 - \\frac{ e^{x[n]} }{ \\sum_{}^{} e^{x[k]} })$$\n",
    "\n",
    "$$= y[n] * (1 - y[k])$$\n",
    "\n",
    ">The case in which n and k are not equal:\n",
    "\n",
    "$$f'(x)[n] = y'[n] = \\frac{ 0 * { \\sum_{}^{} e^{x[k]} } - e^{x[n]} * e^{x[k]}}{ (\\sum_{}^{} e^{x[k]})^2 }$$\n",
    "\n",
    "$$= 0 - \\frac{ e^{x[n]} }{ \\sum_{}^{} e^{x[k]} } * \\frac{ e^{x[k]} }{ \\sum_{}^{} e^{x[k]} }$$\n",
    "\n",
    "$$= \\frac{ e^{x[n]} }{ \\sum_{}^{} e^{x[k]} } * 0  - \\frac{ e^{x[n]} }{ \\sum_{}^{} e^{x[k]} } * \\frac{ e^{x[k]} }{ \\sum_{}^{} e^{x[k]} }$$\n",
    "\n",
    "$$= \\frac{ e^{x[n]} }{ \\sum_{}^{} e^{x[k]} } * (0 - \\frac{ e^{x[n]} }{ \\sum_{}^{} e^{x[k]} })$$\n",
    "\n",
    "$$= y[n] * (0 - y[k])$$\n"
   ]
  }
 ],
 "metadata": {
  "kernelspec": {
   "display_name": "Python 3",
   "language": "python",
   "name": "python3"
  },
  "language_info": {
   "codemirror_mode": {
    "name": "ipython",
    "version": 3
   },
   "file_extension": ".py",
   "mimetype": "text/x-python",
   "name": "python",
   "nbconvert_exporter": "python",
   "pygments_lexer": "ipython3",
   "version": "3.7.3"
  }
 },
 "nbformat": 4,
 "nbformat_minor": 2
}
